{
 "cells": [
  {
   "cell_type": "code",
   "execution_count": null,
   "metadata": {},
   "outputs": [],
   "source": [
    "#default_exp similarity"
   ]
  },
  {
   "cell_type": "markdown",
   "metadata": {},
   "source": [
    "# Member similarity\n",
    "> Computing the similarity of members of the Bundestag."
   ]
  },
  {
   "cell_type": "code",
   "execution_count": null,
   "metadata": {},
   "outputs": [],
   "source": [
    "%load_ext autoreload\n",
    "%autoreload 2"
   ]
  },
  {
   "cell_type": "markdown",
   "metadata": {},
   "source": [
    "## Setup"
   ]
  },
  {
   "cell_type": "code",
   "execution_count": 1,
   "metadata": {},
   "outputs": [],
   "source": [
    "#export\n",
    "import pandas as pd\n",
    "import typing\n",
    "import tqdm\n",
    "import numpy as np\n",
    "from sklearn.metrics.pairwise import pairwise_distances\n",
    "import pickle"
   ]
  },
  {
   "cell_type": "markdown",
   "metadata": {},
   "source": [
    "## Computing similarities between members of parliament based on their votes"
   ]
  },
  {
   "cell_type": "markdown",
   "metadata": {},
   "source": [
    "complicating factors:\n",
    "- not every parlamentarian voted for all the available issues\n",
    "- the union of issues voted on between parliamentarians may vary between all pairs of parliamentarian\n",
    "- similarity metric: cosine, agreement (# of same votes for all shared issues)"
   ]
  },
  {
   "cell_type": "code",
   "execution_count": 2,
   "metadata": {},
   "outputs": [
    {
     "name": "stdout",
     "output_type": "stream",
     "text": [
      "CPU times: user 125 ms, sys: 188 ms, total: 312 ms\n",
      "Wall time: 489 ms\n"
     ]
    }
   ],
   "source": [
    "%%time\n",
    "df = pd.read_parquet('../votes.parquet')"
   ]
  },
  {
   "cell_type": "code",
   "execution_count": 4,
   "metadata": {},
   "outputs": [
    {
     "data": {
      "text/html": [
       "<div>\n",
       "<style scoped>\n",
       "    .dataframe tbody tr th:only-of-type {\n",
       "        vertical-align: middle;\n",
       "    }\n",
       "\n",
       "    .dataframe tbody tr th {\n",
       "        vertical-align: top;\n",
       "    }\n",
       "\n",
       "    .dataframe thead th {\n",
       "        text-align: right;\n",
       "    }\n",
       "</style>\n",
       "<table border=\"1\" class=\"dataframe\">\n",
       "  <thead>\n",
       "    <tr style=\"text-align: right;\">\n",
       "      <th></th>\n",
       "      <th>0</th>\n",
       "      <th>1</th>\n",
       "      <th>2</th>\n",
       "      <th>3</th>\n",
       "      <th>4</th>\n",
       "    </tr>\n",
       "  </thead>\n",
       "  <tbody>\n",
       "    <tr>\n",
       "      <th>Wahlperiode</th>\n",
       "      <td>18</td>\n",
       "      <td>18</td>\n",
       "      <td>18</td>\n",
       "      <td>18</td>\n",
       "      <td>18</td>\n",
       "    </tr>\n",
       "    <tr>\n",
       "      <th>Sitzungnr</th>\n",
       "      <td>115</td>\n",
       "      <td>115</td>\n",
       "      <td>115</td>\n",
       "      <td>115</td>\n",
       "      <td>115</td>\n",
       "    </tr>\n",
       "    <tr>\n",
       "      <th>Abstimmnr</th>\n",
       "      <td>6</td>\n",
       "      <td>6</td>\n",
       "      <td>6</td>\n",
       "      <td>6</td>\n",
       "      <td>6</td>\n",
       "    </tr>\n",
       "    <tr>\n",
       "      <th>Fraktion/Gruppe</th>\n",
       "      <td>CDU/CSU</td>\n",
       "      <td>CDU/CSU</td>\n",
       "      <td>CDU/CSU</td>\n",
       "      <td>CDU/CSU</td>\n",
       "      <td>CDU/CSU</td>\n",
       "    </tr>\n",
       "    <tr>\n",
       "      <th>Name</th>\n",
       "      <td>Albani</td>\n",
       "      <td>Albsteiger</td>\n",
       "      <td>Altmaier</td>\n",
       "      <td>Auernhammer</td>\n",
       "      <td>Bär</td>\n",
       "    </tr>\n",
       "    <tr>\n",
       "      <th>Vorname</th>\n",
       "      <td>Stephan</td>\n",
       "      <td>Katrin</td>\n",
       "      <td>Peter</td>\n",
       "      <td>Artur</td>\n",
       "      <td>Dorothee</td>\n",
       "    </tr>\n",
       "    <tr>\n",
       "      <th>Titel</th>\n",
       "      <td>None</td>\n",
       "      <td>None</td>\n",
       "      <td>None</td>\n",
       "      <td>None</td>\n",
       "      <td>None</td>\n",
       "    </tr>\n",
       "    <tr>\n",
       "      <th>ja</th>\n",
       "      <td>1</td>\n",
       "      <td>1</td>\n",
       "      <td>0</td>\n",
       "      <td>1</td>\n",
       "      <td>1</td>\n",
       "    </tr>\n",
       "    <tr>\n",
       "      <th>nein</th>\n",
       "      <td>0</td>\n",
       "      <td>0</td>\n",
       "      <td>0</td>\n",
       "      <td>0</td>\n",
       "      <td>0</td>\n",
       "    </tr>\n",
       "    <tr>\n",
       "      <th>Enthaltung</th>\n",
       "      <td>0</td>\n",
       "      <td>0</td>\n",
       "      <td>0</td>\n",
       "      <td>0</td>\n",
       "      <td>0</td>\n",
       "    </tr>\n",
       "    <tr>\n",
       "      <th>ungültig</th>\n",
       "      <td>0</td>\n",
       "      <td>0</td>\n",
       "      <td>0</td>\n",
       "      <td>0</td>\n",
       "      <td>0</td>\n",
       "    </tr>\n",
       "    <tr>\n",
       "      <th>nichtabgegeben</th>\n",
       "      <td>0</td>\n",
       "      <td>0</td>\n",
       "      <td>1</td>\n",
       "      <td>0</td>\n",
       "      <td>0</td>\n",
       "    </tr>\n",
       "    <tr>\n",
       "      <th>Bezeichnung</th>\n",
       "      <td>Stephan Albani</td>\n",
       "      <td>Katrin Albsteiger</td>\n",
       "      <td>Peter Altmaier</td>\n",
       "      <td>Artur Auernhammer</td>\n",
       "      <td>Dorothee Bär</td>\n",
       "    </tr>\n",
       "    <tr>\n",
       "      <th>sheet_name</th>\n",
       "      <td>A_Export_Fraktionen_18_115_6</td>\n",
       "      <td>A_Export_Fraktionen_18_115_6</td>\n",
       "      <td>A_Export_Fraktionen_18_115_6</td>\n",
       "      <td>A_Export_Fraktionen_18_115_6</td>\n",
       "      <td>A_Export_Fraktionen_18_115_6</td>\n",
       "    </tr>\n",
       "    <tr>\n",
       "      <th>date</th>\n",
       "      <td>2015-07-02 00:00:00</td>\n",
       "      <td>2015-07-02 00:00:00</td>\n",
       "      <td>2015-07-02 00:00:00</td>\n",
       "      <td>2015-07-02 00:00:00</td>\n",
       "      <td>2015-07-02 00:00:00</td>\n",
       "    </tr>\n",
       "    <tr>\n",
       "      <th>title</th>\n",
       "      <td>Subventionen für britisches Atomwerk Hinkley ...</td>\n",
       "      <td>Subventionen für britisches Atomwerk Hinkley ...</td>\n",
       "      <td>Subventionen für britisches Atomwerk Hinkley ...</td>\n",
       "      <td>Subventionen für britisches Atomwerk Hinkley ...</td>\n",
       "      <td>Subventionen für britisches Atomwerk Hinkley ...</td>\n",
       "    </tr>\n",
       "    <tr>\n",
       "      <th>Bemerkung</th>\n",
       "      <td>None</td>\n",
       "      <td>None</td>\n",
       "      <td>None</td>\n",
       "      <td>None</td>\n",
       "      <td>None</td>\n",
       "    </tr>\n",
       "    <tr>\n",
       "      <th>AbgNr</th>\n",
       "      <td>NaN</td>\n",
       "      <td>NaN</td>\n",
       "      <td>NaN</td>\n",
       "      <td>NaN</td>\n",
       "      <td>NaN</td>\n",
       "    </tr>\n",
       "  </tbody>\n",
       "</table>\n",
       "</div>"
      ],
      "text/plain": [
       "                                                                 0  \\\n",
       "Wahlperiode                                                     18   \n",
       "Sitzungnr                                                      115   \n",
       "Abstimmnr                                                        6   \n",
       "Fraktion/Gruppe                                            CDU/CSU   \n",
       "Name                                                        Albani   \n",
       "Vorname                                                    Stephan   \n",
       "Titel                                                         None   \n",
       "ja                                                               1   \n",
       "nein                                                             0   \n",
       "Enthaltung                                                       0   \n",
       "ungültig                                                         0   \n",
       "nichtabgegeben                                                   0   \n",
       "Bezeichnung                                         Stephan Albani   \n",
       "sheet_name                            A_Export_Fraktionen_18_115_6   \n",
       "date                                           2015-07-02 00:00:00   \n",
       "title             Subventionen für britisches Atomwerk Hinkley ...   \n",
       "Bemerkung                                                     None   \n",
       "AbgNr                                                          NaN   \n",
       "\n",
       "                                                                 1  \\\n",
       "Wahlperiode                                                     18   \n",
       "Sitzungnr                                                      115   \n",
       "Abstimmnr                                                        6   \n",
       "Fraktion/Gruppe                                            CDU/CSU   \n",
       "Name                                                    Albsteiger   \n",
       "Vorname                                                     Katrin   \n",
       "Titel                                                         None   \n",
       "ja                                                               1   \n",
       "nein                                                             0   \n",
       "Enthaltung                                                       0   \n",
       "ungültig                                                         0   \n",
       "nichtabgegeben                                                   0   \n",
       "Bezeichnung                                      Katrin Albsteiger   \n",
       "sheet_name                            A_Export_Fraktionen_18_115_6   \n",
       "date                                           2015-07-02 00:00:00   \n",
       "title             Subventionen für britisches Atomwerk Hinkley ...   \n",
       "Bemerkung                                                     None   \n",
       "AbgNr                                                          NaN   \n",
       "\n",
       "                                                                 2  \\\n",
       "Wahlperiode                                                     18   \n",
       "Sitzungnr                                                      115   \n",
       "Abstimmnr                                                        6   \n",
       "Fraktion/Gruppe                                            CDU/CSU   \n",
       "Name                                                      Altmaier   \n",
       "Vorname                                                      Peter   \n",
       "Titel                                                         None   \n",
       "ja                                                               0   \n",
       "nein                                                             0   \n",
       "Enthaltung                                                       0   \n",
       "ungültig                                                         0   \n",
       "nichtabgegeben                                                   1   \n",
       "Bezeichnung                                         Peter Altmaier   \n",
       "sheet_name                            A_Export_Fraktionen_18_115_6   \n",
       "date                                           2015-07-02 00:00:00   \n",
       "title             Subventionen für britisches Atomwerk Hinkley ...   \n",
       "Bemerkung                                                     None   \n",
       "AbgNr                                                          NaN   \n",
       "\n",
       "                                                                 3  \\\n",
       "Wahlperiode                                                     18   \n",
       "Sitzungnr                                                      115   \n",
       "Abstimmnr                                                        6   \n",
       "Fraktion/Gruppe                                            CDU/CSU   \n",
       "Name                                                   Auernhammer   \n",
       "Vorname                                                      Artur   \n",
       "Titel                                                         None   \n",
       "ja                                                               1   \n",
       "nein                                                             0   \n",
       "Enthaltung                                                       0   \n",
       "ungültig                                                         0   \n",
       "nichtabgegeben                                                   0   \n",
       "Bezeichnung                                      Artur Auernhammer   \n",
       "sheet_name                            A_Export_Fraktionen_18_115_6   \n",
       "date                                           2015-07-02 00:00:00   \n",
       "title             Subventionen für britisches Atomwerk Hinkley ...   \n",
       "Bemerkung                                                     None   \n",
       "AbgNr                                                          NaN   \n",
       "\n",
       "                                                                 4  \n",
       "Wahlperiode                                                     18  \n",
       "Sitzungnr                                                      115  \n",
       "Abstimmnr                                                        6  \n",
       "Fraktion/Gruppe                                            CDU/CSU  \n",
       "Name                                                           Bär  \n",
       "Vorname                                                   Dorothee  \n",
       "Titel                                                         None  \n",
       "ja                                                               1  \n",
       "nein                                                             0  \n",
       "Enthaltung                                                       0  \n",
       "ungültig                                                         0  \n",
       "nichtabgegeben                                                   0  \n",
       "Bezeichnung                                           Dorothee Bär  \n",
       "sheet_name                            A_Export_Fraktionen_18_115_6  \n",
       "date                                           2015-07-02 00:00:00  \n",
       "title             Subventionen für britisches Atomwerk Hinkley ...  \n",
       "Bemerkung                                                     None  \n",
       "AbgNr                                                          NaN  "
      ]
     },
     "execution_count": 4,
     "metadata": {},
     "output_type": "execute_result"
    }
   ],
   "source": [
    "df.head().T"
   ]
  },
  {
   "cell_type": "code",
   "execution_count": 25,
   "metadata": {},
   "outputs": [],
   "source": [
    "#export\n",
    "VOTE_COLS = ['ja', 'nein', 'Enthaltung', 'ungültig', 'nichtabgegeben']\n",
    "def get_squished_dataframe(df:pd.DataFrame, id_col:str='Bezeichnung',\n",
    "                           feature_cols:typing.List[str]=VOTE_COLS,\n",
    "                           topic_cols:typing.List=['date', 'title'],\n",
    "                           other_cols:typing.List=None):\n",
    "    \n",
    "    other_cols = [] if other_cols is None else other_cols\n",
    "    tmp = df.loc[:, [id_col] + feature_cols + other_cols]\n",
    "    tmp['issue'] = df['date'].dt.date.apply(str) + ' ' + df['title']\n",
    "\n",
    "    tmp = tmp.set_index([id_col, 'issue'] + other_cols)\n",
    "    return (tmp[tmp == 1].stack()\n",
    "            .reset_index()\n",
    "            .drop(0,1)\n",
    "            .rename(columns={f'level_{2+len(other_cols)}':'vote'}))"
   ]
  },
  {
   "cell_type": "code",
   "execution_count": 26,
   "metadata": {
    "scrolled": true
   },
   "outputs": [
    {
     "name": "stdout",
     "output_type": "stream",
     "text": [
      "CPU times: user 406 ms, sys: 31.2 ms, total: 438 ms\n",
      "Wall time: 410 ms\n"
     ]
    }
   ],
   "source": [
    "%%time\n",
    "df_squished = get_squished_dataframe(df)"
   ]
  },
  {
   "cell_type": "code",
   "execution_count": 27,
   "metadata": {},
   "outputs": [
    {
     "data": {
      "text/html": [
       "<div>\n",
       "<style scoped>\n",
       "    .dataframe tbody tr th:only-of-type {\n",
       "        vertical-align: middle;\n",
       "    }\n",
       "\n",
       "    .dataframe tbody tr th {\n",
       "        vertical-align: top;\n",
       "    }\n",
       "\n",
       "    .dataframe thead th {\n",
       "        text-align: right;\n",
       "    }\n",
       "</style>\n",
       "<table border=\"1\" class=\"dataframe\">\n",
       "  <thead>\n",
       "    <tr style=\"text-align: right;\">\n",
       "      <th></th>\n",
       "      <th>Bezeichnung</th>\n",
       "      <th>issue</th>\n",
       "      <th>vote</th>\n",
       "    </tr>\n",
       "  </thead>\n",
       "  <tbody>\n",
       "    <tr>\n",
       "      <th>0</th>\n",
       "      <td>Stephan Albani</td>\n",
       "      <td>2015-07-02  Subventionen für britisches Atomwe...</td>\n",
       "      <td>ja</td>\n",
       "    </tr>\n",
       "    <tr>\n",
       "      <th>1</th>\n",
       "      <td>Katrin Albsteiger</td>\n",
       "      <td>2015-07-02  Subventionen für britisches Atomwe...</td>\n",
       "      <td>ja</td>\n",
       "    </tr>\n",
       "    <tr>\n",
       "      <th>2</th>\n",
       "      <td>Peter Altmaier</td>\n",
       "      <td>2015-07-02  Subventionen für britisches Atomwe...</td>\n",
       "      <td>nichtabgegeben</td>\n",
       "    </tr>\n",
       "    <tr>\n",
       "      <th>3</th>\n",
       "      <td>Artur Auernhammer</td>\n",
       "      <td>2015-07-02  Subventionen für britisches Atomwe...</td>\n",
       "      <td>ja</td>\n",
       "    </tr>\n",
       "    <tr>\n",
       "      <th>4</th>\n",
       "      <td>Dorothee Bär</td>\n",
       "      <td>2015-07-02  Subventionen für britisches Atomwe...</td>\n",
       "      <td>ja</td>\n",
       "    </tr>\n",
       "  </tbody>\n",
       "</table>\n",
       "</div>"
      ],
      "text/plain": [
       "         Bezeichnung                                              issue  \\\n",
       "0     Stephan Albani  2015-07-02  Subventionen für britisches Atomwe...   \n",
       "1  Katrin Albsteiger  2015-07-02  Subventionen für britisches Atomwe...   \n",
       "2     Peter Altmaier  2015-07-02  Subventionen für britisches Atomwe...   \n",
       "3  Artur Auernhammer  2015-07-02  Subventionen für britisches Atomwe...   \n",
       "4       Dorothee Bär  2015-07-02  Subventionen für britisches Atomwe...   \n",
       "\n",
       "             vote  \n",
       "0              ja  \n",
       "1              ja  \n",
       "2  nichtabgegeben  \n",
       "3              ja  \n",
       "4              ja  "
      ]
     },
     "execution_count": 27,
     "metadata": {},
     "output_type": "execute_result"
    }
   ],
   "source": [
    "df_squished.head()"
   ]
  },
  {
   "cell_type": "code",
   "execution_count": 28,
   "metadata": {},
   "outputs": [],
   "source": [
    "#hide\n",
    "assert all([v in df_squished.columns for v in ['Bezeichnung', 'issue', 'vote']])"
   ]
  },
  {
   "cell_type": "code",
   "execution_count": 32,
   "metadata": {
    "scrolled": true
   },
   "outputs": [
    {
     "name": "stdout",
     "output_type": "stream",
     "text": [
      "CPU times: user 438 ms, sys: 0 ns, total: 438 ms\n",
      "Wall time: 455 ms\n"
     ]
    }
   ],
   "source": [
    "%%time\n",
    "other_cols = ['date', 'Fraktion/Gruppe']\n",
    "df_squished_extended = get_squished_dataframe(df, other_cols=other_cols)"
   ]
  },
  {
   "cell_type": "code",
   "execution_count": 33,
   "metadata": {},
   "outputs": [
    {
     "data": {
      "text/html": [
       "<div>\n",
       "<style scoped>\n",
       "    .dataframe tbody tr th:only-of-type {\n",
       "        vertical-align: middle;\n",
       "    }\n",
       "\n",
       "    .dataframe tbody tr th {\n",
       "        vertical-align: top;\n",
       "    }\n",
       "\n",
       "    .dataframe thead th {\n",
       "        text-align: right;\n",
       "    }\n",
       "</style>\n",
       "<table border=\"1\" class=\"dataframe\">\n",
       "  <thead>\n",
       "    <tr style=\"text-align: right;\">\n",
       "      <th></th>\n",
       "      <th>Bezeichnung</th>\n",
       "      <th>issue</th>\n",
       "      <th>date</th>\n",
       "      <th>Fraktion/Gruppe</th>\n",
       "      <th>vote</th>\n",
       "    </tr>\n",
       "  </thead>\n",
       "  <tbody>\n",
       "    <tr>\n",
       "      <th>0</th>\n",
       "      <td>Stephan Albani</td>\n",
       "      <td>2015-07-02  Subventionen für britisches Atomwe...</td>\n",
       "      <td>2015-07-02</td>\n",
       "      <td>CDU/CSU</td>\n",
       "      <td>ja</td>\n",
       "    </tr>\n",
       "    <tr>\n",
       "      <th>1</th>\n",
       "      <td>Katrin Albsteiger</td>\n",
       "      <td>2015-07-02  Subventionen für britisches Atomwe...</td>\n",
       "      <td>2015-07-02</td>\n",
       "      <td>CDU/CSU</td>\n",
       "      <td>ja</td>\n",
       "    </tr>\n",
       "    <tr>\n",
       "      <th>2</th>\n",
       "      <td>Peter Altmaier</td>\n",
       "      <td>2015-07-02  Subventionen für britisches Atomwe...</td>\n",
       "      <td>2015-07-02</td>\n",
       "      <td>CDU/CSU</td>\n",
       "      <td>nichtabgegeben</td>\n",
       "    </tr>\n",
       "    <tr>\n",
       "      <th>3</th>\n",
       "      <td>Artur Auernhammer</td>\n",
       "      <td>2015-07-02  Subventionen für britisches Atomwe...</td>\n",
       "      <td>2015-07-02</td>\n",
       "      <td>CDU/CSU</td>\n",
       "      <td>ja</td>\n",
       "    </tr>\n",
       "    <tr>\n",
       "      <th>4</th>\n",
       "      <td>Dorothee Bär</td>\n",
       "      <td>2015-07-02  Subventionen für britisches Atomwe...</td>\n",
       "      <td>2015-07-02</td>\n",
       "      <td>CDU/CSU</td>\n",
       "      <td>ja</td>\n",
       "    </tr>\n",
       "  </tbody>\n",
       "</table>\n",
       "</div>"
      ],
      "text/plain": [
       "         Bezeichnung                                              issue  \\\n",
       "0     Stephan Albani  2015-07-02  Subventionen für britisches Atomwe...   \n",
       "1  Katrin Albsteiger  2015-07-02  Subventionen für britisches Atomwe...   \n",
       "2     Peter Altmaier  2015-07-02  Subventionen für britisches Atomwe...   \n",
       "3  Artur Auernhammer  2015-07-02  Subventionen für britisches Atomwe...   \n",
       "4       Dorothee Bär  2015-07-02  Subventionen für britisches Atomwe...   \n",
       "\n",
       "        date Fraktion/Gruppe            vote  \n",
       "0 2015-07-02         CDU/CSU              ja  \n",
       "1 2015-07-02         CDU/CSU              ja  \n",
       "2 2015-07-02         CDU/CSU  nichtabgegeben  \n",
       "3 2015-07-02         CDU/CSU              ja  \n",
       "4 2015-07-02         CDU/CSU              ja  "
      ]
     },
     "execution_count": 33,
     "metadata": {},
     "output_type": "execute_result"
    }
   ],
   "source": [
    "df_squished_extended.head()"
   ]
  },
  {
   "cell_type": "code",
   "execution_count": 34,
   "metadata": {},
   "outputs": [],
   "source": [
    "#hide\n",
    "assert len(df_squished) == len(df_squished_extended)\n",
    "assert all([v in df_squished_extended.columns for v in ['Bezeichnung', 'issue', 'vote']])"
   ]
  },
  {
   "cell_type": "code",
   "execution_count": 35,
   "metadata": {},
   "outputs": [],
   "source": [
    "#export\n",
    "def get_agreements_painfully_slow(df:pd.DataFrame, \n",
    "                                  member0:str, member1:str, \n",
    "                                  verbose:bool=False,\n",
    "                                  id_col:str='Bezeichnung'):\n",
    "    #TODO: prettify & speed test the calculation\n",
    "    members = df[id_col].unique()\n",
    "    assert member0 in members, f'{member0} not found'\n",
    "    assert member1 in members, f'{member1} not found'\n",
    "    res = {}\n",
    "    \n",
    "    member0_mask = df[id_col] == member0\n",
    "    member1_mask = df[id_col] == member1\n",
    "    \n",
    "    common_issues = set(df.loc[member0_mask,'issue'].values).intersection(df.loc[member1_mask,'issue'].values)\n",
    "\n",
    "    common_issue_mask = df['issue'].isin(common_issues)\n",
    "    votes0 = df.loc[member0_mask & common_issue_mask].sort_values('issue')\n",
    "    votes1 = df.loc[member1_mask & common_issue_mask].sort_values('issue')\n",
    "    n_issues = df.loc[common_issue_mask,'issue'].nunique()\n",
    "    \n",
    "    if n_issues == 0:\n",
    "        return res\n",
    "    \n",
    "    agreement_frac = (votes0['vote'].values == votes1['vote'].values).sum() / n_issues\n",
    "    if verbose: print(f'overall agreement {agreement_frac*100:.2f} %')\n",
    "    \n",
    "    res['overall_frac'] = agreement_frac\n",
    "    res['overall_total'] = n_issues\n",
    "    res['member0'] = member0\n",
    "    res['member1'] = member1\n",
    "    \n",
    "    for outcome in df.loc[common_issue_mask,'vote'].unique():\n",
    "\n",
    "        n_issues = df.loc[common_issue_mask & (df['vote']==outcome), 'issue'].nunique()\n",
    "        issues0 = votes0.loc[votes0['vote']==outcome, 'issue'].unique()\n",
    "        issues1 = votes1.loc[votes1['vote']==outcome, 'issue'].unique()\n",
    "        n_agree = len(set(issues0).intersection(issues1))\n",
    "        agreement_frac = n_agree / n_issues\n",
    "        if verbose: print(f'\"{outcome}\" agreement {agreement_frac*100:.2f} %')\n",
    "        res[f'{outcome}_frac'] = agreement_frac\n",
    "        res[f'{outcome}_total'] = n_issues\n",
    "    \n",
    "    return res"
   ]
  },
  {
   "cell_type": "code",
   "execution_count": 36,
   "metadata": {},
   "outputs": [
    {
     "data": {
      "text/plain": [
       "array(['Stephan Albani', 'Katrin Albsteiger', 'Peter Altmaier', ...,\n",
       "       'Dr. Hermann Ott', 'Dr. Dr. h.c. Bernd Fabritius',\n",
       "       'Susanne Kickbusch'], dtype=object)"
      ]
     },
     "execution_count": 36,
     "metadata": {},
     "output_type": "execute_result"
    }
   ],
   "source": [
    "members = df['Bezeichnung'].unique()\n",
    "num_members = len(members)\n",
    "members"
   ]
  },
  {
   "cell_type": "code",
   "execution_count": 37,
   "metadata": {},
   "outputs": [],
   "source": [
    "member0 = 'Peter Altmaier'\n",
    "#member1 = 'Hubertus Heil (Peine)'\n",
    "member1 = 'Dr. Angela Merkel'\n",
    "assert member0 in members, f'{member0} not found'\n",
    "assert member1 in members, f'{member1} not found'"
   ]
  },
  {
   "cell_type": "code",
   "execution_count": 38,
   "metadata": {},
   "outputs": [
    {
     "name": "stdout",
     "output_type": "stream",
     "text": [
      "overall agreement 68.00 %\n",
      "\"ja\" agreement 14.35 %\n",
      "\"nichtabgegeben\" agreement 48.24 %\n",
      "\"nein\" agreement 5.56 %\n",
      "\"Enthaltung\" agreement 0.00 %\n",
      "CPU times: user 203 ms, sys: 15.6 ms, total: 219 ms\n",
      "Wall time: 203 ms\n"
     ]
    },
    {
     "data": {
      "text/plain": [
       "{'overall_frac': 0.68,\n",
       " 'overall_total': 425,\n",
       " 'member0': 'Peter Altmaier',\n",
       " 'member1': 'Dr. Angela Merkel',\n",
       " 'ja_frac': 0.14352941176470588,\n",
       " 'ja_total': 425,\n",
       " 'nichtabgegeben_frac': 0.4823529411764706,\n",
       " 'nichtabgegeben_total': 425,\n",
       " 'nein_frac': 0.05555555555555555,\n",
       " 'nein_total': 414,\n",
       " 'Enthaltung_frac': 0.0,\n",
       " 'Enthaltung_total': 341}"
      ]
     },
     "execution_count": 38,
     "metadata": {},
     "output_type": "execute_result"
    }
   ],
   "source": [
    "%%time\n",
    "get_agreements_painfully_slow(df_squished, member0, member1, verbose=True)"
   ]
  },
  {
   "cell_type": "code",
   "execution_count": 39,
   "metadata": {},
   "outputs": [
    {
     "data": {
      "text/html": [
       "<div>\n",
       "<style scoped>\n",
       "    .dataframe tbody tr th:only-of-type {\n",
       "        vertical-align: middle;\n",
       "    }\n",
       "\n",
       "    .dataframe tbody tr th {\n",
       "        vertical-align: top;\n",
       "    }\n",
       "\n",
       "    .dataframe thead th {\n",
       "        text-align: right;\n",
       "    }\n",
       "</style>\n",
       "<table border=\"1\" class=\"dataframe\">\n",
       "  <thead>\n",
       "    <tr style=\"text-align: right;\">\n",
       "      <th></th>\n",
       "      <th>Bezeichnung</th>\n",
       "      <th>issue</th>\n",
       "      <th>vote</th>\n",
       "    </tr>\n",
       "  </thead>\n",
       "  <tbody>\n",
       "    <tr>\n",
       "      <th>0</th>\n",
       "      <td>Stephan Albani</td>\n",
       "      <td>2015-07-02  Subventionen für britisches Atomwe...</td>\n",
       "      <td>ja</td>\n",
       "    </tr>\n",
       "    <tr>\n",
       "      <th>1</th>\n",
       "      <td>Katrin Albsteiger</td>\n",
       "      <td>2015-07-02  Subventionen für britisches Atomwe...</td>\n",
       "      <td>ja</td>\n",
       "    </tr>\n",
       "    <tr>\n",
       "      <th>2</th>\n",
       "      <td>Peter Altmaier</td>\n",
       "      <td>2015-07-02  Subventionen für britisches Atomwe...</td>\n",
       "      <td>nichtabgegeben</td>\n",
       "    </tr>\n",
       "    <tr>\n",
       "      <th>3</th>\n",
       "      <td>Artur Auernhammer</td>\n",
       "      <td>2015-07-02  Subventionen für britisches Atomwe...</td>\n",
       "      <td>ja</td>\n",
       "    </tr>\n",
       "    <tr>\n",
       "      <th>4</th>\n",
       "      <td>Dorothee Bär</td>\n",
       "      <td>2015-07-02  Subventionen für britisches Atomwe...</td>\n",
       "      <td>ja</td>\n",
       "    </tr>\n",
       "  </tbody>\n",
       "</table>\n",
       "</div>"
      ],
      "text/plain": [
       "         Bezeichnung                                              issue  \\\n",
       "0     Stephan Albani  2015-07-02  Subventionen für britisches Atomwe...   \n",
       "1  Katrin Albsteiger  2015-07-02  Subventionen für britisches Atomwe...   \n",
       "2     Peter Altmaier  2015-07-02  Subventionen für britisches Atomwe...   \n",
       "3  Artur Auernhammer  2015-07-02  Subventionen für britisches Atomwe...   \n",
       "4       Dorothee Bär  2015-07-02  Subventionen für britisches Atomwe...   \n",
       "\n",
       "             vote  \n",
       "0              ja  \n",
       "1              ja  \n",
       "2  nichtabgegeben  \n",
       "3              ja  \n",
       "4              ja  "
      ]
     },
     "execution_count": 39,
     "metadata": {},
     "output_type": "execute_result"
    }
   ],
   "source": [
    "df_squished.head()"
   ]
  },
  {
   "cell_type": "markdown",
   "metadata": {},
   "source": [
    "General agreement\n",
    "TODO: figure out how to do the relative ranking. one would need to count all the decisions which were the same as well as how many were different. the first part is a normal matrix product. the second part would be a matrix product with and \"or\" instead of the \"and\" condition of the normal matrix product. not sure how to do this yet"
   ]
  },
  {
   "cell_type": "code",
   "execution_count": null,
   "metadata": {},
   "outputs": [],
   "source": [
    "#export\n",
    "def get_dummy(df:pd.DataFrame, mask:pd.Series):\n",
    "    return (df.loc[mask]\n",
    "            .assign(dummy=True)\n",
    "            .pivot_table(index='Bezeichnung', columns='issue', values='dummy', fill_value=False)\n",
    "            .astype(bool))\n",
    "\n",
    "def scan_all_agreements(df:pd.DataFrame):\n",
    "    outcomes = df['vote'].unique()\n",
    "    agreements = {}\n",
    "    for outcome in tqdm.tqdm(outcomes, desc='Outcome', total=len(outcomes)):\n",
    "        mask = df['vote']==outcome\n",
    "        tmp = get_dummy(df, mask=mask)\n",
    "        members = tmp.index.values\n",
    "        similarity = 1 - pairwise_distances(tmp.values, metric='jaccard')\n",
    "        similarity = 100 * similarity\n",
    "        agreements[outcome] = pd.DataFrame(similarity, columns=members, index=members)\n",
    "    \n",
    "    tmp = get_dummy(df, df['vote'].notna()).astype(float)\n",
    "    members = tmp.index.values\n",
    "    tmp = np.dot(tmp.values, tmp.values.T)\n",
    "    agreements['total_shared_votes'] = pd.DataFrame(tmp, \n",
    "                                                    columns=members, \n",
    "                                                    index=members)\n",
    "    \n",
    "    return agreements"
   ]
  },
  {
   "cell_type": "code",
   "execution_count": null,
   "metadata": {},
   "outputs": [],
   "source": [
    "%%time\n",
    "agreements = scan_all_agreements(df_squished)"
   ]
  },
  {
   "cell_type": "code",
   "execution_count": null,
   "metadata": {},
   "outputs": [],
   "source": [
    "assert all([v in agreements for v in df_squished['vote'].unique()])\n",
    "assert 'total_shared_votes' in agreements\n",
    "assert all([isinstance(v, pd.DataFrame) for v in agreements.values()])"
   ]
  },
  {
   "cell_type": "code",
   "execution_count": null,
   "metadata": {},
   "outputs": [],
   "source": [
    "agreements"
   ]
  },
  {
   "cell_type": "markdown",
   "metadata": {},
   "source": [
    "Saving results"
   ]
  },
  {
   "cell_type": "code",
   "execution_count": null,
   "metadata": {},
   "outputs": [],
   "source": [
    "with open('../similarities.pkl', 'wb') as f:\n",
    "    pickle.dump(agreements, f)"
   ]
  },
  {
   "cell_type": "code",
   "execution_count": null,
   "metadata": {},
   "outputs": [],
   "source": []
  }
 ],
 "metadata": {
  "kernelspec": {
   "display_name": "Python [conda env:py38_fastai]",
   "language": "python",
   "name": "conda-env-py38_fastai-py"
  },
  "language_info": {
   "codemirror_mode": {
    "name": "ipython",
    "version": 3
   },
   "file_extension": ".py",
   "mimetype": "text/x-python",
   "name": "python",
   "nbconvert_exporter": "python",
   "pygments_lexer": "ipython3",
   "version": "3.8.5"
  },
  "toc": {
   "base_numbering": 1,
   "nav_menu": {},
   "number_sections": true,
   "sideBar": true,
   "skip_h1_title": false,
   "title_cell": "Table of Contents",
   "title_sidebar": "Contents",
   "toc_cell": false,
   "toc_position": {},
   "toc_section_display": true,
   "toc_window_display": false
  }
 },
 "nbformat": 4,
 "nbformat_minor": 4
}
