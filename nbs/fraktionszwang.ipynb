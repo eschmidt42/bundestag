{
 "cells": [
  {
   "cell_type": "markdown",
   "id": "0",
   "metadata": {},
   "source": [
    "Objective: Get insight into [\"Fraktionszwang\"](https://de.wikipedia.org/wiki/Fraktionsdisziplin) using voting behavior data from the bundestag and abgeordnetenwatch."
   ]
  },
  {
   "cell_type": "markdown",
   "id": "1",
   "metadata": {},
   "source": [
    "Fraktionszwang should become evident by how diverse the votes are by one party across different polls."
   ]
  },
  {
   "cell_type": "code",
   "execution_count": null,
   "id": "2",
   "metadata": {},
   "outputs": [],
   "source": [
    "%load_ext autoreload\n",
    "%autoreload 2"
   ]
  },
  {
   "cell_type": "code",
   "execution_count": null,
   "id": "3",
   "metadata": {},
   "outputs": [],
   "source": [
    "import polars as pl\n",
    "from plotnine import (\n",
    "    ggplot,\n",
    "    aes,\n",
    "    geom_point,\n",
    "    labs,\n",
    "    scale_y_continuous,\n",
    "    facet_wrap,\n",
    "    theme,\n",
    "    geom_line,\n",
    "    scale_color_manual,\n",
    ")\n",
    "\n",
    "from bundestag.fine_logging import setup_logging\n",
    "import logging\n",
    "from bundestag.paths import get_paths\n",
    "\n",
    "logger = logging.getLogger(__name__)\n",
    "setup_logging(logging.INFO)\n",
    "\n",
    "paths = get_paths(\"../data\")\n",
    "paths"
   ]
  },
  {
   "cell_type": "code",
   "execution_count": null,
   "id": "4",
   "metadata": {},
   "outputs": [],
   "source": [
    "file = paths.preprocessed_bundestag / \"bundestag.de_votes.parquet\"\n",
    "file"
   ]
  },
  {
   "cell_type": "code",
   "execution_count": null,
   "id": "5",
   "metadata": {},
   "outputs": [],
   "source": [
    "data_bundestag = pl.read_parquet(file)\n",
    "\n",
    "data_bundestag.head()"
   ]
  },
  {
   "cell_type": "markdown",
   "id": "6",
   "metadata": {},
   "source": [
    "Use a single name for \"Die Linke\""
   ]
  },
  {
   "cell_type": "code",
   "execution_count": null,
   "id": "7",
   "metadata": {},
   "outputs": [],
   "source": [
    "data_bundestag[\"Fraktion/Gruppe\"].value_counts()"
   ]
  },
  {
   "cell_type": "code",
   "execution_count": null,
   "id": "8",
   "metadata": {},
   "outputs": [],
   "source": [
    "data_bundestag = data_bundestag.with_columns(\n",
    "    **{\n",
    "        \"Fraktion/Gruppe\": pl.when(pl.col(\"Fraktion/Gruppe\").eq(pl.lit(\"DIE LINKE.\")))\n",
    "        .then(pl.lit(\"Die Linke\"))\n",
    "        .otherwise(pl.col(\"Fraktion/Gruppe\"))\n",
    "    }\n",
    ")"
   ]
  },
  {
   "cell_type": "code",
   "execution_count": null,
   "id": "9",
   "metadata": {},
   "outputs": [],
   "source": [
    "data_bundestag[\"Fraktion/Gruppe\"].value_counts()"
   ]
  },
  {
   "cell_type": "markdown",
   "id": "10",
   "metadata": {},
   "source": [
    "How many things are voted on per day over time?"
   ]
  },
  {
   "cell_type": "code",
   "execution_count": null,
   "id": "11",
   "metadata": {},
   "outputs": [],
   "source": [
    "things_per_day_over_time = data_bundestag.group_by(\"date\").agg(\n",
    "    pl.col(\"Abstimmnr\").n_unique().alias(\"n\")\n",
    ")\n",
    "things_per_day_over_time.head()"
   ]
  },
  {
   "cell_type": "code",
   "execution_count": null,
   "id": "12",
   "metadata": {},
   "outputs": [],
   "source": [
    "(\n",
    "    ggplot(things_per_day_over_time, aes(\"date\", \"n\"))\n",
    "    + geom_point()\n",
    "    + labs(\n",
    "        title=\"# Abstimmungsnr per day over time\", x=\"Date\", y=\"# unique Abstimmungsnr\"\n",
    "    )\n",
    "    + scale_y_continuous(breaks=[0, 2, 4, 6, 8, 10])\n",
    ")"
   ]
  },
  {
   "cell_type": "markdown",
   "id": "13",
   "metadata": {},
   "source": [
    "How many members vote per poll over time?"
   ]
  },
  {
   "cell_type": "code",
   "execution_count": null,
   "id": "14",
   "metadata": {},
   "outputs": [],
   "source": [
    "members_per_poll_per_day_over_time = data_bundestag.group_by([\"date\", \"Abstimmnr\"]).agg(\n",
    "    pl.col(\"Bezeichnung\").n_unique().alias(\"n\")\n",
    ")\n",
    "members_per_poll_per_day_over_time.head()"
   ]
  },
  {
   "cell_type": "code",
   "execution_count": null,
   "id": "15",
   "metadata": {},
   "outputs": [],
   "source": [
    "(\n",
    "    ggplot(members_per_poll_per_day_over_time, aes(\"date\", \"n\"))\n",
    "    + geom_point()\n",
    "    + labs(title=\"# Members voting per poll per day over time\", x=\"Date\", y=\"# members\")\n",
    "    # + theme(figure_size=)\n",
    ")"
   ]
  },
  {
   "cell_type": "markdown",
   "id": "16",
   "metadata": {},
   "source": [
    "Count of vote types by date, poll and party over time."
   ]
  },
  {
   "cell_type": "code",
   "execution_count": null,
   "id": "17",
   "metadata": {},
   "outputs": [],
   "source": [
    "member_votes_per_faction_per_poll_per_day_over_time = (\n",
    "    data_bundestag.group_by([\"date\", \"Abstimmnr\", \"Fraktion/Gruppe\", \"vote\"])\n",
    "    .agg(pl.col(\"Bezeichnung\").n_unique().alias(\"n\"))\n",
    "    .sort(\"date\", \"Abstimmnr\", \"Fraktion/Gruppe\", \"vote\")\n",
    ")\n",
    "\n",
    "member_votes_per_faction_per_poll_per_day_over_time.head()"
   ]
  },
  {
   "cell_type": "code",
   "execution_count": null,
   "id": "18",
   "metadata": {},
   "outputs": [],
   "source": [
    "member_votes_per_faction_per_poll_per_day_over_time = (\n",
    "    member_votes_per_faction_per_poll_per_day_over_time.with_columns(\n",
    "        (\n",
    "            pl.col(\"n\") / pl.sum(\"n\").over([\"date\", \"Abstimmnr\", \"Fraktion/Gruppe\"])\n",
    "        ).alias(\"vote share\")\n",
    "    )\n",
    ")\n",
    "member_votes_per_faction_per_poll_per_day_over_time.head()"
   ]
  },
  {
   "cell_type": "code",
   "execution_count": null,
   "id": "19",
   "metadata": {},
   "outputs": [],
   "source": [
    "(\n",
    "    ggplot(\n",
    "        member_votes_per_faction_per_poll_per_day_over_time,\n",
    "        aes(\"date\", \"vote share\", color=\"vote\"),\n",
    "    )\n",
    "    + geom_point(alpha=0.3)\n",
    "    + labs(\n",
    "        title=\"Voting shares per poll per day over time\", x=\"Date\", y=\"Vote fraction\"\n",
    "    )\n",
    "    + facet_wrap(\"Fraktion/Gruppe\", ncol=1)\n",
    "    + scale_y_continuous(limits=(0, 1), breaks=[0, 0.25, 0.5, 0.75, 1.0])\n",
    "    + theme(figure_size=(10, 16), subplots_adjust={\"hspace\": 0.35})\n",
    "    + scale_color_manual(\n",
    "        breaks=[\"ja\", \"nein\", \"nichtabgegeben\", \"Enthaltung\"],\n",
    "        values=[\"green\", \"red\", \"grey\", \"orange\"],\n",
    "    )\n",
    ")"
   ]
  },
  {
   "cell_type": "code",
   "execution_count": null,
   "id": "20",
   "metadata": {},
   "outputs": [],
   "source": [
    "member_votes_per_faction_per_poll_per_day_over_time.with_columns(\n",
    "    pl.col(\"vote share\").log(base=2)\n",
    ")"
   ]
  },
  {
   "cell_type": "code",
   "execution_count": null,
   "id": "21",
   "metadata": {},
   "outputs": [],
   "source": [
    "entropy_per_poll_faction = (\n",
    "    member_votes_per_faction_per_poll_per_day_over_time.with_columns(\n",
    "        pl.col(\"vote share\").log(base=2).alias(\"log p\")\n",
    "    )\n",
    "    .group_by([\"date\", \"Abstimmnr\", \"Fraktion/Gruppe\"])\n",
    "    .agg(\n",
    "        -pl.when(pl.col(\"vote share\") > 0)\n",
    "        .then(pl.col(\"vote share\") * pl.col(\"log p\"))\n",
    "        .otherwise(0)\n",
    "        .sum()\n",
    "        .alias(\"shannon entropy\")\n",
    "    )\n",
    ")\n",
    "\n",
    "entropy_per_poll_faction.head()"
   ]
  },
  {
   "cell_type": "code",
   "execution_count": null,
   "id": "22",
   "metadata": {},
   "outputs": [],
   "source": [
    "party_colos = scale_color_manual(\n",
    "    breaks=[\n",
    "        \"AfD\",\n",
    "        \"BSW\",\n",
    "        \"BÜ90/GR\",\n",
    "        \"CDU/CSU\",\n",
    "        \"Die Linke\",\n",
    "        \"FDP\",\n",
    "        \"Fraktionslos\",\n",
    "        \"SPD\",\n",
    "    ],\n",
    "    values=[\"blue\", \"purple\", \"green\", \"black\", \"red\", \"yellow\", \"grey\", \"salmon\"],\n",
    ")\n",
    "\n",
    "(\n",
    "    ggplot(\n",
    "        entropy_per_poll_faction,\n",
    "        aes(\"date\", \"shannon entropy\", color=\"Fraktion/Gruppe\"),\n",
    "    )\n",
    "    + geom_point()\n",
    "    + labs(\n",
    "        title=\"Voting entropy per poll per day over time\",\n",
    "        x=\"Date\",\n",
    "        y=\"Shannon entropy (smaller = more Fraktionszwang)\",\n",
    "    )\n",
    "    + facet_wrap(\"Fraktion/Gruppe\", ncol=1)\n",
    "    + theme(figure_size=(10, 16), subplots_adjust={\"hspace\": 0.35})\n",
    "    + party_colos\n",
    ")"
   ]
  },
  {
   "cell_type": "markdown",
   "id": "23",
   "metadata": {},
   "source": [
    "Now we compute the rolling median of `shannon entropy` over 10 polls for each `Fraktion/Gruppe`."
   ]
  },
  {
   "cell_type": "code",
   "execution_count": null,
   "id": "24",
   "metadata": {},
   "outputs": [],
   "source": [
    "n_polls_to_average = 30\n",
    "\n",
    "entropy_per_poll_faction = entropy_per_poll_faction.sort(\"date\").with_columns(\n",
    "    pl.col(\"shannon entropy\")\n",
    "    .rolling_median(window_size=n_polls_to_average)\n",
    "    .over(\"Fraktion/Gruppe\")\n",
    "    .alias(\"shannon_entropy_rolling_median\")\n",
    ")\n",
    "entropy_per_poll_faction.head()"
   ]
  },
  {
   "cell_type": "markdown",
   "id": "25",
   "metadata": {},
   "source": [
    "Now let's plot the original `shannon entropy` and the `shannon_entropy_rolling_median` to see the effect of the rolling median."
   ]
  },
  {
   "cell_type": "code",
   "execution_count": null,
   "id": "26",
   "metadata": {},
   "outputs": [],
   "source": [
    "(\n",
    "    ggplot(entropy_per_poll_faction, aes(x=\"date\", color=\"Fraktion/Gruppe\"))\n",
    "    + geom_line(aes(y=\"shannon_entropy_rolling_median\"))\n",
    "    + labs(\n",
    "        title=f\"Voting entropy per poll per day over time with rolling median (n={n_polls_to_average})\",\n",
    "        x=\"Date\",\n",
    "        y=\"Shannon entropy (smaller = more Fraktionszwang)\",\n",
    "    )\n",
    "    + theme(figure_size=(8, 6), subplots_adjust={\"hspace\": 0.35})\n",
    "    + party_colos\n",
    ")"
   ]
  },
  {
   "cell_type": "markdown",
   "id": "27",
   "metadata": {},
   "source": [
    "same as above but using abgeordnetenwatch data"
   ]
  },
  {
   "cell_type": "code",
   "execution_count": null,
   "id": "28",
   "metadata": {},
   "outputs": [],
   "source": [
    "from bundestag.data.transform.abgeordnetenwatch.transform import (\n",
    "    get_polls_parquet_path,\n",
    "    get_votes_parquet_path,\n",
    "    get_mandates_parquet_path,\n",
    ")"
   ]
  },
  {
   "cell_type": "code",
   "execution_count": null,
   "id": "29",
   "metadata": {},
   "outputs": [],
   "source": [
    "legislature_ids = [67, 83, 97, 111, 132, 161]"
   ]
  },
  {
   "cell_type": "code",
   "execution_count": null,
   "id": "30",
   "metadata": {},
   "outputs": [],
   "source": [
    "tmp = []\n",
    "for legislature_id in legislature_ids:\n",
    "    p = get_polls_parquet_path(legislature_id, paths.preprocessed_abgeordnetenwatch)\n",
    "    _mandates = pl.read_parquet(p)\n",
    "    _mandates = _mandates.with_columns(**{\"legislature_id\": legislature_id})\n",
    "    tmp.append(_mandates)\n",
    "\n",
    "polls = pl.concat(tmp, how=\"diagonal_relaxed\")\n",
    "polls.head(2), polls.tail(2)"
   ]
  },
  {
   "cell_type": "code",
   "execution_count": null,
   "id": "31",
   "metadata": {},
   "outputs": [],
   "source": [
    "tmp = []\n",
    "for legislature_id in legislature_ids:\n",
    "    p = get_votes_parquet_path(legislature_id, paths.preprocessed_abgeordnetenwatch)\n",
    "    _mandates = pl.read_parquet(p)\n",
    "    _mandates = _mandates.with_columns(**{\"legislature_id\": legislature_id})\n",
    "    tmp.append(_mandates)\n",
    "\n",
    "votes = pl.concat(tmp, how=\"diagonal_relaxed\")\n",
    "votes.head(2), votes.tail(2)"
   ]
  },
  {
   "cell_type": "code",
   "execution_count": null,
   "id": "32",
   "metadata": {},
   "outputs": [],
   "source": [
    "tmp = []\n",
    "for legislature_id in legislature_ids:\n",
    "    p = get_mandates_parquet_path(legislature_id, paths.preprocessed_abgeordnetenwatch)\n",
    "    _mandates = pl.read_parquet(p)\n",
    "    _mandates = _mandates.with_columns(**{\"legislature_id\": legislature_id})\n",
    "    tmp.append(_mandates)\n",
    "\n",
    "mandates = pl.concat(tmp, how=\"diagonal_relaxed\")\n",
    "mandates.head(2), mandates.tail(2)"
   ]
  },
  {
   "cell_type": "code",
   "execution_count": null,
   "id": "33",
   "metadata": {},
   "outputs": [],
   "source": [
    "data_abgeordnetenwatch = polls.join(\n",
    "    votes, on=[\"legislature_id\", \"poll_id\"], how=\"left\"\n",
    ").join(mandates, on=[\"legislature_id\", \"mandate_id\"], how=\"left\")"
   ]
  },
  {
   "cell_type": "code",
   "execution_count": null,
   "id": "34",
   "metadata": {},
   "outputs": [],
   "source": [
    "data_abgeordnetenwatch = data_abgeordnetenwatch.with_columns(\n",
    "    **{\"date\": pl.col(\"poll_date\").str.to_date(format=\"%Y-%m-%d\")}\n",
    ")"
   ]
  },
  {
   "cell_type": "code",
   "execution_count": null,
   "id": "35",
   "metadata": {},
   "outputs": [],
   "source": [
    "data_abgeordnetenwatch[\"party\"].unique().to_list()"
   ]
  },
  {
   "cell_type": "code",
   "execution_count": null,
   "id": "36",
   "metadata": {},
   "outputs": [],
   "source": [
    "data_abgeordnetenwatch = data_abgeordnetenwatch.with_columns(\n",
    "    **{\n",
    "        \"party\": pl.when(\n",
    "            pl.col(\"party\").is_in(pl.lit([\"DIE LINKE\", \"Die Linke. (Gruppe)\"]))\n",
    "        )\n",
    "        .then(pl.lit(\"Die Linke\"))\n",
    "        .otherwise(pl.col(\"party\"))\n",
    "    }\n",
    ").with_columns(\n",
    "    **{\n",
    "        \"party\": pl.when(pl.col(\"party\").is_in(pl.lit([\"DIE GRÜNEN\"])))\n",
    "        .then(pl.lit(\"BÜNDNIS 90/DIE GRÜNEN\"))\n",
    "        .otherwise(pl.col(\"party\"))\n",
    "    }\n",
    ")"
   ]
  },
  {
   "cell_type": "code",
   "execution_count": null,
   "id": "37",
   "metadata": {},
   "outputs": [],
   "source": [
    "data_abgeordnetenwatch[\"party\"].unique().to_list()"
   ]
  },
  {
   "cell_type": "code",
   "execution_count": null,
   "id": "38",
   "metadata": {},
   "outputs": [],
   "source": [
    "things_per_day_over_time = data_abgeordnetenwatch.group_by(\"date\").agg(\n",
    "    pl.col(\"poll_id\").n_unique().alias(\"n\")\n",
    ")\n",
    "things_per_day_over_time.head()"
   ]
  },
  {
   "cell_type": "code",
   "execution_count": null,
   "id": "39",
   "metadata": {},
   "outputs": [],
   "source": [
    "(\n",
    "    ggplot(things_per_day_over_time, aes(\"date\", \"n\"))\n",
    "    + geom_point()\n",
    "    + labs(title=\"# poll_ids per day over time\", x=\"Date\", y=\"# unique poll_ids\")\n",
    "    + scale_y_continuous(breaks=[0, 2, 4, 6, 8, 10])\n",
    ")"
   ]
  },
  {
   "cell_type": "code",
   "execution_count": null,
   "id": "40",
   "metadata": {},
   "outputs": [],
   "source": [
    "members_per_poll_per_day_over_time = data_abgeordnetenwatch.group_by(\n",
    "    [\"date\", \"poll_id\"]\n",
    ").agg(pl.col(\"mandate_id\").n_unique().alias(\"n\"))\n",
    "members_per_poll_per_day_over_time.head()"
   ]
  },
  {
   "cell_type": "code",
   "execution_count": null,
   "id": "41",
   "metadata": {},
   "outputs": [],
   "source": [
    "(\n",
    "    ggplot(members_per_poll_per_day_over_time, aes(\"date\", \"n\"))\n",
    "    + geom_point()\n",
    "    + labs(title=\"# Members voting per poll per day over time\", x=\"Date\", y=\"# members\")\n",
    "    # + theme(figure_size=)\n",
    ")"
   ]
  },
  {
   "cell_type": "code",
   "execution_count": null,
   "id": "42",
   "metadata": {},
   "outputs": [],
   "source": [
    "data_abgeordnetenwatch.head()"
   ]
  },
  {
   "cell_type": "code",
   "execution_count": null,
   "id": "43",
   "metadata": {},
   "outputs": [],
   "source": [
    "member_votes_per_faction_per_poll_per_day_over_time = (\n",
    "    data_abgeordnetenwatch.group_by([\"date\", \"poll_id\", \"party\", \"vote\"])\n",
    "    .agg(pl.col(\"mandate_id\").n_unique().alias(\"n\"))\n",
    "    .sort(\"date\", \"poll_id\", \"party\", \"vote\")\n",
    ")\n",
    "\n",
    "member_votes_per_faction_per_poll_per_day_over_time.head()"
   ]
  },
  {
   "cell_type": "code",
   "execution_count": null,
   "id": "44",
   "metadata": {},
   "outputs": [],
   "source": [
    "member_votes_per_faction_per_poll_per_day_over_time = (\n",
    "    member_votes_per_faction_per_poll_per_day_over_time.with_columns(\n",
    "        (pl.col(\"n\") / pl.sum(\"n\").over([\"date\", \"poll_id\", \"party\"])).alias(\n",
    "            \"vote share\"\n",
    "        )\n",
    "    )\n",
    ")\n",
    "member_votes_per_faction_per_poll_per_day_over_time.head()"
   ]
  },
  {
   "cell_type": "code",
   "execution_count": null,
   "id": "45",
   "metadata": {},
   "outputs": [],
   "source": [
    "(\n",
    "    ggplot(\n",
    "        member_votes_per_faction_per_poll_per_day_over_time,\n",
    "        aes(\"date\", \"vote share\", color=\"vote\"),\n",
    "    )\n",
    "    + geom_point(alpha=0.3)\n",
    "    + labs(\n",
    "        title=\"Voting shares per poll per day over time\", x=\"Date\", y=\"Vote fraction\"\n",
    "    )\n",
    "    + facet_wrap(\"party\", ncol=1)\n",
    "    + scale_y_continuous(limits=(0, 1), breaks=[0, 0.25, 0.5, 0.75, 1.0])\n",
    "    + theme(figure_size=(10, 16), subplots_adjust={\"hspace\": 0.35})\n",
    "    + scale_color_manual(\n",
    "        breaks=[\"yes\", \"no\", \"no_show\", \"abstain\"],\n",
    "        values=[\"green\", \"red\", \"grey\", \"orange\"],\n",
    "    )\n",
    ")"
   ]
  },
  {
   "cell_type": "code",
   "execution_count": null,
   "id": "46",
   "metadata": {},
   "outputs": [],
   "source": [
    "entropy_per_poll_faction = (\n",
    "    member_votes_per_faction_per_poll_per_day_over_time.with_columns(\n",
    "        pl.col(\"vote share\").log(base=2).alias(\"log p\")\n",
    "    )\n",
    "    .group_by([\"date\", \"poll_id\", \"party\"])\n",
    "    .agg(\n",
    "        -pl.when(pl.col(\"vote share\") > 0)\n",
    "        .then(pl.col(\"vote share\") * pl.col(\"log p\"))\n",
    "        .otherwise(0)\n",
    "        .sum()\n",
    "        .alias(\"shannon entropy\")\n",
    "    )\n",
    ")\n",
    "\n",
    "entropy_per_poll_faction.head()"
   ]
  },
  {
   "cell_type": "code",
   "execution_count": null,
   "id": "47",
   "metadata": {},
   "outputs": [],
   "source": [
    "party_colos = scale_color_manual(\n",
    "    breaks=[\n",
    "        \"AfD\",\n",
    "        \"BSW (Gruppe)\",\n",
    "        \"BÜNDNIS 90/DIE GRÜNEN\",\n",
    "        \"CDU/CSU\",\n",
    "        \"Die Linke\",\n",
    "        \"FDP\",\n",
    "        \"Fraktionslos\",\n",
    "        \"SPD\",\n",
    "    ],\n",
    "    values=[\"blue\", \"purple\", \"green\", \"black\", \"red\", \"yellow\", \"grey\", \"salmon\"],\n",
    ")\n",
    "\n",
    "(\n",
    "    ggplot(entropy_per_poll_faction, aes(\"date\", \"shannon entropy\", color=\"party\"))\n",
    "    + geom_point()\n",
    "    + labs(\n",
    "        title=\"Voting entropy per poll per day over time\",\n",
    "        x=\"Date\",\n",
    "        y=\"Shannon entropy (smaller = more Fraktionszwang)\",\n",
    "    )\n",
    "    + facet_wrap(\"party\", ncol=1)\n",
    "    + theme(figure_size=(10, 16), subplots_adjust={\"hspace\": 0.35})\n",
    "    + party_colos\n",
    ")"
   ]
  },
  {
   "cell_type": "code",
   "execution_count": null,
   "id": "48",
   "metadata": {},
   "outputs": [],
   "source": [
    "n_polls_to_average = 30\n",
    "\n",
    "entropy_per_poll_faction = entropy_per_poll_faction.sort(\"date\").with_columns(\n",
    "    pl.col(\"shannon entropy\")\n",
    "    .rolling_median(window_size=n_polls_to_average)\n",
    "    .over(\"party\")\n",
    "    .alias(\"shannon_entropy_rolling_median\")\n",
    ")\n",
    "entropy_per_poll_faction.head()"
   ]
  },
  {
   "cell_type": "code",
   "execution_count": null,
   "id": "49",
   "metadata": {},
   "outputs": [],
   "source": [
    "(\n",
    "    ggplot(entropy_per_poll_faction, aes(x=\"date\", color=\"party\"))\n",
    "    + geom_line(aes(y=\"shannon_entropy_rolling_median\"))\n",
    "    + labs(\n",
    "        title=\"Voting entropy per poll per day over time with rolling median (n=10)\",\n",
    "        x=\"Date\",\n",
    "        y=\"Shannon entropy (smaller = more Fraktionszwang)\",\n",
    "    )\n",
    "    + theme(figure_size=(8, 6), subplots_adjust={\"hspace\": 0.35})\n",
    "    + party_colos\n",
    ")"
   ]
  },
  {
   "cell_type": "code",
   "execution_count": null,
   "id": "50",
   "metadata": {},
   "outputs": [],
   "source": [
    "import math\n",
    "\n",
    "-math.log(1 / 5)"
   ]
  }
 ],
 "metadata": {
  "language_info": {
   "codemirror_mode": {
    "name": "ipython",
    "version": 3
   },
   "file_extension": ".py",
   "mimetype": "text/x-python",
   "name": "python",
   "nbconvert_exporter": "python",
   "pygments_lexer": "ipython3",
   "version": "3.12.10"
  }
 },
 "nbformat": 4,
 "nbformat_minor": 5
}
