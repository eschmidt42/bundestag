{
 "cells": [
  {
   "cell_type": "markdown",
   "metadata": {},
   "source": [
    "# Analytics\n",
    "> Investigating voting behavior."
   ]
  },
  {
   "cell_type": "code",
   "execution_count": null,
   "metadata": {},
   "outputs": [],
   "source": [
    "# hide\n",
    "# hide\n",
    "import sys\n",
    "\n",
    "import numpy as np\n",
    "import pandas as pd\n",
    "import plotly.express as px\n",
    "\n",
    "from bundestag import similarity\n",
    "\n",
    "%load_ext autoreload\n",
    "%autoreload 2"
   ]
  },
  {
   "cell_type": "code",
   "execution_count": null,
   "metadata": {},
   "outputs": [],
   "source": [
    "sys.path.append(\"..\")"
   ]
  },
  {
   "cell_type": "code",
   "execution_count": null,
   "metadata": {},
   "outputs": [],
   "source": [
    "%%time\n",
    "df = pd.read_parquet(\"../votes.parquet\")"
   ]
  },
  {
   "cell_type": "code",
   "execution_count": null,
   "metadata": {},
   "outputs": [],
   "source": [
    "%%time\n",
    "other_cols = [\"date\", \"Fraktion/Gruppe\"]\n",
    "df_squished = similarity.get_squished_dataframe(df, other_cols=other_cols)"
   ]
  },
  {
   "cell_type": "code",
   "execution_count": null,
   "metadata": {},
   "outputs": [],
   "source": [
    "df_squished.head()"
   ]
  },
  {
   "cell_type": "code",
   "execution_count": null,
   "metadata": {},
   "outputs": [],
   "source": [
    "appearances = df_squished[\"Bezeichnung\"].value_counts()"
   ]
  },
  {
   "cell_type": "code",
   "execution_count": null,
   "metadata": {},
   "outputs": [],
   "source": [
    "display(appearances.head(20), appearances.tail(20))"
   ]
  },
  {
   "cell_type": "code",
   "execution_count": null,
   "metadata": {},
   "outputs": [],
   "source": [
    "df_squished.describe()"
   ]
  },
  {
   "cell_type": "code",
   "execution_count": null,
   "metadata": {},
   "outputs": [],
   "source": [
    "df_squished[\"Fraktion/Gruppe\"].value_counts()"
   ]
  },
  {
   "cell_type": "code",
   "execution_count": null,
   "metadata": {},
   "outputs": [],
   "source": [
    "df_squished[\"vote\"].value_counts(normalize=True)"
   ]
  },
  {
   "cell_type": "code",
   "execution_count": null,
   "metadata": {},
   "outputs": [],
   "source": [
    "df_squished.loc[\n",
    "    df_squished[\"vote\"] == \"nichtabgegeben\", \"Bezeichnung\"\n",
    "].value_counts()"
   ]
  },
  {
   "cell_type": "code",
   "execution_count": null,
   "metadata": {},
   "outputs": [],
   "source": [
    "def add_share(df: pd.DataFrame):\n",
    "    df.loc[:, \"share\"] = (\n",
    "        df[\"count\"] / df[\"count\"].groupby(level=\"Bezeichnung\").sum()\n",
    "    )\n",
    "    assert np.allclose(df[\"share\"].groupby(level=\"Bezeichnung\").sum(), 1)\n",
    "    return df\n",
    "\n",
    "\n",
    "vote_stats = (\n",
    "    df_squished.groupby([\"Bezeichnung\", \"vote\"])\n",
    "    .size()\n",
    "    .to_frame()\n",
    "    .rename(columns={0: \"count\"})\n",
    "    .pipe(add_share)\n",
    ")\n",
    "vote_stats.head()"
   ]
  },
  {
   "cell_type": "code",
   "execution_count": null,
   "metadata": {},
   "outputs": [],
   "source": [
    "vote_stats.loc[pd.IndexSlice[:, \"nichtabgegeben\"], :].sort_values(\n",
    "    \"share\", ascending=False\n",
    ").head(20)"
   ]
  },
  {
   "cell_type": "code",
   "execution_count": null,
   "metadata": {},
   "outputs": [],
   "source": [
    "vote_stats.loc[vote_stats[\"count\"] > 25].loc[\n",
    "    pd.IndexSlice[:, \"nichtabgegeben\"], :\n",
    "].sort_values(\"share\", ascending=True).head(20)"
   ]
  },
  {
   "cell_type": "code",
   "execution_count": null,
   "metadata": {},
   "outputs": [],
   "source": [
    "fig = px.line(\n",
    "    df_squished.groupby([\"date\"])[\"Bezeichnung\"]\n",
    "    .nunique()\n",
    "    .to_frame()\n",
    "    .reset_index(),\n",
    "    x=\"date\",\n",
    "    y=\"Bezeichnung\",\n",
    ")\n",
    "fig.update_yaxes(range=(0, 720))"
   ]
  },
  {
   "cell_type": "code",
   "execution_count": null,
   "metadata": {},
   "outputs": [],
   "source": [
    "fig = px.scatter(\n",
    "    df_squished.groupby([\"date\", \"vote\"])[\"Bezeichnung\"]\n",
    "    .nunique()\n",
    "    .to_frame()\n",
    "    .reset_index(),\n",
    "    x=\"date\",\n",
    "    y=\"Bezeichnung\",\n",
    "    color=\"vote\",\n",
    ")\n",
    "fig.update_yaxes(range=(0, 720))"
   ]
  },
  {
   "cell_type": "code",
   "execution_count": null,
   "metadata": {},
   "outputs": [],
   "source": [
    "fig = px.scatter(\n",
    "    df_squished.groupby([\"date\", \"vote\", \"Fraktion/Gruppe\"])[\"Bezeichnung\"]\n",
    "    .nunique()\n",
    "    .to_frame()\n",
    "    .reset_index(),\n",
    "    x=\"date\",\n",
    "    y=\"Bezeichnung\",\n",
    "    color=\"vote\",\n",
    "    facet_row=\"Fraktion/Gruppe\",\n",
    "    height=2000,\n",
    ")\n",
    "fig.update_yaxes(range=(0, 720))"
   ]
  },
  {
   "cell_type": "markdown",
   "metadata": {},
   "source": [
    "party agreement vs time"
   ]
  },
  {
   "cell_type": "code",
   "execution_count": null,
   "metadata": {},
   "outputs": [],
   "source": []
  }
 ],
 "metadata": {
  "kernelspec": {
   "display_name": "Python [conda env:py38_fastai]",
   "language": "python",
   "name": "conda-env-py38_fastai-py"
  },
  "language_info": {
   "codemirror_mode": {
    "name": "ipython",
    "version": 3
   },
   "file_extension": ".py",
   "mimetype": "text/x-python",
   "name": "python",
   "nbconvert_exporter": "python",
   "pygments_lexer": "ipython3",
   "version": "3.8.5"
  },
  "toc": {
   "base_numbering": 1,
   "nav_menu": {},
   "number_sections": true,
   "sideBar": true,
   "skip_h1_title": false,
   "title_cell": "Table of Contents",
   "title_sidebar": "Contents",
   "toc_cell": false,
   "toc_position": {},
   "toc_section_display": true,
   "toc_window_display": false
  }
 },
 "nbformat": 4,
 "nbformat_minor": 4
}
