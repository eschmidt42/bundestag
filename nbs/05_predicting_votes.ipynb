{
 "cells": [
  {
   "cell_type": "markdown",
   "metadata": {},
   "source": [
    "# Predicting votes\n",
    "> Let's see how how well votes of politicians in polls can be predicted."
   ]
  },
  {
   "cell_type": "markdown",
   "metadata": {},
   "source": [
    "**The strategy**:\n",
    "- first: only include a politician id and a poll id as features \n",
    "- second: include text features based on the poll title and or description"
   ]
  },
  {
   "cell_type": "markdown",
   "metadata": {},
   "source": [
    "**TL;DR**\n",
    "- using only politician id and poll id we find an 88% accuracy (over validation given random split) => individual outcome is highly associated with votes of others in the same poll"
   ]
  },
  {
   "cell_type": "markdown",
   "metadata": {},
   "source": [
    "**TODO**:\n",
    "- test tfidf features\n",
    "- combine poll title and description for feature generation\n",
    "- try transformer based features\n",
    "- visualise most incorrect predicted polls and politicians"
   ]
  },
  {
   "cell_type": "code",
   "execution_count": null,
   "metadata": {},
   "outputs": [],
   "source": [
    "%load_ext autoreload\n",
    "%autoreload 2"
   ]
  },
  {
   "cell_type": "code",
   "execution_count": null,
   "metadata": {},
   "outputs": [],
   "source": [
    "from bundestag import abgeordnetenwatch as aw\n",
    "from bundestag import poll_clustering as pc\n",
    "from bundestag import vote_prediction as vp\n",
    "import pandas as pd\n",
    "from fastai.tabular.all import *"
   ]
  },
  {
   "cell_type": "markdown",
   "metadata": {},
   "source": [
    "## Setup"
   ]
  },
  {
   "cell_type": "code",
   "execution_count": null,
   "metadata": {},
   "outputs": [],
   "source": [
    "legislature_id = 111"
   ]
  },
  {
   "cell_type": "code",
   "execution_count": null,
   "metadata": {
    "scrolled": true
   },
   "outputs": [],
   "source": [
    "all_votes_path = aw.ABGEORDNETENWATCH_PATH / f'compiled_votes_legislature_{legislature_id}.csv'\n",
    "df_all_votes = pd.read_csv(all_votes_path)\n",
    "df_all_votes.head()"
   ]
  },
  {
   "cell_type": "markdown",
   "metadata": {},
   "source": [
    "Pretty format `mandate` to `politician name`"
   ]
  },
  {
   "cell_type": "code",
   "execution_count": null,
   "metadata": {},
   "outputs": [],
   "source": [
    "%%time\n",
    "df_all_votes = df_all_votes.assign(**{'politician name':vp.get_politician_names})\n",
    "df_all_votes.head()"
   ]
  },
  {
   "cell_type": "markdown",
   "metadata": {},
   "source": [
    "Loading further info on politicians"
   ]
  },
  {
   "cell_type": "code",
   "execution_count": null,
   "metadata": {},
   "outputs": [],
   "source": [
    "%%time\n",
    "df_mandates = aw.get_mandates_df(legislature_id)\n",
    "df_mandates.head()"
   ]
  },
  {
   "cell_type": "code",
   "execution_count": null,
   "metadata": {},
   "outputs": [],
   "source": [
    "df_mandates['fraction_names'].apply(lambda x: 0 if not isinstance(x,list) else len(x)).value_counts()"
   ]
  },
  {
   "cell_type": "code",
   "execution_count": null,
   "metadata": {},
   "outputs": [],
   "source": [
    "%%time\n",
    "df_mandates['party'] = df_mandates.apply(vp.get_party_from_fraction_string, axis=1)\n",
    "df_mandates.head()"
   ]
  },
  {
   "cell_type": "code",
   "execution_count": null,
   "metadata": {},
   "outputs": [],
   "source": [
    "df_polls = aw.get_polls_df(legislature_id)\n",
    "df_polls.head()"
   ]
  },
  {
   "cell_type": "markdown",
   "metadata": {},
   "source": [
    "## Modelling using only poll and politician ids as features"
   ]
  },
  {
   "cell_type": "markdown",
   "metadata": {},
   "source": [
    "### Split into train and validation"
   ]
  },
  {
   "cell_type": "code",
   "execution_count": null,
   "metadata": {},
   "outputs": [],
   "source": [
    "vp.test_poll_split(vp.poll_splitter(df_all_votes))"
   ]
  },
  {
   "cell_type": "markdown",
   "metadata": {},
   "source": [
    "Creating train / valid split"
   ]
  },
  {
   "cell_type": "code",
   "execution_count": null,
   "metadata": {
    "scrolled": true
   },
   "outputs": [],
   "source": [
    "%%time\n",
    "splits = RandomSplitter(valid_pct=.2)(df_all_votes)\n",
    "# splits = vp.poll_splitter(df_all_votes, valid_pct=.2)\n",
    "splits"
   ]
  },
  {
   "cell_type": "markdown",
   "metadata": {},
   "source": [
    "Setting target variable and count frequencies"
   ]
  },
  {
   "cell_type": "code",
   "execution_count": null,
   "metadata": {},
   "outputs": [],
   "source": [
    "y_col = 'vote'\n",
    "print(f'target values: {df_all_votes[y_col].value_counts()}')"
   ]
  },
  {
   "cell_type": "markdown",
   "metadata": {},
   "source": [
    "### Training"
   ]
  },
  {
   "cell_type": "markdown",
   "metadata": {},
   "source": [
    "Final data preprocessing for training"
   ]
  },
  {
   "cell_type": "code",
   "execution_count": null,
   "metadata": {},
   "outputs": [],
   "source": [
    "%%time\n",
    "to = TabularPandas(df_all_votes, cat_names=['politician name', 'poll_id'], y_names=[y_col],\n",
    "                   procs=[Categorify], y_block=CategoryBlock, splits=splits)\n",
    "\n",
    "dls = to.dataloaders(bs=512)"
   ]
  },
  {
   "cell_type": "markdown",
   "metadata": {},
   "source": [
    "Finding the learning rate for training"
   ]
  },
  {
   "cell_type": "code",
   "execution_count": null,
   "metadata": {},
   "outputs": [],
   "source": [
    "%%time\n",
    "learn = tabular_learner(dls)\n",
    "lrs = learn.lr_find()\n",
    "lrs"
   ]
  },
  {
   "cell_type": "markdown",
   "metadata": {},
   "source": [
    "Training the artificial neural net"
   ]
  },
  {
   "cell_type": "code",
   "execution_count": null,
   "metadata": {
    "scrolled": true
   },
   "outputs": [],
   "source": [
    "%%time\n",
    "learn.fit_one_cycle(5, lrs.valley)"
   ]
  },
  {
   "cell_type": "markdown",
   "metadata": {},
   "source": [
    "### Inspecting predictions"
   ]
  },
  {
   "cell_type": "code",
   "execution_count": null,
   "metadata": {},
   "outputs": [],
   "source": [
    "vp.plot_predictions(learn, df_all_votes, df_mandates, df_polls, splits)"
   ]
  },
  {
   "cell_type": "markdown",
   "metadata": {},
   "source": [
    "accuracy:\n",
    "- random split: 88% \n",
    "- poll based split: ~50%, politician embedding itself insufficient to reasonably predict vote"
   ]
  },
  {
   "cell_type": "markdown",
   "metadata": {},
   "source": [
    "### Inspecting resulting embeddings"
   ]
  },
  {
   "cell_type": "code",
   "execution_count": null,
   "metadata": {},
   "outputs": [],
   "source": [
    "%%time\n",
    "embeddings = vp.get_embeddings(learn)\n",
    "vp.test_embeddings(embeddings)"
   ]
  },
  {
   "cell_type": "code",
   "execution_count": null,
   "metadata": {},
   "outputs": [],
   "source": [
    "proponents = vp.get_poll_proponents(df_all_votes, df_mandates)\n",
    "vp.test_poll_proponents(proponents)\n",
    "proponents.head()"
   ]
  },
  {
   "cell_type": "code",
   "execution_count": null,
   "metadata": {},
   "outputs": [],
   "source": [
    "vp.plot_poll_embeddings(df_all_votes, df_polls, embeddings, df_mandates=df_mandates)"
   ]
  },
  {
   "cell_type": "code",
   "execution_count": null,
   "metadata": {},
   "outputs": [],
   "source": [
    "vp.plot_politician_embeddings(df_all_votes, df_mandates, embeddings)"
   ]
  },
  {
   "cell_type": "markdown",
   "metadata": {},
   "source": [
    "embed scatters after pca:\n",
    "- poll based split => mandates form two groups\n",
    "- random split => polls and mandates each form 2-3 groups"
   ]
  },
  {
   "cell_type": "markdown",
   "metadata": {},
   "source": [
    "## Modelling using `poll_title`-based features"
   ]
  },
  {
   "cell_type": "markdown",
   "metadata": {},
   "source": [
    "### LDA topic weights as features"
   ]
  },
  {
   "cell_type": "code",
   "execution_count": null,
   "metadata": {},
   "outputs": [],
   "source": [
    "%%time\n",
    "legislature_id = 111\n",
    "source_col = 'poll_title'\n",
    "nlp_col = f'{source_col}_nlp_processed'\n",
    "num_topics = 25\n",
    "\n",
    "st = pc.SpacyTransformer()\n",
    "\n",
    "# load data and prepare text for modelling\n",
    "df_polls_lda = (aw.get_polls_df(legislature_id)\n",
    "                .assign(**{nlp_col: lambda x: st.clean_text(x, col=source_col)}))\n",
    "\n",
    "# modelling\n",
    "st.fit(df_polls_lda[nlp_col].values, mode='lda', num_topics=num_topics)\n",
    "\n",
    "# creating text features using fitted model\n",
    "df_polls_lda, nlp_feature_cols = df_polls_lda.pipe(st.transform, col=nlp_col, return_new_cols=True)\n",
    "\n",
    "# inspecting\n",
    "display(df_polls_lda.head())\n",
    "pc.pca_plot_lda_topics(df_polls_lda, st, source_col, nlp_feature_cols)"
   ]
  },
  {
   "cell_type": "code",
   "execution_count": null,
   "metadata": {},
   "outputs": [],
   "source": [
    "df_all_votes.head()"
   ]
  },
  {
   "cell_type": "code",
   "execution_count": null,
   "metadata": {},
   "outputs": [],
   "source": [
    "df_input = df_all_votes.join(df_polls_lda[['poll_id']+nlp_feature_cols].set_index('poll_id'), on='poll_id')\n",
    "df_input.head()"
   ]
  },
  {
   "cell_type": "code",
   "execution_count": null,
   "metadata": {},
   "outputs": [],
   "source": [
    "%%time\n",
    "splits = vp.poll_splitter(df_input, valid_pct=.2)\n",
    "splits"
   ]
  },
  {
   "cell_type": "code",
   "execution_count": null,
   "metadata": {},
   "outputs": [],
   "source": [
    "%%time\n",
    "to = TabularPandas(df_input, \n",
    "                   cat_names=['politician name', ],  # 'poll_id'\n",
    "                   cont_names=nlp_feature_cols, # using the new features\n",
    "                   y_names=[y_col],\n",
    "                   procs=[Categorify, Normalize], \n",
    "                   y_block=CategoryBlock, splits=splits)\n",
    "\n",
    "dls = to.dataloaders(bs=512)"
   ]
  },
  {
   "cell_type": "code",
   "execution_count": null,
   "metadata": {},
   "outputs": [],
   "source": [
    "%%time\n",
    "learn = tabular_learner(dls)\n",
    "lrs = learn.lr_find()\n",
    "lrs"
   ]
  },
  {
   "cell_type": "code",
   "execution_count": null,
   "metadata": {},
   "outputs": [],
   "source": [
    "%%time\n",
    "learn.fit_one_cycle(5, \n",
    "#                     2e-2)\n",
    "                    lrs.valley)"
   ]
  },
  {
   "cell_type": "code",
   "execution_count": null,
   "metadata": {
    "scrolled": true
   },
   "outputs": [],
   "source": [
    "vp.plot_predictions(learn, df_all_votes, df_mandates, df_polls, splits)"
   ]
  },
  {
   "cell_type": "markdown",
   "metadata": {},
   "source": [
    "poll_id split:\n",
    "- politician name + poll_id + 10 lda topics based on poll title do not improve the accuracy\n",
    "- politician name + <s>poll_id</s> + 5 lda topics based on poll title: ~49%\n",
    "- politician name + <s>poll_id</s> + 10 lda topics based on poll title: ~57%\n",
    "- politician name + <s>poll_id</s> + 25 lda topics based on poll title: ~45%"
   ]
  },
  {
   "cell_type": "markdown",
   "metadata": {},
   "source": [
    "## Modelling using `poll_description`-based features"
   ]
  },
  {
   "cell_type": "markdown",
   "metadata": {},
   "source": [
    "### LDA topic weights as features"
   ]
  },
  {
   "cell_type": "code",
   "execution_count": null,
   "metadata": {},
   "outputs": [],
   "source": [
    "%%time\n",
    "legislature_id = 111\n",
    "source_col = 'poll_description'\n",
    "nlp_col = f'{source_col}_nlp_processed'\n",
    "num_topics = 25\n",
    "\n",
    "st = pc.SpacyTransformer()\n",
    "\n",
    "# load data and prepare text for modelling\n",
    "df_polls_lda = (aw.get_polls_df(legislature_id)\n",
    "                .assign(**{nlp_col: lambda x: st.clean_text(x, col=source_col)}))\n",
    "\n",
    "# modelling\n",
    "st.fit(df_polls_lda[nlp_col].values, mode='lda', num_topics=num_topics)\n",
    "\n",
    "# creating text features using fitted model\n",
    "df_polls_lda, nlp_feature_cols = df_polls_lda.pipe(st.transform, col=nlp_col, return_new_cols=True)\n",
    "\n",
    "# inspecting\n",
    "display(df_polls_lda.head())\n",
    "pc.pca_plot_lda_topics(df_polls_lda, st, source_col, nlp_feature_cols)"
   ]
  },
  {
   "cell_type": "code",
   "execution_count": null,
   "metadata": {},
   "outputs": [],
   "source": [
    "df_all_votes.head()"
   ]
  },
  {
   "cell_type": "code",
   "execution_count": null,
   "metadata": {},
   "outputs": [],
   "source": [
    "df_input = df_all_votes.join(df_polls_lda[['poll_id']+nlp_feature_cols].set_index('poll_id'), on='poll_id')\n",
    "df_input.head()"
   ]
  },
  {
   "cell_type": "code",
   "execution_count": null,
   "metadata": {},
   "outputs": [],
   "source": [
    "%%time\n",
    "splits = vp.poll_splitter(df_input, valid_pct=.2)\n",
    "splits"
   ]
  },
  {
   "cell_type": "code",
   "execution_count": null,
   "metadata": {},
   "outputs": [],
   "source": [
    "%%time\n",
    "to = TabularPandas(df_input, \n",
    "                   cat_names=['politician name', ],  # 'poll_id'\n",
    "                   cont_names=nlp_feature_cols, # using the new features\n",
    "                   y_names=[y_col],\n",
    "                   procs=[Categorify, Normalize], \n",
    "                   y_block=CategoryBlock, splits=splits)\n",
    "\n",
    "dls = to.dataloaders(bs=512)"
   ]
  },
  {
   "cell_type": "code",
   "execution_count": null,
   "metadata": {},
   "outputs": [],
   "source": [
    "%%time\n",
    "learn = tabular_learner(dls)\n",
    "lrs = learn.lr_find()\n",
    "lrs"
   ]
  },
  {
   "cell_type": "code",
   "execution_count": null,
   "metadata": {},
   "outputs": [],
   "source": [
    "%%time\n",
    "learn.fit_one_cycle(5, \n",
    "#                     2e-2)\n",
    "                    lrs.valley)"
   ]
  },
  {
   "cell_type": "code",
   "execution_count": null,
   "metadata": {},
   "outputs": [],
   "source": [
    "vp.plot_predictions(learn, df_all_votes, df_mandates, df_polls, splits)"
   ]
  },
  {
   "cell_type": "markdown",
   "metadata": {},
   "source": [
    "poll_id split:\n",
    "- politician name + <s>poll_id</s> + 5 lda topics based on poll description: ~51%\n",
    "- politician name + <s>poll_id</s> + 10 lda topics based on poll description: ~53%\n",
    "- politician name + <s>poll_id</s> + 20 lda topics based on poll description: ~56%\n",
    "- politician name + <s>poll_id</s> + 25 lda topics based on poll description: ~59%"
   ]
  },
  {
   "cell_type": "code",
   "execution_count": null,
   "metadata": {},
   "outputs": [],
   "source": []
  }
 ],
 "metadata": {
  "kernelspec": {
   "display_name": "Python 3 (ipykernel)",
   "language": "python",
   "name": "python3"
  },
  "language_info": {
   "codemirror_mode": {
    "name": "ipython",
    "version": 3
   },
   "file_extension": ".py",
   "mimetype": "text/x-python",
   "name": "python",
   "nbconvert_exporter": "python",
   "pygments_lexer": "ipython3",
   "version": "3.8.5"
  },
  "toc": {
   "base_numbering": 1,
   "nav_menu": {
    "height": "264.4px",
    "width": "476.4px"
   },
   "number_sections": true,
   "sideBar": true,
   "skip_h1_title": false,
   "title_cell": "Table of Contents",
   "title_sidebar": "Contents",
   "toc_cell": false,
   "toc_position": {},
   "toc_section_display": true,
   "toc_window_display": false
  }
 },
 "nbformat": 4,
 "nbformat_minor": 4
}
