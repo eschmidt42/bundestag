{
 "cells": [
  {
   "cell_type": "code",
   "execution_count": null,
   "metadata": {},
   "outputs": [],
   "source": [
    "#default_exp gui"
   ]
  },
  {
   "cell_type": "markdown",
   "metadata": {},
   "source": [
    "# Displaying member similarity\n",
    "> GUI to explore most similar members"
   ]
  },
  {
   "cell_type": "code",
   "execution_count": null,
   "metadata": {},
   "outputs": [],
   "source": [
    "%load_ext autoreload\n",
    "%autoreload 2"
   ]
  },
  {
   "cell_type": "markdown",
   "metadata": {},
   "source": [
    "## Setup"
   ]
  },
  {
   "cell_type": "code",
   "execution_count": null,
   "metadata": {},
   "outputs": [],
   "source": [
    "#export\n",
    "import plotly.express as px\n",
    "import plotly.graph_objects as go\n",
    "import pickle\n",
    "import ipywidgets as widgets\n",
    "import pandas as pd\n",
    "import typing, os"
   ]
  },
  {
   "cell_type": "markdown",
   "metadata": {},
   "source": [
    "## Display most similar members with at least $x$ common issues voted on"
   ]
  },
  {
   "cell_type": "markdown",
   "metadata": {},
   "source": [
    "Loading required files"
   ]
  },
  {
   "cell_type": "code",
   "execution_count": null,
   "metadata": {},
   "outputs": [],
   "source": [
    "#export\n",
    "path = 'similarities.pkl' if 'similarities.pkl' in os.listdir('.') else '../similarities.pkl'\n",
    "with open(path, 'rb') as f:\n",
    "    agreements = pickle.load(f)"
   ]
  },
  {
   "cell_type": "code",
   "execution_count": null,
   "metadata": {},
   "outputs": [],
   "source": [
    "#export\n",
    "path = 'votes.parquet' if 'votes.parquet' in os.listdir('.') else '../votes.parquet'\n",
    "df = pd.read_parquet(path)"
   ]
  },
  {
   "cell_type": "markdown",
   "metadata": {},
   "source": [
    "Defining widgets"
   ]
  },
  {
   "cell_type": "code",
   "execution_count": null,
   "metadata": {},
   "outputs": [],
   "source": [
    "#export\n",
    "class GUI:\n",
    "    \n",
    "    def __init__(self, df:pd.DataFrame, agreements:typing.Dict):\n",
    "        self.df = df\n",
    "        self.agreements = agreements\n",
    "        self.members = tuple(df['Bezeichnung'].unique())\n",
    "        self.init_widgets()\n",
    "        \n",
    "        \n",
    "    def init_widgets(self):\n",
    "        self.num_issues_widget = widgets.IntText(\n",
    "            value=7,\n",
    "            description='# issues',\n",
    "            disabled=False\n",
    "        )\n",
    "\n",
    "        self.top_similar_widget = widgets.IntText(\n",
    "            value=5,\n",
    "            description='Top n',\n",
    "            disabled=False\n",
    "        )\n",
    "\n",
    "        self.member_widget = widgets.Combobox(\n",
    "            # value='John',\n",
    "            placeholder='Choose Someone',\n",
    "            options=self.members,\n",
    "            description='MdB:',\n",
    "            ensure_option=True,\n",
    "            disabled=False\n",
    "        )\n",
    "\n",
    "        self.config_widget = widgets.Label()\n",
    "        self.submit_widget = widgets.Button(description='Submit')\n",
    "        self.display_widget = widgets.Output()\n",
    "        \n",
    "        self.submit_widget.on_click(self.on_click)\n",
    "        \n",
    "        \n",
    "    def on_click(self, change):\n",
    "        \n",
    "        member = self.member_widget.value\n",
    "        top_n = self.top_similar_widget.value\n",
    "        min_votes = self.num_issues_widget.value\n",
    "        \n",
    "        self.display_widget.clear_output()\n",
    "        self.config_widget.value = f'You\\'ve selected {member} and are searching for, matches with {min_votes}+ common issues, limited to the top {top_n} matches.'\n",
    "\n",
    "        # filtering down to similar members\n",
    "        filtered_members = self.agreements['total_shared_votes'].loc[member]\n",
    "        filtered_members = filtered_members[filtered_members >= min_votes]\n",
    "\n",
    "        res = {outcome: self.agreements[outcome].loc[member]\n",
    "               for outcome in self.agreements \\\n",
    "               if (outcome != 'total_shared_votes') and member in self.agreements[outcome].index}\n",
    "        res = {o: (tbl[tbl.index.isin(filtered_members.index)]\n",
    "                   .sort_values(ascending=False)\n",
    "                   .iloc[1:])\n",
    "               for o, tbl in res.items()}\n",
    "\n",
    "        x = 'Agreement (%)'\n",
    "        y = 'MdB'\n",
    "        tmp_plot = pd.DataFrame(columns=[x,y,'outcome'])\n",
    "        for o, tbl in res.items():\n",
    "            tmp = (res[o].copy()\n",
    "                   .to_frame()\n",
    "                   .reset_index()\n",
    "                   .rename(columns={'index':y, member:x}))\n",
    "            tmp['outcome'] = o\n",
    "            tmp_plot = pd.concat((tmp_plot, tmp.head(top_n).sort_values(x)),ignore_index=True)\n",
    "\n",
    "        with self.display_widget:\n",
    "\n",
    "            fig = px.bar(tmp_plot, x=x, y=y, facet_col='outcome',\n",
    "                         title=f'Ranking by agreement (top {top_n} per outcome)')\n",
    "            fig.show()\n",
    "            \n",
    "    def run(self):\n",
    "        return widgets.VBox([widgets.Label('Select your member (MdB), the smallest number of issues they and others should have voted on and the top n similar MdBs.'),\n",
    "                      self.member_widget, self.num_issues_widget, self.top_similar_widget, self.submit_widget, \n",
    "                      self.config_widget, self.display_widget])"
   ]
  },
  {
   "cell_type": "code",
   "execution_count": null,
   "metadata": {},
   "outputs": [],
   "source": [
    "gui = GUI(df, agreements)"
   ]
  },
  {
   "cell_type": "code",
   "execution_count": null,
   "metadata": {},
   "outputs": [],
   "source": [
    "gui.run()"
   ]
  },
  {
   "cell_type": "code",
   "execution_count": null,
   "metadata": {},
   "outputs": [],
   "source": []
  }
 ],
 "metadata": {
  "kernelspec": {
   "display_name": "Python [conda env:py38_web]",
   "language": "python",
   "name": "conda-env-py38_web-py"
  }
 },
 "nbformat": 4,
 "nbformat_minor": 4
}
