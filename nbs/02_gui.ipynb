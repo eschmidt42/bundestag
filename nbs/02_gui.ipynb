{
 "cells": [
  {
   "cell_type": "code",
   "execution_count": null,
   "metadata": {},
   "outputs": [],
   "source": [
    "#default_exp gui"
   ]
  },
  {
   "cell_type": "markdown",
   "metadata": {},
   "source": [
    "# Displaying member similarity\n",
    "> GUI to explore most similar members"
   ]
  },
  {
   "cell_type": "code",
   "execution_count": null,
   "metadata": {},
   "outputs": [],
   "source": [
    "#hide\n",
    "%load_ext autoreload\n",
    "%autoreload 2"
   ]
  },
  {
   "cell_type": "markdown",
   "metadata": {},
   "source": [
    "## Setup"
   ]
  },
  {
   "cell_type": "code",
   "execution_count": null,
   "metadata": {},
   "outputs": [],
   "source": [
    "#export\n",
    "try:\n",
    "    from bundestag import similarity\n",
    "except ImportError:\n",
    "    import sys\n",
    "    sys.path.append('..')\n",
    "    from bundestag import similarity\n",
    "    \n",
    "import ipywidgets as widgets\n",
    "import pandas as pd\n",
    "\n",
    "pd.options.plotting.backend = \"plotly\""
   ]
  },
  {
   "cell_type": "code",
   "execution_count": null,
   "metadata": {},
   "outputs": [],
   "source": [
    "#hide\n",
    "df = pd.read_parquet('../roll_call_votes.parquet')"
   ]
  },
  {
   "cell_type": "markdown",
   "metadata": {},
   "source": [
    "## Interactively choosing `mdb` and `party`"
   ]
  },
  {
   "cell_type": "code",
   "execution_count": null,
   "metadata": {},
   "outputs": [],
   "source": [
    "#export\n",
    "class GUI:\n",
    "    def __init__(self, df:pd.DataFrame):\n",
    "        self.df = df\n",
    "        self.party_votes, self.df_plot = similarity.get_votes_by_party(df)\n",
    "        self.mdbs = df['Bezeichnung'].unique()\n",
    "        self.parties = df['Fraktion/Gruppe'].unique()\n",
    "        self.init_widgets()\n",
    "    def render(self):\n",
    "        return widgets.VBox([\n",
    "            self.mdb_widget, \n",
    "            self.party_widget,\n",
    "            self.start_widget,\n",
    "            self.end_widget,\n",
    "            self.submit_widget, \n",
    "            self.selection_widget,\n",
    "            self.display_widget,\n",
    "        ])\n",
    "    def on_click(self, change):\n",
    "        mdb = self.mdb_widget.value\n",
    "        party = self.party_widget.value\n",
    "        assert mdb is not None, 'Please choose an MdB'\n",
    "        assert party is not None, 'Please choose a Party'\n",
    "        start_date = self.start_widget.value\n",
    "        end_date = self.end_widget.value\n",
    "        self.selection_widget.value = f'Selected: MdB = {mdb}, Party = {party}, date range = {start_date} - {end_date}'\n",
    "        \n",
    "        df, party_votes = self.filter_dfs(start_date, end_date)\n",
    "        \n",
    "        mdb_votes = similarity.prepare_votes_of_mdb(df, mdb)\n",
    "        similarity_mdb_party = (similarity.align_mdb_with_parties(mdb_votes, party_votes)\n",
    "                                .pipe(similarity.compute_similarity, lsuffix='mdb', rsuffix='party'))\n",
    "        \n",
    "        similarity_party_party = (similarity.align_party_with_all_parties(party_votes, party)\n",
    "                                  .pipe(similarity.compute_similarity, lsuffix='a', rsuffix='b'))\n",
    "        \n",
    "        self.display_widget.clear_output()\n",
    "        with self.display_widget:\n",
    "            similarity.plot_similarity_over_time(similarity_mdb_party, \n",
    "                                                 'Fraktion/Gruppe',\n",
    "                                                 title=f'{mdb} vs time').show()\n",
    "            similarity.plot_similarity_over_time(similarity_party_party, \n",
    "                                                 'Fraktion/Gruppe_b',\n",
    "                                                 title=f'{party} vs time').show()\n",
    "        \n",
    "    def init_widgets(self):\n",
    "        # prints out the current selection of MdB, party and timespan\n",
    "        self.selection_widget = widgets.Label()\n",
    "        \n",
    "        # widget to render figures in\n",
    "        self.display_widget = widgets.Output()\n",
    "        \n",
    "        # submit button\n",
    "        self.submit_widget = widgets.Button(description='Submit')\n",
    "        self.submit_widget.on_click(self.on_click)\n",
    "        \n",
    "        # widgets to set MdB, party, timespan\n",
    "        self.mdb_widget = widgets.Combobox(\n",
    "            placeholder='Choose an MdB',\n",
    "            options=tuple(self.mdbs),\n",
    "            description='MdB:',\n",
    "            ensure_option=True,\n",
    "        )\n",
    "        self.party_widget = widgets.Combobox(\n",
    "            placeholder='Choose a Party',\n",
    "            options=tuple(self.parties),\n",
    "            description='Party:',\n",
    "            ensure_option=True,\n",
    "        )\n",
    "        self.start_widget = widgets.DatePicker(description='Start date')\n",
    "        self.end_widget = widgets.DatePicker(description='End date')\n",
    "            \n",
    "    def filter_dfs(self, start_date, end_date):\n",
    "        if (start_date is None or end_date is None):\n",
    "            return self.df, self.party_votes\n",
    "\n",
    "        mask = (self.df['date']>=str(start_date)) & (self.df['date']<=str(end_date))\n",
    "        df = self.df.loc[mask]\n",
    "\n",
    "        date_range = pd.date_range(start_date, end_date)\n",
    "        mask = self.party_votes.index.get_level_values('date').isin(date_range)\n",
    "        party_votes = self.party_votes.loc[mask]\n",
    "        return df, party_votes"
   ]
  },
  {
   "cell_type": "code",
   "execution_count": null,
   "metadata": {},
   "outputs": [],
   "source": [
    "%%time\n",
    "g = GUI(df)"
   ]
  },
  {
   "cell_type": "code",
   "execution_count": null,
   "metadata": {},
   "outputs": [],
   "source": [
    "# g.render()"
   ]
  },
  {
   "cell_type": "code",
   "execution_count": null,
   "metadata": {},
   "outputs": [],
   "source": []
  }
 ],
 "metadata": {
  "kernelspec": {
   "display_name": "Python [conda env:py38_fastai]",
   "language": "python",
   "name": "conda-env-py38_fastai-py"
  }
 },
 "nbformat": 4,
 "nbformat_minor": 4
}
