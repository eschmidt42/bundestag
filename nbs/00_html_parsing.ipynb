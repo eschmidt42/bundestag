{
 "cells": [
  {
   "cell_type": "markdown",
   "metadata": {},
   "source": [
    "# Parsing votes\n",
    "> Downloading & parsing votes Aafter downloading xlsx files behind the links on `https://www.bundestag.de/parlament/plenum/abstimmung/liste`."
   ]
  },
  {
   "cell_type": "code",
   "execution_count": 1,
   "metadata": {},
   "outputs": [],
   "source": [
    "%load_ext autoreload\n",
    "%autoreload 2"
   ]
  },
  {
   "cell_type": "markdown",
   "metadata": {},
   "source": [
    "## Setup"
   ]
  },
  {
   "cell_type": "code",
   "execution_count": 2,
   "metadata": {},
   "outputs": [],
   "source": [
    "from fastcore.all import *\n",
    "from bundestag import html_parsing as hp"
   ]
  },
  {
   "cell_type": "markdown",
   "metadata": {},
   "source": [
    "## Collecting URIs for `.xlsx`/`.xls` documents from `.htm` files"
   ]
  },
  {
   "cell_type": "markdown",
   "metadata": {},
   "source": [
    "`.xlsx` / `.xls` will be referred as \"sheet\" files."
   ]
  },
  {
   "cell_type": "code",
   "execution_count": 3,
   "metadata": {},
   "outputs": [],
   "source": [
    "html_path = Path('../website_data')\n",
    "sheet_path = Path('../sheets')"
   ]
  },
  {
   "cell_type": "code",
   "execution_count": 6,
   "metadata": {},
   "outputs": [
    {
     "data": {
      "text/plain": [
       "(#3) [Path('../website_data/Deutscher Bundestag - Namenslisten der Abstimmungen (PDF und XLSX-Listen)-1.htm'),Path('../website_data/Deutscher Bundestag - Namenslisten der Abstimmungen (PDF und XLSX-Listen)-10.htm'),Path('../website_data/Deutscher Bundestag - Namenslisten der Abstimmungen (PDF und XLSX-Listen)-11.htm')]"
      ]
     },
     "execution_count": 6,
     "metadata": {},
     "output_type": "execute_result"
    }
   ],
   "source": [
    "html_file_paths = hp.get_file_paths(html_path, pattern=hp.RE_HTM)\n",
    "html_file_paths[:3]"
   ]
  },
  {
   "cell_type": "code",
   "execution_count": 8,
   "metadata": {},
   "outputs": [],
   "source": [
    "hp.test_file_paths(html_file_paths, html_path)"
   ]
  },
  {
   "cell_type": "code",
   "execution_count": 9,
   "metadata": {},
   "outputs": [
    {
     "name": "stderr",
     "output_type": "stream",
     "text": [
      "HTM(L): 100%|███████████████████████████████████████████████████████████████████████████| 24/24 [00:09<00:00,  2.64it/s]"
     ]
    },
    {
     "name": "stdout",
     "output_type": "stream",
     "text": [
      "CPU times: user 8.02 s, sys: 69.9 ms, total: 8.09 s\n",
      "Wall time: 9.08 s\n"
     ]
    },
    {
     "name": "stderr",
     "output_type": "stream",
     "text": [
      "\n"
     ]
    },
    {
     "data": {
      "text/plain": [
       "([('10.09.2020: Abstrakte Normenkontrolle - Düngeverordnung (Beschlussempfehlung)',\n",
       "   'https://www.bundestag.de/resource/blob/791698/852a05058b1d4614945d0f38b4ecb224/20200910_2_xls-data.xlsx'),\n",
       "  ('03.07.2020: Bundeswahlgesetz (Geschäftsordnungsantrag)',\n",
       "   'https://www.bundestag.de/resource/blob/704496/5d6e83f4c2204ac3a514b7970fff9a48/20200703_2_xls-data.xlsx'),\n",
       "  ('03.07.2020: Kohleausstiegsgesetz (Änderungsantrag 19/20730)',\n",
       "   'https://www.bundestag.de/resource/blob/704410/abaa35a8f21b571771856b759602d9df/20200703_1_xls-data.xlsx')],\n",
       " [('25.10.2012: 17/10059 und 17/11093, Abkommen zwischen Deutschland und der Schweiz',\n",
       "   'https://www.bundestag.de/resource/blob/192676/2ffed073c6ac4a2bd600b83523e8d5a1/20121025_2_xls-data.xls'),\n",
       "  ('25.10.2012: 17/10773 und 17/11174, Änderungen im Bereich der geringfügigen Beschäftigung',\n",
       "   'https://www.bundestag.de/resource/blob/192674/db858b70d2821545c109b8c5ae752722/20121025_xls-data.xls'),\n",
       "  ('18.10.2012: Gesetzentwurf 17/9852 und 17/11053 (8. Änderung des Gesetzes gegen Wettbewerbsbeschränkungen)',\n",
       "   'https://www.bundestag.de/resource/blob/192668/3e1996318859a3ae48cb5981d69b57cf/20121018_xls-data.xls')])"
      ]
     },
     "execution_count": 9,
     "metadata": {},
     "output_type": "execute_result"
    }
   ],
   "source": [
    "%%time\n",
    "sheet_uris = hp.collect_sheet_uris(html_file_paths)\n",
    "list(sheet_uris.items())[:3], list(sheet_uris.items())[-3:]"
   ]
  },
  {
   "cell_type": "code",
   "execution_count": 10,
   "metadata": {},
   "outputs": [],
   "source": [
    "hp.test_sheet_uris(sheet_uris)"
   ]
  },
  {
   "cell_type": "markdown",
   "metadata": {},
   "source": [
    "## Downloading sheet files"
   ]
  },
  {
   "cell_type": "code",
   "execution_count": 11,
   "metadata": {},
   "outputs": [
    {
     "name": "stdout",
     "output_type": "stream",
     "text": [
      "Writing to ../sheets/20200910_2_xls-data.xlsx\n",
      "CPU times: user 24.2 ms, sys: 536 µs, total: 24.7 ms\n",
      "Wall time: 253 ms\n"
     ]
    }
   ],
   "source": [
    "%%time\n",
    "uri = sheet_uris['10.09.2020: Abstrakte Normenkontrolle - Düngeverordnung (Beschlussempfehlung)']\n",
    "hp.download_sheet(uri, sheet_path=sheet_path, verbose=True)"
   ]
  },
  {
   "cell_type": "code",
   "execution_count": 12,
   "metadata": {},
   "outputs": [
    {
     "name": "stderr",
     "output_type": "stream",
     "text": [
      "File:   1%|▋                                                                           | 4/464 [00:00<00:01, 453.76it/s]"
     ]
    },
    {
     "name": "stdout",
     "output_type": "stream",
     "text": [
      "CPU times: user 7.09 ms, sys: 972 µs, total: 8.07 ms\n",
      "Wall time: 12.1 ms\n"
     ]
    },
    {
     "name": "stderr",
     "output_type": "stream",
     "text": [
      "\n"
     ]
    }
   ],
   "source": [
    "%%time\n",
    "file_title_maps = hp.download_multiple_sheets(sheet_uris, sheet_path=sheet_path, nmax=3)"
   ]
  },
  {
   "cell_type": "code",
   "execution_count": 14,
   "metadata": {},
   "outputs": [],
   "source": [
    "hp.test_file_title_maps(file_title_maps, sheet_uris)"
   ]
  },
  {
   "cell_type": "markdown",
   "metadata": {},
   "source": [
    "## Loading sheets into DataFrames"
   ]
  },
  {
   "cell_type": "markdown",
   "metadata": {},
   "source": [
    "Collecting the `xlsx` and `xls` file names"
   ]
  },
  {
   "cell_type": "code",
   "execution_count": 15,
   "metadata": {},
   "outputs": [
    {
     "data": {
      "text/plain": [
       "(#464) [Path('../sheets/20121018_xls-data.xls'),Path('../sheets/20121025_2_xls-data.xls'),Path('../sheets/20121025_3_xls-data.xls'),Path('../sheets/20121025_4_xls-data.xls'),Path('../sheets/20121025_5_xls-data.xls'),Path('../sheets/20121025_xls-data.xls'),Path('../sheets/20121109_betreuungsgeld_xls-data.xls'),Path('../sheets/20121109_praxisgebuehr_xls-data.xls'),Path('../sheets/20121121_1_xls-data.xls'),Path('../sheets/20121121_2_xls-data.xls')...]"
      ]
     },
     "execution_count": 15,
     "metadata": {},
     "output_type": "execute_result"
    }
   ],
   "source": [
    "sheet_files = hp.get_file_paths(sheet_path, pattern=hp.RE_FNAME)\n",
    "sheet_files"
   ]
  },
  {
   "cell_type": "code",
   "execution_count": 16,
   "metadata": {},
   "outputs": [],
   "source": [
    "assert len(sheet_files) > 0"
   ]
  },
  {
   "cell_type": "markdown",
   "metadata": {},
   "source": [
    "Reading files into dataframes"
   ]
  },
  {
   "cell_type": "code",
   "execution_count": 18,
   "metadata": {
    "scrolled": true
   },
   "outputs": [
    {
     "name": "stdout",
     "output_type": "stream",
     "text": [
      "CPU times: user 39.1 ms, sys: 1.13 ms, total: 40.3 ms\n",
      "Wall time: 54.6 ms\n"
     ]
    },
    {
     "data": {
      "text/html": [
       "<div>\n",
       "<style scoped>\n",
       "    .dataframe tbody tr th:only-of-type {\n",
       "        vertical-align: middle;\n",
       "    }\n",
       "\n",
       "    .dataframe tbody tr th {\n",
       "        vertical-align: top;\n",
       "    }\n",
       "\n",
       "    .dataframe thead th {\n",
       "        text-align: right;\n",
       "    }\n",
       "</style>\n",
       "<table border=\"1\" class=\"dataframe\">\n",
       "  <thead>\n",
       "    <tr style=\"text-align: right;\">\n",
       "      <th></th>\n",
       "      <th>0</th>\n",
       "      <th>1</th>\n",
       "      <th>2</th>\n",
       "      <th>3</th>\n",
       "      <th>4</th>\n",
       "    </tr>\n",
       "  </thead>\n",
       "  <tbody>\n",
       "    <tr>\n",
       "      <th>Wahlperiode</th>\n",
       "      <td>17</td>\n",
       "      <td>17</td>\n",
       "      <td>17</td>\n",
       "      <td>17</td>\n",
       "      <td>17</td>\n",
       "    </tr>\n",
       "    <tr>\n",
       "      <th>Sitzungnr</th>\n",
       "      <td>198</td>\n",
       "      <td>198</td>\n",
       "      <td>198</td>\n",
       "      <td>198</td>\n",
       "      <td>198</td>\n",
       "    </tr>\n",
       "    <tr>\n",
       "      <th>Abstimmnr</th>\n",
       "      <td>1</td>\n",
       "      <td>1</td>\n",
       "      <td>1</td>\n",
       "      <td>1</td>\n",
       "      <td>1</td>\n",
       "    </tr>\n",
       "    <tr>\n",
       "      <th>Fraktion/Gruppe</th>\n",
       "      <td>CDU/CSU</td>\n",
       "      <td>CDU/CSU</td>\n",
       "      <td>CDU/CSU</td>\n",
       "      <td>CDU/CSU</td>\n",
       "      <td>CDU/CSU</td>\n",
       "    </tr>\n",
       "    <tr>\n",
       "      <th>Name</th>\n",
       "      <td>Aigner</td>\n",
       "      <td>Altmaier</td>\n",
       "      <td>Aumer</td>\n",
       "      <td>Bär</td>\n",
       "      <td>Bareiß</td>\n",
       "    </tr>\n",
       "    <tr>\n",
       "      <th>Vorname</th>\n",
       "      <td>Ilse</td>\n",
       "      <td>Peter</td>\n",
       "      <td>Peter</td>\n",
       "      <td>Dorothee</td>\n",
       "      <td>Thomas</td>\n",
       "    </tr>\n",
       "    <tr>\n",
       "      <th>Titel</th>\n",
       "      <td>NaN</td>\n",
       "      <td>NaN</td>\n",
       "      <td>NaN</td>\n",
       "      <td>NaN</td>\n",
       "      <td>NaN</td>\n",
       "    </tr>\n",
       "    <tr>\n",
       "      <th>ja</th>\n",
       "      <td>1</td>\n",
       "      <td>0</td>\n",
       "      <td>1</td>\n",
       "      <td>0</td>\n",
       "      <td>1</td>\n",
       "    </tr>\n",
       "    <tr>\n",
       "      <th>nein</th>\n",
       "      <td>0</td>\n",
       "      <td>0</td>\n",
       "      <td>0</td>\n",
       "      <td>0</td>\n",
       "      <td>0</td>\n",
       "    </tr>\n",
       "    <tr>\n",
       "      <th>Enthaltung</th>\n",
       "      <td>0</td>\n",
       "      <td>0</td>\n",
       "      <td>0</td>\n",
       "      <td>0</td>\n",
       "      <td>0</td>\n",
       "    </tr>\n",
       "    <tr>\n",
       "      <th>ungültig</th>\n",
       "      <td>0</td>\n",
       "      <td>0</td>\n",
       "      <td>0</td>\n",
       "      <td>0</td>\n",
       "      <td>0</td>\n",
       "    </tr>\n",
       "    <tr>\n",
       "      <th>nichtabgegeben</th>\n",
       "      <td>0</td>\n",
       "      <td>1</td>\n",
       "      <td>0</td>\n",
       "      <td>1</td>\n",
       "      <td>0</td>\n",
       "    </tr>\n",
       "    <tr>\n",
       "      <th>Bezeichnung</th>\n",
       "      <td>Ilse Aigner</td>\n",
       "      <td>Peter Altmaier</td>\n",
       "      <td>Peter Aumer</td>\n",
       "      <td>Dorothee Bär</td>\n",
       "      <td>Thomas Bareiß</td>\n",
       "    </tr>\n",
       "    <tr>\n",
       "      <th>sheet_name</th>\n",
       "      <td>T_Export</td>\n",
       "      <td>T_Export</td>\n",
       "      <td>T_Export</td>\n",
       "      <td>T_Export</td>\n",
       "      <td>T_Export</td>\n",
       "    </tr>\n",
       "    <tr>\n",
       "      <th>date</th>\n",
       "      <td>2012-10-18 00:00:00</td>\n",
       "      <td>2012-10-18 00:00:00</td>\n",
       "      <td>2012-10-18 00:00:00</td>\n",
       "      <td>2012-10-18 00:00:00</td>\n",
       "      <td>2012-10-18 00:00:00</td>\n",
       "    </tr>\n",
       "    <tr>\n",
       "      <th>title</th>\n",
       "      <td>Gesetzentwurf 17/9852 und 17/11053 (8. Änderu...</td>\n",
       "      <td>Gesetzentwurf 17/9852 und 17/11053 (8. Änderu...</td>\n",
       "      <td>Gesetzentwurf 17/9852 und 17/11053 (8. Änderu...</td>\n",
       "      <td>Gesetzentwurf 17/9852 und 17/11053 (8. Änderu...</td>\n",
       "      <td>Gesetzentwurf 17/9852 und 17/11053 (8. Änderu...</td>\n",
       "    </tr>\n",
       "  </tbody>\n",
       "</table>\n",
       "</div>"
      ],
      "text/plain": [
       "                                                                 0  \\\n",
       "Wahlperiode                                                     17   \n",
       "Sitzungnr                                                      198   \n",
       "Abstimmnr                                                        1   \n",
       "Fraktion/Gruppe                                            CDU/CSU   \n",
       "Name                                                        Aigner   \n",
       "Vorname                                                       Ilse   \n",
       "Titel                                                          NaN   \n",
       "ja                                                               1   \n",
       "nein                                                             0   \n",
       "Enthaltung                                                       0   \n",
       "ungültig                                                         0   \n",
       "nichtabgegeben                                                   0   \n",
       "Bezeichnung                                            Ilse Aigner   \n",
       "sheet_name                                                T_Export   \n",
       "date                                           2012-10-18 00:00:00   \n",
       "title             Gesetzentwurf 17/9852 und 17/11053 (8. Änderu...   \n",
       "\n",
       "                                                                 1  \\\n",
       "Wahlperiode                                                     17   \n",
       "Sitzungnr                                                      198   \n",
       "Abstimmnr                                                        1   \n",
       "Fraktion/Gruppe                                            CDU/CSU   \n",
       "Name                                                      Altmaier   \n",
       "Vorname                                                      Peter   \n",
       "Titel                                                          NaN   \n",
       "ja                                                               0   \n",
       "nein                                                             0   \n",
       "Enthaltung                                                       0   \n",
       "ungültig                                                         0   \n",
       "nichtabgegeben                                                   1   \n",
       "Bezeichnung                                         Peter Altmaier   \n",
       "sheet_name                                                T_Export   \n",
       "date                                           2012-10-18 00:00:00   \n",
       "title             Gesetzentwurf 17/9852 und 17/11053 (8. Änderu...   \n",
       "\n",
       "                                                                 2  \\\n",
       "Wahlperiode                                                     17   \n",
       "Sitzungnr                                                      198   \n",
       "Abstimmnr                                                        1   \n",
       "Fraktion/Gruppe                                            CDU/CSU   \n",
       "Name                                                         Aumer   \n",
       "Vorname                                                      Peter   \n",
       "Titel                                                          NaN   \n",
       "ja                                                               1   \n",
       "nein                                                             0   \n",
       "Enthaltung                                                       0   \n",
       "ungültig                                                         0   \n",
       "nichtabgegeben                                                   0   \n",
       "Bezeichnung                                            Peter Aumer   \n",
       "sheet_name                                                T_Export   \n",
       "date                                           2012-10-18 00:00:00   \n",
       "title             Gesetzentwurf 17/9852 und 17/11053 (8. Änderu...   \n",
       "\n",
       "                                                                 3  \\\n",
       "Wahlperiode                                                     17   \n",
       "Sitzungnr                                                      198   \n",
       "Abstimmnr                                                        1   \n",
       "Fraktion/Gruppe                                            CDU/CSU   \n",
       "Name                                                           Bär   \n",
       "Vorname                                                   Dorothee   \n",
       "Titel                                                          NaN   \n",
       "ja                                                               0   \n",
       "nein                                                             0   \n",
       "Enthaltung                                                       0   \n",
       "ungültig                                                         0   \n",
       "nichtabgegeben                                                   1   \n",
       "Bezeichnung                                           Dorothee Bär   \n",
       "sheet_name                                                T_Export   \n",
       "date                                           2012-10-18 00:00:00   \n",
       "title             Gesetzentwurf 17/9852 und 17/11053 (8. Änderu...   \n",
       "\n",
       "                                                                 4  \n",
       "Wahlperiode                                                     17  \n",
       "Sitzungnr                                                      198  \n",
       "Abstimmnr                                                        1  \n",
       "Fraktion/Gruppe                                            CDU/CSU  \n",
       "Name                                                        Bareiß  \n",
       "Vorname                                                     Thomas  \n",
       "Titel                                                          NaN  \n",
       "ja                                                               1  \n",
       "nein                                                             0  \n",
       "Enthaltung                                                       0  \n",
       "ungültig                                                         0  \n",
       "nichtabgegeben                                                   0  \n",
       "Bezeichnung                                          Thomas Bareiß  \n",
       "sheet_name                                                T_Export  \n",
       "date                                           2012-10-18 00:00:00  \n",
       "title             Gesetzentwurf 17/9852 und 17/11053 (8. Änderu...  "
      ]
     },
     "execution_count": 18,
     "metadata": {},
     "output_type": "execute_result"
    }
   ],
   "source": [
    "%%time\n",
    "sheet_file = sheet_files[0]\n",
    "df = hp.get_sheet_df(sheet_file, file_title_maps=file_title_maps)\n",
    "df.head().T"
   ]
  },
  {
   "cell_type": "code",
   "execution_count": 19,
   "metadata": {},
   "outputs": [],
   "source": [
    "hp.test_get_sheet_df(df)"
   ]
  },
  {
   "cell_type": "markdown",
   "metadata": {},
   "source": [
    "Squishing vote columns"
   ]
  },
  {
   "cell_type": "code",
   "execution_count": 21,
   "metadata": {
    "scrolled": true
   },
   "outputs": [
    {
     "name": "stderr",
     "output_type": "stream",
     "text": [
      "/mnt/c/PetProjects/bundestag/nbs/bundestag/html_parsing.py:138: FutureWarning: In a future version of pandas all arguments of DataFrame.drop except for the argument 'labels' will be keyword-only\n",
      "  tmp = (tmp[tmp == 1].stack()\n"
     ]
    },
    {
     "data": {
      "text/html": [
       "<div>\n",
       "<style scoped>\n",
       "    .dataframe tbody tr th:only-of-type {\n",
       "        vertical-align: middle;\n",
       "    }\n",
       "\n",
       "    .dataframe tbody tr th {\n",
       "        vertical-align: top;\n",
       "    }\n",
       "\n",
       "    .dataframe thead th {\n",
       "        text-align: right;\n",
       "    }\n",
       "</style>\n",
       "<table border=\"1\" class=\"dataframe\">\n",
       "  <thead>\n",
       "    <tr style=\"text-align: right;\">\n",
       "      <th></th>\n",
       "      <th>0</th>\n",
       "      <th>1</th>\n",
       "      <th>2</th>\n",
       "      <th>3</th>\n",
       "      <th>4</th>\n",
       "    </tr>\n",
       "  </thead>\n",
       "  <tbody>\n",
       "    <tr>\n",
       "      <th>Wahlperiode</th>\n",
       "      <td>17</td>\n",
       "      <td>17</td>\n",
       "      <td>17</td>\n",
       "      <td>17</td>\n",
       "      <td>17</td>\n",
       "    </tr>\n",
       "    <tr>\n",
       "      <th>Sitzungnr</th>\n",
       "      <td>198</td>\n",
       "      <td>198</td>\n",
       "      <td>198</td>\n",
       "      <td>198</td>\n",
       "      <td>198</td>\n",
       "    </tr>\n",
       "    <tr>\n",
       "      <th>Abstimmnr</th>\n",
       "      <td>1</td>\n",
       "      <td>1</td>\n",
       "      <td>1</td>\n",
       "      <td>1</td>\n",
       "      <td>1</td>\n",
       "    </tr>\n",
       "    <tr>\n",
       "      <th>Fraktion/Gruppe</th>\n",
       "      <td>CDU/CSU</td>\n",
       "      <td>CDU/CSU</td>\n",
       "      <td>CDU/CSU</td>\n",
       "      <td>CDU/CSU</td>\n",
       "      <td>CDU/CSU</td>\n",
       "    </tr>\n",
       "    <tr>\n",
       "      <th>Name</th>\n",
       "      <td>Aigner</td>\n",
       "      <td>Altmaier</td>\n",
       "      <td>Aumer</td>\n",
       "      <td>Bär</td>\n",
       "      <td>Bareiß</td>\n",
       "    </tr>\n",
       "    <tr>\n",
       "      <th>Vorname</th>\n",
       "      <td>Ilse</td>\n",
       "      <td>Peter</td>\n",
       "      <td>Peter</td>\n",
       "      <td>Dorothee</td>\n",
       "      <td>Thomas</td>\n",
       "    </tr>\n",
       "    <tr>\n",
       "      <th>Titel</th>\n",
       "      <td>NaN</td>\n",
       "      <td>NaN</td>\n",
       "      <td>NaN</td>\n",
       "      <td>NaN</td>\n",
       "      <td>NaN</td>\n",
       "    </tr>\n",
       "    <tr>\n",
       "      <th>Bezeichnung</th>\n",
       "      <td>Ilse Aigner</td>\n",
       "      <td>Peter Altmaier</td>\n",
       "      <td>Peter Aumer</td>\n",
       "      <td>Dorothee Bär</td>\n",
       "      <td>Thomas Bareiß</td>\n",
       "    </tr>\n",
       "    <tr>\n",
       "      <th>sheet_name</th>\n",
       "      <td>T_Export</td>\n",
       "      <td>T_Export</td>\n",
       "      <td>T_Export</td>\n",
       "      <td>T_Export</td>\n",
       "      <td>T_Export</td>\n",
       "    </tr>\n",
       "    <tr>\n",
       "      <th>date</th>\n",
       "      <td>2012-10-18 00:00:00</td>\n",
       "      <td>2012-10-18 00:00:00</td>\n",
       "      <td>2012-10-18 00:00:00</td>\n",
       "      <td>2012-10-18 00:00:00</td>\n",
       "      <td>2012-10-18 00:00:00</td>\n",
       "    </tr>\n",
       "    <tr>\n",
       "      <th>title</th>\n",
       "      <td>Gesetzentwurf 17/9852 und 17/11053 (8. Änderu...</td>\n",
       "      <td>Gesetzentwurf 17/9852 und 17/11053 (8. Änderu...</td>\n",
       "      <td>Gesetzentwurf 17/9852 und 17/11053 (8. Änderu...</td>\n",
       "      <td>Gesetzentwurf 17/9852 und 17/11053 (8. Änderu...</td>\n",
       "      <td>Gesetzentwurf 17/9852 und 17/11053 (8. Änderu...</td>\n",
       "    </tr>\n",
       "    <tr>\n",
       "      <th>issue</th>\n",
       "      <td>2012-10-18  Gesetzentwurf 17/9852 und 17/11053...</td>\n",
       "      <td>2012-10-18  Gesetzentwurf 17/9852 und 17/11053...</td>\n",
       "      <td>2012-10-18  Gesetzentwurf 17/9852 und 17/11053...</td>\n",
       "      <td>2012-10-18  Gesetzentwurf 17/9852 und 17/11053...</td>\n",
       "      <td>2012-10-18  Gesetzentwurf 17/9852 und 17/11053...</td>\n",
       "    </tr>\n",
       "    <tr>\n",
       "      <th>vote</th>\n",
       "      <td>ja</td>\n",
       "      <td>nichtabgegeben</td>\n",
       "      <td>ja</td>\n",
       "      <td>nichtabgegeben</td>\n",
       "      <td>ja</td>\n",
       "    </tr>\n",
       "  </tbody>\n",
       "</table>\n",
       "</div>"
      ],
      "text/plain": [
       "                                                                 0  \\\n",
       "Wahlperiode                                                     17   \n",
       "Sitzungnr                                                      198   \n",
       "Abstimmnr                                                        1   \n",
       "Fraktion/Gruppe                                            CDU/CSU   \n",
       "Name                                                        Aigner   \n",
       "Vorname                                                       Ilse   \n",
       "Titel                                                          NaN   \n",
       "Bezeichnung                                            Ilse Aigner   \n",
       "sheet_name                                                T_Export   \n",
       "date                                           2012-10-18 00:00:00   \n",
       "title             Gesetzentwurf 17/9852 und 17/11053 (8. Änderu...   \n",
       "issue            2012-10-18  Gesetzentwurf 17/9852 und 17/11053...   \n",
       "vote                                                            ja   \n",
       "\n",
       "                                                                 1  \\\n",
       "Wahlperiode                                                     17   \n",
       "Sitzungnr                                                      198   \n",
       "Abstimmnr                                                        1   \n",
       "Fraktion/Gruppe                                            CDU/CSU   \n",
       "Name                                                      Altmaier   \n",
       "Vorname                                                      Peter   \n",
       "Titel                                                          NaN   \n",
       "Bezeichnung                                         Peter Altmaier   \n",
       "sheet_name                                                T_Export   \n",
       "date                                           2012-10-18 00:00:00   \n",
       "title             Gesetzentwurf 17/9852 und 17/11053 (8. Änderu...   \n",
       "issue            2012-10-18  Gesetzentwurf 17/9852 und 17/11053...   \n",
       "vote                                                nichtabgegeben   \n",
       "\n",
       "                                                                 2  \\\n",
       "Wahlperiode                                                     17   \n",
       "Sitzungnr                                                      198   \n",
       "Abstimmnr                                                        1   \n",
       "Fraktion/Gruppe                                            CDU/CSU   \n",
       "Name                                                         Aumer   \n",
       "Vorname                                                      Peter   \n",
       "Titel                                                          NaN   \n",
       "Bezeichnung                                            Peter Aumer   \n",
       "sheet_name                                                T_Export   \n",
       "date                                           2012-10-18 00:00:00   \n",
       "title             Gesetzentwurf 17/9852 und 17/11053 (8. Änderu...   \n",
       "issue            2012-10-18  Gesetzentwurf 17/9852 und 17/11053...   \n",
       "vote                                                            ja   \n",
       "\n",
       "                                                                 3  \\\n",
       "Wahlperiode                                                     17   \n",
       "Sitzungnr                                                      198   \n",
       "Abstimmnr                                                        1   \n",
       "Fraktion/Gruppe                                            CDU/CSU   \n",
       "Name                                                           Bär   \n",
       "Vorname                                                   Dorothee   \n",
       "Titel                                                          NaN   \n",
       "Bezeichnung                                           Dorothee Bär   \n",
       "sheet_name                                                T_Export   \n",
       "date                                           2012-10-18 00:00:00   \n",
       "title             Gesetzentwurf 17/9852 und 17/11053 (8. Änderu...   \n",
       "issue            2012-10-18  Gesetzentwurf 17/9852 und 17/11053...   \n",
       "vote                                                nichtabgegeben   \n",
       "\n",
       "                                                                 4  \n",
       "Wahlperiode                                                     17  \n",
       "Sitzungnr                                                      198  \n",
       "Abstimmnr                                                        1  \n",
       "Fraktion/Gruppe                                            CDU/CSU  \n",
       "Name                                                        Bareiß  \n",
       "Vorname                                                     Thomas  \n",
       "Titel                                                          NaN  \n",
       "Bezeichnung                                          Thomas Bareiß  \n",
       "sheet_name                                                T_Export  \n",
       "date                                           2012-10-18 00:00:00  \n",
       "title             Gesetzentwurf 17/9852 und 17/11053 (8. Änderu...  \n",
       "issue            2012-10-18  Gesetzentwurf 17/9852 und 17/11053...  \n",
       "vote                                                            ja  "
      ]
     },
     "execution_count": 21,
     "metadata": {},
     "output_type": "execute_result"
    }
   ],
   "source": [
    "df_squished = hp.get_squished_dataframe(df)\n",
    "df_squished.head().T"
   ]
  },
  {
   "cell_type": "code",
   "execution_count": null,
   "metadata": {},
   "outputs": [],
   "source": [
    "hp.test_squished_df(df_squished, df)"
   ]
  },
  {
   "cell_type": "markdown",
   "metadata": {},
   "source": [
    "Setting some dtypes"
   ]
  },
  {
   "cell_type": "code",
   "execution_count": 22,
   "metadata": {},
   "outputs": [],
   "source": [
    "df_squished = hp.set_sheet_dtypes(df_squished)"
   ]
  },
  {
   "cell_type": "markdown",
   "metadata": {},
   "source": [
    "Loading multiple sheets into dataframes"
   ]
  },
  {
   "cell_type": "code",
   "execution_count": 24,
   "metadata": {},
   "outputs": [
    {
     "name": "stderr",
     "output_type": "stream",
     "text": [
      "Sheets:   0%|                                                                                   | 0/464 [00:00<?, ?it/s]/mnt/c/PetProjects/bundestag/nbs/bundestag/html_parsing.py:138: FutureWarning: In a future version of pandas all arguments of DataFrame.drop except for the argument 'labels' will be keyword-only\n",
      "  tmp = (tmp[tmp == 1].stack()\n",
      "Sheets:  12%|████████▊                                                                 | 55/464 [00:03<00:21, 18.81it/s]"
     ]
    },
    {
     "name": "stdout",
     "output_type": "stream",
     "text": [
      "WARNING *** OLE2 inconsistency: SSCS size is 0 but SSAT size is non-zero\n"
     ]
    },
    {
     "name": "stderr",
     "output_type": "stream",
     "text": [
      "Sheets:  14%|██████████▎                                                               | 65/464 [00:03<00:22, 17.82it/s]"
     ]
    },
    {
     "name": "stdout",
     "output_type": "stream",
     "text": [
      "WARNING *** OLE2 inconsistency: SSCS size is 0 but SSAT size is non-zero\n",
      "WARNING *** OLE2 inconsistency: SSCS size is 0 but SSAT size is non-zero\n",
      "WARNING *** OLE2 inconsistency: SSCS size is 0 but SSAT size is non-zero\n"
     ]
    },
    {
     "name": "stderr",
     "output_type": "stream",
     "text": [
      "Sheets:  21%|███████████████▍                                                          | 97/464 [00:05<00:19, 18.43it/s]"
     ]
    },
    {
     "name": "stdout",
     "output_type": "stream",
     "text": [
      "WARNING *** OLE2 inconsistency: SSCS size is 0 but SSAT size is non-zero\n",
      "WARNING *** OLE2 inconsistency: SSCS size is 0 but SSAT size is non-zero\n",
      "WARNING *** OLE2 inconsistency: SSCS size is 0 but SSAT size is non-zero\n",
      "WARNING *** OLE2 inconsistency: SSCS size is 0 but SSAT size is non-zero\n"
     ]
    },
    {
     "name": "stderr",
     "output_type": "stream",
     "text": [
      "Sheets:  22%|███████████████▉                                                         | 101/464 [00:05<00:20, 17.71it/s]"
     ]
    },
    {
     "name": "stdout",
     "output_type": "stream",
     "text": [
      "WARNING *** OLE2 inconsistency: SSCS size is 0 but SSAT size is non-zero\n"
     ]
    },
    {
     "name": "stderr",
     "output_type": "stream",
     "text": [
      "Sheets:  46%|█████████████████████████████████▋                                       | 214/464 [00:11<00:13, 18.39it/s]"
     ]
    },
    {
     "name": "stdout",
     "output_type": "stream",
     "text": [
      "WARNING *** OLE2 inconsistency: SSCS size is 0 but SSAT size is non-zero\n"
     ]
    },
    {
     "name": "stderr",
     "output_type": "stream",
     "text": [
      "Sheets:  76%|███████████████████████████████████████████████████████▌                 | 353/464 [00:19<00:06, 16.54it/s]"
     ]
    },
    {
     "name": "stdout",
     "output_type": "stream",
     "text": [
      "WARNING *** OLE2 inconsistency: SSCS size is 0 but SSAT size is non-zero\n"
     ]
    },
    {
     "name": "stderr",
     "output_type": "stream",
     "text": [
      "Sheets: 100%|█████████████████████████████████████████████████████████████████████████| 464/464 [00:40<00:00, 11.42it/s]\n"
     ]
    },
    {
     "name": "stdout",
     "output_type": "stream",
     "text": [
      "CPU times: user 29.1 s, sys: 432 ms, total: 29.6 s\n",
      "Wall time: 40.9 s\n"
     ]
    },
    {
     "data": {
      "text/html": [
       "<div>\n",
       "<style scoped>\n",
       "    .dataframe tbody tr th:only-of-type {\n",
       "        vertical-align: middle;\n",
       "    }\n",
       "\n",
       "    .dataframe tbody tr th {\n",
       "        vertical-align: top;\n",
       "    }\n",
       "\n",
       "    .dataframe thead th {\n",
       "        text-align: right;\n",
       "    }\n",
       "</style>\n",
       "<table border=\"1\" class=\"dataframe\">\n",
       "  <thead>\n",
       "    <tr style=\"text-align: right;\">\n",
       "      <th></th>\n",
       "      <th>0</th>\n",
       "      <th>1</th>\n",
       "      <th>2</th>\n",
       "      <th>3</th>\n",
       "      <th>4</th>\n",
       "    </tr>\n",
       "  </thead>\n",
       "  <tbody>\n",
       "    <tr>\n",
       "      <th>Wahlperiode</th>\n",
       "      <td>17</td>\n",
       "      <td>17</td>\n",
       "      <td>17</td>\n",
       "      <td>17</td>\n",
       "      <td>17</td>\n",
       "    </tr>\n",
       "    <tr>\n",
       "      <th>Sitzungnr</th>\n",
       "      <td>198</td>\n",
       "      <td>198</td>\n",
       "      <td>198</td>\n",
       "      <td>198</td>\n",
       "      <td>198</td>\n",
       "    </tr>\n",
       "    <tr>\n",
       "      <th>Abstimmnr</th>\n",
       "      <td>1</td>\n",
       "      <td>1</td>\n",
       "      <td>1</td>\n",
       "      <td>1</td>\n",
       "      <td>1</td>\n",
       "    </tr>\n",
       "    <tr>\n",
       "      <th>Fraktion/Gruppe</th>\n",
       "      <td>CDU/CSU</td>\n",
       "      <td>CDU/CSU</td>\n",
       "      <td>CDU/CSU</td>\n",
       "      <td>CDU/CSU</td>\n",
       "      <td>CDU/CSU</td>\n",
       "    </tr>\n",
       "    <tr>\n",
       "      <th>Name</th>\n",
       "      <td>Aigner</td>\n",
       "      <td>Altmaier</td>\n",
       "      <td>Aumer</td>\n",
       "      <td>Bär</td>\n",
       "      <td>Bareiß</td>\n",
       "    </tr>\n",
       "    <tr>\n",
       "      <th>Vorname</th>\n",
       "      <td>Ilse</td>\n",
       "      <td>Peter</td>\n",
       "      <td>Peter</td>\n",
       "      <td>Dorothee</td>\n",
       "      <td>Thomas</td>\n",
       "    </tr>\n",
       "    <tr>\n",
       "      <th>Titel</th>\n",
       "      <td>nan</td>\n",
       "      <td>nan</td>\n",
       "      <td>nan</td>\n",
       "      <td>nan</td>\n",
       "      <td>nan</td>\n",
       "    </tr>\n",
       "    <tr>\n",
       "      <th>Bezeichnung</th>\n",
       "      <td>Ilse Aigner</td>\n",
       "      <td>Peter Altmaier</td>\n",
       "      <td>Peter Aumer</td>\n",
       "      <td>Dorothee Bär</td>\n",
       "      <td>Thomas Bareiß</td>\n",
       "    </tr>\n",
       "    <tr>\n",
       "      <th>sheet_name</th>\n",
       "      <td>T_Export</td>\n",
       "      <td>T_Export</td>\n",
       "      <td>T_Export</td>\n",
       "      <td>T_Export</td>\n",
       "      <td>T_Export</td>\n",
       "    </tr>\n",
       "    <tr>\n",
       "      <th>date</th>\n",
       "      <td>2012-10-18 00:00:00</td>\n",
       "      <td>2012-10-18 00:00:00</td>\n",
       "      <td>2012-10-18 00:00:00</td>\n",
       "      <td>2012-10-18 00:00:00</td>\n",
       "      <td>2012-10-18 00:00:00</td>\n",
       "    </tr>\n",
       "    <tr>\n",
       "      <th>title</th>\n",
       "      <td>Gesetzentwurf 17/9852 und 17/11053 (8. Änderu...</td>\n",
       "      <td>Gesetzentwurf 17/9852 und 17/11053 (8. Änderu...</td>\n",
       "      <td>Gesetzentwurf 17/9852 und 17/11053 (8. Änderu...</td>\n",
       "      <td>Gesetzentwurf 17/9852 und 17/11053 (8. Änderu...</td>\n",
       "      <td>Gesetzentwurf 17/9852 und 17/11053 (8. Änderu...</td>\n",
       "    </tr>\n",
       "    <tr>\n",
       "      <th>issue</th>\n",
       "      <td>2012-10-18  Gesetzentwurf 17/9852 und 17/11053...</td>\n",
       "      <td>2012-10-18  Gesetzentwurf 17/9852 und 17/11053...</td>\n",
       "      <td>2012-10-18  Gesetzentwurf 17/9852 und 17/11053...</td>\n",
       "      <td>2012-10-18  Gesetzentwurf 17/9852 und 17/11053...</td>\n",
       "      <td>2012-10-18  Gesetzentwurf 17/9852 und 17/11053...</td>\n",
       "    </tr>\n",
       "    <tr>\n",
       "      <th>vote</th>\n",
       "      <td>ja</td>\n",
       "      <td>nichtabgegeben</td>\n",
       "      <td>ja</td>\n",
       "      <td>nichtabgegeben</td>\n",
       "      <td>ja</td>\n",
       "    </tr>\n",
       "    <tr>\n",
       "      <th>AbgNr</th>\n",
       "      <td>NaN</td>\n",
       "      <td>NaN</td>\n",
       "      <td>NaN</td>\n",
       "      <td>NaN</td>\n",
       "      <td>NaN</td>\n",
       "    </tr>\n",
       "    <tr>\n",
       "      <th>Bemerkung</th>\n",
       "      <td>NaN</td>\n",
       "      <td>NaN</td>\n",
       "      <td>NaN</td>\n",
       "      <td>NaN</td>\n",
       "      <td>NaN</td>\n",
       "    </tr>\n",
       "  </tbody>\n",
       "</table>\n",
       "</div>"
      ],
      "text/plain": [
       "                                                                 0  \\\n",
       "Wahlperiode                                                     17   \n",
       "Sitzungnr                                                      198   \n",
       "Abstimmnr                                                        1   \n",
       "Fraktion/Gruppe                                            CDU/CSU   \n",
       "Name                                                        Aigner   \n",
       "Vorname                                                       Ilse   \n",
       "Titel                                                          nan   \n",
       "Bezeichnung                                            Ilse Aigner   \n",
       "sheet_name                                                T_Export   \n",
       "date                                           2012-10-18 00:00:00   \n",
       "title             Gesetzentwurf 17/9852 und 17/11053 (8. Änderu...   \n",
       "issue            2012-10-18  Gesetzentwurf 17/9852 und 17/11053...   \n",
       "vote                                                            ja   \n",
       "AbgNr                                                          NaN   \n",
       "Bemerkung                                                      NaN   \n",
       "\n",
       "                                                                 1  \\\n",
       "Wahlperiode                                                     17   \n",
       "Sitzungnr                                                      198   \n",
       "Abstimmnr                                                        1   \n",
       "Fraktion/Gruppe                                            CDU/CSU   \n",
       "Name                                                      Altmaier   \n",
       "Vorname                                                      Peter   \n",
       "Titel                                                          nan   \n",
       "Bezeichnung                                         Peter Altmaier   \n",
       "sheet_name                                                T_Export   \n",
       "date                                           2012-10-18 00:00:00   \n",
       "title             Gesetzentwurf 17/9852 und 17/11053 (8. Änderu...   \n",
       "issue            2012-10-18  Gesetzentwurf 17/9852 und 17/11053...   \n",
       "vote                                                nichtabgegeben   \n",
       "AbgNr                                                          NaN   \n",
       "Bemerkung                                                      NaN   \n",
       "\n",
       "                                                                 2  \\\n",
       "Wahlperiode                                                     17   \n",
       "Sitzungnr                                                      198   \n",
       "Abstimmnr                                                        1   \n",
       "Fraktion/Gruppe                                            CDU/CSU   \n",
       "Name                                                         Aumer   \n",
       "Vorname                                                      Peter   \n",
       "Titel                                                          nan   \n",
       "Bezeichnung                                            Peter Aumer   \n",
       "sheet_name                                                T_Export   \n",
       "date                                           2012-10-18 00:00:00   \n",
       "title             Gesetzentwurf 17/9852 und 17/11053 (8. Änderu...   \n",
       "issue            2012-10-18  Gesetzentwurf 17/9852 und 17/11053...   \n",
       "vote                                                            ja   \n",
       "AbgNr                                                          NaN   \n",
       "Bemerkung                                                      NaN   \n",
       "\n",
       "                                                                 3  \\\n",
       "Wahlperiode                                                     17   \n",
       "Sitzungnr                                                      198   \n",
       "Abstimmnr                                                        1   \n",
       "Fraktion/Gruppe                                            CDU/CSU   \n",
       "Name                                                           Bär   \n",
       "Vorname                                                   Dorothee   \n",
       "Titel                                                          nan   \n",
       "Bezeichnung                                           Dorothee Bär   \n",
       "sheet_name                                                T_Export   \n",
       "date                                           2012-10-18 00:00:00   \n",
       "title             Gesetzentwurf 17/9852 und 17/11053 (8. Änderu...   \n",
       "issue            2012-10-18  Gesetzentwurf 17/9852 und 17/11053...   \n",
       "vote                                                nichtabgegeben   \n",
       "AbgNr                                                          NaN   \n",
       "Bemerkung                                                      NaN   \n",
       "\n",
       "                                                                 4  \n",
       "Wahlperiode                                                     17  \n",
       "Sitzungnr                                                      198  \n",
       "Abstimmnr                                                        1  \n",
       "Fraktion/Gruppe                                            CDU/CSU  \n",
       "Name                                                        Bareiß  \n",
       "Vorname                                                     Thomas  \n",
       "Titel                                                          nan  \n",
       "Bezeichnung                                          Thomas Bareiß  \n",
       "sheet_name                                                T_Export  \n",
       "date                                           2012-10-18 00:00:00  \n",
       "title             Gesetzentwurf 17/9852 und 17/11053 (8. Änderu...  \n",
       "issue            2012-10-18  Gesetzentwurf 17/9852 und 17/11053...  \n",
       "vote                                                            ja  \n",
       "AbgNr                                                          NaN  \n",
       "Bemerkung                                                      NaN  "
      ]
     },
     "execution_count": 24,
     "metadata": {},
     "output_type": "execute_result"
    }
   ],
   "source": [
    "%%time\n",
    "df = hp.get_multiple_sheets_df(sheet_files, file_title_maps=file_title_maps)\n",
    "df.head().T"
   ]
  },
  {
   "cell_type": "markdown",
   "metadata": {},
   "source": [
    "Doing all the above"
   ]
  },
  {
   "cell_type": "code",
   "execution_count": 25,
   "metadata": {},
   "outputs": [
    {
     "name": "stderr",
     "output_type": "stream",
     "text": [
      "HTM(L): 100%|███████████████████████████████████████████████████████████████████████████| 24/24 [00:09<00:00,  2.63it/s]\n",
      "File:   1%|▋                                                                           | 4/464 [00:00<00:01, 393.78it/s]\n",
      "Sheets:   0%|                                                                                   | 0/464 [00:00<?, ?it/s]/mnt/c/PetProjects/bundestag/nbs/bundestag/html_parsing.py:138: FutureWarning: In a future version of pandas all arguments of DataFrame.drop except for the argument 'labels' will be keyword-only\n",
      "  tmp = (tmp[tmp == 1].stack()\n",
      "Sheets:  12%|████████▌                                                                 | 54/464 [00:03<00:22, 17.96it/s]"
     ]
    },
    {
     "name": "stdout",
     "output_type": "stream",
     "text": [
      "WARNING *** OLE2 inconsistency: SSCS size is 0 but SSAT size is non-zero\n"
     ]
    },
    {
     "name": "stderr",
     "output_type": "stream",
     "text": [
      "Sheets:  14%|██████████▌                                                               | 66/464 [00:03<00:23, 16.99it/s]"
     ]
    },
    {
     "name": "stdout",
     "output_type": "stream",
     "text": [
      "WARNING *** OLE2 inconsistency: SSCS size is 0 but SSAT size is non-zero\n",
      "WARNING *** OLE2 inconsistency: SSCS size is 0 but SSAT size is non-zero\n",
      "WARNING *** OLE2 inconsistency: SSCS size is 0 but SSAT size is non-zero\n"
     ]
    },
    {
     "name": "stderr",
     "output_type": "stream",
     "text": [
      "Sheets:  21%|███████████████▋                                                          | 98/464 [00:05<00:20, 17.48it/s]"
     ]
    },
    {
     "name": "stdout",
     "output_type": "stream",
     "text": [
      "WARNING *** OLE2 inconsistency: SSCS size is 0 but SSAT size is non-zero\n",
      "WARNING *** OLE2 inconsistency: SSCS size is 0 but SSAT size is non-zero\n",
      "WARNING *** OLE2 inconsistency: SSCS size is 0 but SSAT size is non-zero\n",
      "WARNING *** OLE2 inconsistency: SSCS size is 0 but SSAT size is non-zero\n"
     ]
    },
    {
     "name": "stderr",
     "output_type": "stream",
     "text": [
      "Sheets:  22%|████████████████                                                         | 102/464 [00:05<00:20, 17.41it/s]"
     ]
    },
    {
     "name": "stdout",
     "output_type": "stream",
     "text": [
      "WARNING *** OLE2 inconsistency: SSCS size is 0 but SSAT size is non-zero\n"
     ]
    },
    {
     "name": "stderr",
     "output_type": "stream",
     "text": [
      "Sheets:  47%|█████████████████████████████████▉                                       | 216/464 [00:12<00:15, 16.14it/s]"
     ]
    },
    {
     "name": "stdout",
     "output_type": "stream",
     "text": [
      "WARNING *** OLE2 inconsistency: SSCS size is 0 but SSAT size is non-zero\n"
     ]
    },
    {
     "name": "stderr",
     "output_type": "stream",
     "text": [
      "Sheets:  76%|███████████████████████████████████████████████████████▋                 | 354/464 [00:20<00:06, 16.01it/s]"
     ]
    },
    {
     "name": "stdout",
     "output_type": "stream",
     "text": [
      "WARNING *** OLE2 inconsistency: SSCS size is 0 but SSAT size is non-zero\n"
     ]
    },
    {
     "name": "stderr",
     "output_type": "stream",
     "text": [
      "Sheets: 100%|█████████████████████████████████████████████████████████████████████████| 464/464 [00:37<00:00, 12.41it/s]\n"
     ]
    },
    {
     "name": "stdout",
     "output_type": "stream",
     "text": [
      "CPU times: user 39.8 s, sys: 530 ms, total: 40.3 s\n",
      "Wall time: 46.9 s\n"
     ]
    },
    {
     "data": {
      "text/html": [
       "<div>\n",
       "<style scoped>\n",
       "    .dataframe tbody tr th:only-of-type {\n",
       "        vertical-align: middle;\n",
       "    }\n",
       "\n",
       "    .dataframe tbody tr th {\n",
       "        vertical-align: top;\n",
       "    }\n",
       "\n",
       "    .dataframe thead th {\n",
       "        text-align: right;\n",
       "    }\n",
       "</style>\n",
       "<table border=\"1\" class=\"dataframe\">\n",
       "  <thead>\n",
       "    <tr style=\"text-align: right;\">\n",
       "      <th></th>\n",
       "      <th>0</th>\n",
       "      <th>1</th>\n",
       "      <th>2</th>\n",
       "      <th>3</th>\n",
       "      <th>4</th>\n",
       "    </tr>\n",
       "  </thead>\n",
       "  <tbody>\n",
       "    <tr>\n",
       "      <th>Wahlperiode</th>\n",
       "      <td>17</td>\n",
       "      <td>17</td>\n",
       "      <td>17</td>\n",
       "      <td>17</td>\n",
       "      <td>17</td>\n",
       "    </tr>\n",
       "    <tr>\n",
       "      <th>Sitzungnr</th>\n",
       "      <td>198</td>\n",
       "      <td>198</td>\n",
       "      <td>198</td>\n",
       "      <td>198</td>\n",
       "      <td>198</td>\n",
       "    </tr>\n",
       "    <tr>\n",
       "      <th>Abstimmnr</th>\n",
       "      <td>1</td>\n",
       "      <td>1</td>\n",
       "      <td>1</td>\n",
       "      <td>1</td>\n",
       "      <td>1</td>\n",
       "    </tr>\n",
       "    <tr>\n",
       "      <th>Fraktion/Gruppe</th>\n",
       "      <td>CDU/CSU</td>\n",
       "      <td>CDU/CSU</td>\n",
       "      <td>CDU/CSU</td>\n",
       "      <td>CDU/CSU</td>\n",
       "      <td>CDU/CSU</td>\n",
       "    </tr>\n",
       "    <tr>\n",
       "      <th>Name</th>\n",
       "      <td>Aigner</td>\n",
       "      <td>Altmaier</td>\n",
       "      <td>Aumer</td>\n",
       "      <td>Bär</td>\n",
       "      <td>Bareiß</td>\n",
       "    </tr>\n",
       "    <tr>\n",
       "      <th>Vorname</th>\n",
       "      <td>Ilse</td>\n",
       "      <td>Peter</td>\n",
       "      <td>Peter</td>\n",
       "      <td>Dorothee</td>\n",
       "      <td>Thomas</td>\n",
       "    </tr>\n",
       "    <tr>\n",
       "      <th>Titel</th>\n",
       "      <td>nan</td>\n",
       "      <td>nan</td>\n",
       "      <td>nan</td>\n",
       "      <td>nan</td>\n",
       "      <td>nan</td>\n",
       "    </tr>\n",
       "    <tr>\n",
       "      <th>Bezeichnung</th>\n",
       "      <td>Ilse Aigner</td>\n",
       "      <td>Peter Altmaier</td>\n",
       "      <td>Peter Aumer</td>\n",
       "      <td>Dorothee Bär</td>\n",
       "      <td>Thomas Bareiß</td>\n",
       "    </tr>\n",
       "    <tr>\n",
       "      <th>sheet_name</th>\n",
       "      <td>T_Export</td>\n",
       "      <td>T_Export</td>\n",
       "      <td>T_Export</td>\n",
       "      <td>T_Export</td>\n",
       "      <td>T_Export</td>\n",
       "    </tr>\n",
       "    <tr>\n",
       "      <th>date</th>\n",
       "      <td>2012-10-18 00:00:00</td>\n",
       "      <td>2012-10-18 00:00:00</td>\n",
       "      <td>2012-10-18 00:00:00</td>\n",
       "      <td>2012-10-18 00:00:00</td>\n",
       "      <td>2012-10-18 00:00:00</td>\n",
       "    </tr>\n",
       "    <tr>\n",
       "      <th>title</th>\n",
       "      <td>Gesetzentwurf 17/9852 und 17/11053 (8. Änderu...</td>\n",
       "      <td>Gesetzentwurf 17/9852 und 17/11053 (8. Änderu...</td>\n",
       "      <td>Gesetzentwurf 17/9852 und 17/11053 (8. Änderu...</td>\n",
       "      <td>Gesetzentwurf 17/9852 und 17/11053 (8. Änderu...</td>\n",
       "      <td>Gesetzentwurf 17/9852 und 17/11053 (8. Änderu...</td>\n",
       "    </tr>\n",
       "    <tr>\n",
       "      <th>issue</th>\n",
       "      <td>2012-10-18  Gesetzentwurf 17/9852 und 17/11053...</td>\n",
       "      <td>2012-10-18  Gesetzentwurf 17/9852 und 17/11053...</td>\n",
       "      <td>2012-10-18  Gesetzentwurf 17/9852 und 17/11053...</td>\n",
       "      <td>2012-10-18  Gesetzentwurf 17/9852 und 17/11053...</td>\n",
       "      <td>2012-10-18  Gesetzentwurf 17/9852 und 17/11053...</td>\n",
       "    </tr>\n",
       "    <tr>\n",
       "      <th>vote</th>\n",
       "      <td>ja</td>\n",
       "      <td>nichtabgegeben</td>\n",
       "      <td>ja</td>\n",
       "      <td>nichtabgegeben</td>\n",
       "      <td>ja</td>\n",
       "    </tr>\n",
       "    <tr>\n",
       "      <th>AbgNr</th>\n",
       "      <td>NaN</td>\n",
       "      <td>NaN</td>\n",
       "      <td>NaN</td>\n",
       "      <td>NaN</td>\n",
       "      <td>NaN</td>\n",
       "    </tr>\n",
       "    <tr>\n",
       "      <th>Bemerkung</th>\n",
       "      <td>NaN</td>\n",
       "      <td>NaN</td>\n",
       "      <td>NaN</td>\n",
       "      <td>NaN</td>\n",
       "      <td>NaN</td>\n",
       "    </tr>\n",
       "  </tbody>\n",
       "</table>\n",
       "</div>"
      ],
      "text/plain": [
       "                                                                 0  \\\n",
       "Wahlperiode                                                     17   \n",
       "Sitzungnr                                                      198   \n",
       "Abstimmnr                                                        1   \n",
       "Fraktion/Gruppe                                            CDU/CSU   \n",
       "Name                                                        Aigner   \n",
       "Vorname                                                       Ilse   \n",
       "Titel                                                          nan   \n",
       "Bezeichnung                                            Ilse Aigner   \n",
       "sheet_name                                                T_Export   \n",
       "date                                           2012-10-18 00:00:00   \n",
       "title             Gesetzentwurf 17/9852 und 17/11053 (8. Änderu...   \n",
       "issue            2012-10-18  Gesetzentwurf 17/9852 und 17/11053...   \n",
       "vote                                                            ja   \n",
       "AbgNr                                                          NaN   \n",
       "Bemerkung                                                      NaN   \n",
       "\n",
       "                                                                 1  \\\n",
       "Wahlperiode                                                     17   \n",
       "Sitzungnr                                                      198   \n",
       "Abstimmnr                                                        1   \n",
       "Fraktion/Gruppe                                            CDU/CSU   \n",
       "Name                                                      Altmaier   \n",
       "Vorname                                                      Peter   \n",
       "Titel                                                          nan   \n",
       "Bezeichnung                                         Peter Altmaier   \n",
       "sheet_name                                                T_Export   \n",
       "date                                           2012-10-18 00:00:00   \n",
       "title             Gesetzentwurf 17/9852 und 17/11053 (8. Änderu...   \n",
       "issue            2012-10-18  Gesetzentwurf 17/9852 und 17/11053...   \n",
       "vote                                                nichtabgegeben   \n",
       "AbgNr                                                          NaN   \n",
       "Bemerkung                                                      NaN   \n",
       "\n",
       "                                                                 2  \\\n",
       "Wahlperiode                                                     17   \n",
       "Sitzungnr                                                      198   \n",
       "Abstimmnr                                                        1   \n",
       "Fraktion/Gruppe                                            CDU/CSU   \n",
       "Name                                                         Aumer   \n",
       "Vorname                                                      Peter   \n",
       "Titel                                                          nan   \n",
       "Bezeichnung                                            Peter Aumer   \n",
       "sheet_name                                                T_Export   \n",
       "date                                           2012-10-18 00:00:00   \n",
       "title             Gesetzentwurf 17/9852 und 17/11053 (8. Änderu...   \n",
       "issue            2012-10-18  Gesetzentwurf 17/9852 und 17/11053...   \n",
       "vote                                                            ja   \n",
       "AbgNr                                                          NaN   \n",
       "Bemerkung                                                      NaN   \n",
       "\n",
       "                                                                 3  \\\n",
       "Wahlperiode                                                     17   \n",
       "Sitzungnr                                                      198   \n",
       "Abstimmnr                                                        1   \n",
       "Fraktion/Gruppe                                            CDU/CSU   \n",
       "Name                                                           Bär   \n",
       "Vorname                                                   Dorothee   \n",
       "Titel                                                          nan   \n",
       "Bezeichnung                                           Dorothee Bär   \n",
       "sheet_name                                                T_Export   \n",
       "date                                           2012-10-18 00:00:00   \n",
       "title             Gesetzentwurf 17/9852 und 17/11053 (8. Änderu...   \n",
       "issue            2012-10-18  Gesetzentwurf 17/9852 und 17/11053...   \n",
       "vote                                                nichtabgegeben   \n",
       "AbgNr                                                          NaN   \n",
       "Bemerkung                                                      NaN   \n",
       "\n",
       "                                                                 4  \n",
       "Wahlperiode                                                     17  \n",
       "Sitzungnr                                                      198  \n",
       "Abstimmnr                                                        1  \n",
       "Fraktion/Gruppe                                            CDU/CSU  \n",
       "Name                                                        Bareiß  \n",
       "Vorname                                                     Thomas  \n",
       "Titel                                                          nan  \n",
       "Bezeichnung                                          Thomas Bareiß  \n",
       "sheet_name                                                T_Export  \n",
       "date                                           2012-10-18 00:00:00  \n",
       "title             Gesetzentwurf 17/9852 und 17/11053 (8. Änderu...  \n",
       "issue            2012-10-18  Gesetzentwurf 17/9852 und 17/11053...  \n",
       "vote                                                            ja  \n",
       "AbgNr                                                          NaN  \n",
       "Bemerkung                                                      NaN  "
      ]
     },
     "execution_count": 25,
     "metadata": {},
     "output_type": "execute_result"
    }
   ],
   "source": [
    "%%time\n",
    "df = hp.get_multiple_sheets(html_path, sheet_path, nmax=3)\n",
    "df.head().T"
   ]
  },
  {
   "cell_type": "markdown",
   "metadata": {},
   "source": [
    "Writing to disk"
   ]
  },
  {
   "cell_type": "code",
   "execution_count": null,
   "metadata": {},
   "outputs": [],
   "source": [
    "%%time\n",
    "# df.to_parquet('../roll_call_votes.parquet')"
   ]
  },
  {
   "cell_type": "code",
   "execution_count": null,
   "metadata": {},
   "outputs": [],
   "source": []
  }
 ],
 "metadata": {
  "kernelspec": {
   "display_name": "Python 3 (ipykernel)",
   "language": "python",
   "name": "python3"
  },
  "language_info": {
   "codemirror_mode": {
    "name": "ipython",
    "version": 3
   },
   "file_extension": ".py",
   "mimetype": "text/x-python",
   "name": "python",
   "nbconvert_exporter": "python",
   "pygments_lexer": "ipython3",
   "version": "3.8.5"
  },
  "toc": {
   "base_numbering": 1,
   "nav_menu": {},
   "number_sections": true,
   "sideBar": true,
   "skip_h1_title": false,
   "title_cell": "Table of Contents",
   "title_sidebar": "Contents",
   "toc_cell": false,
   "toc_position": {},
   "toc_section_display": true,
   "toc_window_display": false
  }
 },
 "nbformat": 4,
 "nbformat_minor": 4
}
