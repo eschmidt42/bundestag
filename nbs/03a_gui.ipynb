{
 "cells": [
  {
   "cell_type": "code",
   "execution_count": null,
   "metadata": {},
   "outputs": [],
   "source": [
    "%load_ext autoreload\n",
    "%autoreload 2"
   ]
  },
  {
   "cell_type": "markdown",
   "metadata": {},
   "source": [
    "# MdBs matching\n",
    "> Ever wanted to know which MdB shared a lot of ja/nein/... votes with which other MdB? Find out!"
   ]
  },
  {
   "cell_type": "code",
   "execution_count": null,
   "metadata": {},
   "outputs": [],
   "source": [
    "import sys\n",
    "sys.path.append('..')\n",
    "import ipywidgets as widgets\n",
    "from bundestag.gui import *"
   ]
  },
  {
   "cell_type": "code",
   "execution_count": null,
   "metadata": {},
   "outputs": [],
   "source": [
    "widgets.VBox([widgets.Label('Select your member (MdB), the smallest number of issues they and others should have voted on and the top n similar MdBs.'),\n",
    "              member_widget, num_issues_widget, top_similar_widget, submit_widget, \n",
    "              config_widget, display_widget])"
   ]
  },
  {
   "cell_type": "code",
   "execution_count": null,
   "metadata": {},
   "outputs": [],
   "source": []
  }
 ],
 "metadata": {
  "kernelspec": {
   "display_name": "Python [conda env:py38_web]",
   "language": "python",
   "name": "conda-env-py38_web-py"
  }
 },
 "nbformat": 4,
 "nbformat_minor": 4
}
