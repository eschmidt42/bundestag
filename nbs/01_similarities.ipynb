{
 "cells": [
  {
   "cell_type": "code",
   "execution_count": null,
   "metadata": {},
   "outputs": [],
   "source": [
    "#default_exp similarity"
   ]
  },
  {
   "cell_type": "markdown",
   "metadata": {},
   "source": [
    "#  Similarities\n",
    "> Identifying the similarities between parties and members of the parliament based on their average voting behavior during roll call votes."
   ]
  },
  {
   "cell_type": "code",
   "execution_count": null,
   "metadata": {},
   "outputs": [],
   "source": [
    "#hide\n",
    "%load_ext autoreload\n",
    "%autoreload 2"
   ]
  },
  {
   "cell_type": "markdown",
   "metadata": {},
   "source": [
    "## Setup"
   ]
  },
  {
   "cell_type": "code",
   "execution_count": null,
   "metadata": {},
   "outputs": [],
   "source": [
    "#export\n",
    "import pandas as pd\n",
    "import plotly.graph_objects as go\n",
    "import plotly.express as px\n",
    "import numpy as np\n",
    "from scipy import spatial\n",
    "from bundestag import parsing\n",
    "\n",
    "pd.options.plotting.backend = \"plotly\""
   ]
  },
  {
   "cell_type": "code",
   "execution_count": null,
   "metadata": {},
   "outputs": [],
   "source": [
    "df = pd.read_parquet('../roll_call_votes.parquet')"
   ]
  },
  {
   "cell_type": "markdown",
   "metadata": {},
   "source": [
    "## Voting outcomes by party"
   ]
  },
  {
   "cell_type": "code",
   "execution_count": null,
   "metadata": {},
   "outputs": [],
   "source": [
    "#export\n",
    "def get_votes_by_party(df:pd.DataFrame):\n",
    "    party_votes = (df.groupby(['Fraktion/Gruppe', 'date', 'title'])['vote']\n",
    "                   .value_counts(normalize=True)\n",
    "                   .to_frame('fraction')\n",
    "                   .join(df.groupby(['Fraktion/Gruppe', 'date', 'title'])['vote']\n",
    "                         .value_counts(normalize=False)\n",
    "                         .to_frame('# votes')))\n",
    "    df_plot = party_votes.reset_index()\n",
    "    \n",
    "    index = []\n",
    "    for party, date, title in df_plot[['Fraktion/Gruppe', 'date', 'title']].drop_duplicates().values:\n",
    "        index.extend([[party, date, title, vote] for vote in parsing.VOTE_COLS])\n",
    "\n",
    "    index = np.array(index)\n",
    "    index = pd.MultiIndex.from_arrays(index.T, names=['Fraktion/Gruppe', 'date', 'title', 'vote'])\n",
    "    df_plot = (df_plot\n",
    "               .set_index(['Fraktion/Gruppe', 'date', 'title', 'vote'])\n",
    "               .reindex(index)\n",
    "               .fillna(0))\n",
    "    \n",
    "    party_votes = df_plot.pivot_table(index=['Fraktion/Gruppe', 'date', 'title'],\n",
    "                                  columns='vote', values='fraction')\n",
    "    return party_votes, df_plot.reset_index()"
   ]
  },
  {
   "cell_type": "code",
   "execution_count": null,
   "metadata": {},
   "outputs": [],
   "source": [
    "%%time\n",
    "party_votes, df_plot = get_votes_by_party(df)"
   ]
  },
  {
   "cell_type": "code",
   "execution_count": null,
   "metadata": {},
   "outputs": [],
   "source": [
    "party_votes.head()"
   ]
  },
  {
   "cell_type": "code",
   "execution_count": null,
   "metadata": {},
   "outputs": [],
   "source": [
    "df_plot.head()"
   ]
  },
  {
   "cell_type": "code",
   "execution_count": null,
   "metadata": {},
   "outputs": [],
   "source": [
    "party = 'CDU/CSU'\n",
    "df_plot.loc[df_plot['Fraktion/Gruppe']==party].plot.scatter(x='date', y='fraction', color='vote')"
   ]
  },
  {
   "cell_type": "markdown",
   "metadata": {},
   "source": [
    "## Member-Party similarity"
   ]
  },
  {
   "cell_type": "markdown",
   "metadata": {},
   "source": [
    "A member of the German federal parliament is a Mitglied des Bundestages, so `mdb`."
   ]
  },
  {
   "cell_type": "code",
   "execution_count": null,
   "metadata": {},
   "outputs": [],
   "source": [
    "#export\n",
    "def prepare_votes_of_mdb(df:pd.DataFrame, mdb:str):\n",
    "    assert mdb in df['Bezeichnung'].unique()\n",
    "    mask = df['Bezeichnung'] == mdb\n",
    "\n",
    "    mdb_votes = df.loc[mask, ['date', 'title', 'vote']]\n",
    "    mdb_votes['vote'] = mdb_votes['vote'].astype('category')\n",
    "    mdb_votes['vote'].cat.set_categories(parsing.VOTE_COLS, inplace=True)\n",
    "    # ['ja', 'nein', 'nichtabgegeben', 'Enthaltung']\n",
    "\n",
    "    mdb_votes = pd.get_dummies(mdb_votes, columns=['vote'], prefix='', prefix_sep='')\n",
    "    return mdb_votes"
   ]
  },
  {
   "cell_type": "code",
   "execution_count": null,
   "metadata": {},
   "outputs": [],
   "source": [
    "%%time\n",
    "mdb = 'Peter Altmaier'\n",
    "mdb_votes = prepare_votes_of_mdb(df, mdb)\n",
    "mdb_votes.head()"
   ]
  },
  {
   "cell_type": "code",
   "execution_count": null,
   "metadata": {},
   "outputs": [],
   "source": [
    "#export\n",
    "def align_mdb_with_parties(mdb_votes:pd.DataFrame, party_votes:pd.DataFrame):\n",
    "    return mdb_votes.join(party_votes.reset_index('Fraktion/Gruppe'), on=['date', 'title'], lsuffix='_mdb', rsuffix='_party')"
   ]
  },
  {
   "cell_type": "code",
   "execution_count": null,
   "metadata": {},
   "outputs": [],
   "source": [
    "%%time\n",
    "similarity_mdb_party = align_mdb_with_parties(mdb_votes, party_votes)\n",
    "similarity_mdb_party.head()"
   ]
  },
  {
   "cell_type": "code",
   "execution_count": null,
   "metadata": {},
   "outputs": [],
   "source": [
    "#export\n",
    "def compute_similarity(df:pd.DataFrame, lsuffix:str, rsuffix:str,\n",
    "                       similarity_metric=lambda u,v: 1 - spatial.distance.cosine(u,v)):\n",
    "    lcols = [f'{v}_{lsuffix}' for v in parsing.VOTE_COLS] \n",
    "    rcols = [f'{v}_{rsuffix}' for v in parsing.VOTE_COLS]\n",
    "    U = df[lcols].values\n",
    "    V = df[rcols].values\n",
    "    df['similarity'] = [similarity_metric(u, v) for u,v in zip(U,V)]\n",
    "    return df"
   ]
  },
  {
   "cell_type": "code",
   "execution_count": null,
   "metadata": {},
   "outputs": [],
   "source": [
    "%%time\n",
    "similarity_mdb_party = similarity_mdb_party.pipe(compute_similarity, lsuffix='mdb', rsuffix='party')\n",
    "similarity_mdb_party.head()"
   ]
  },
  {
   "cell_type": "code",
   "execution_count": null,
   "metadata": {},
   "outputs": [],
   "source": [
    "#export\n",
    "def get_mdb_party_similarity(similarity_mdb_party:pd.DataFrame):\n",
    "    return similarity_mdb_party.groupby('Fraktion/Gruppe')['similarity'].describe().sort_values('mean')"
   ]
  },
  {
   "cell_type": "code",
   "execution_count": null,
   "metadata": {},
   "outputs": [],
   "source": [
    "%%time\n",
    "get_mdb_party_similarity(similarity_mdb_party)"
   ]
  },
  {
   "cell_type": "code",
   "execution_count": null,
   "metadata": {},
   "outputs": [],
   "source": [
    "similarity_mdb_party.plot.hist(x='similarity', color='Fraktion/Gruppe', barmode='overlay',\n",
    "                               nbins=50)"
   ]
  },
  {
   "cell_type": "markdown",
   "metadata": {},
   "source": [
    "Similarity over time"
   ]
  },
  {
   "cell_type": "code",
   "execution_count": null,
   "metadata": {},
   "outputs": [],
   "source": [
    "#export\n",
    "def plot_similarity_over_time(df:pd.DataFrame, grp_col:str, time_bin:str='y', title:str=None):\n",
    "    y = 'avg. similarity'\n",
    "    fig = df.groupby([pd.Grouper(key='date', freq=time_bin),grp_col])['similarity'].mean().to_frame(y).reset_index().plot(kind='line', x='date', y=y, color=grp_col, title=title)\n",
    "    fig.update_layout(xaxis_title=f'Time [{time_bin}]',\n",
    "                      yaxis_title=f'{y} (0 = dissimilar, 1 = identical)')\n",
    "    return fig"
   ]
  },
  {
   "cell_type": "code",
   "execution_count": null,
   "metadata": {},
   "outputs": [],
   "source": [
    "plot_similarity_over_time(similarity_mdb_party, \n",
    "                          'Fraktion/Gruppe',\n",
    "                          title=f'{mdb} vs time')"
   ]
  },
  {
   "cell_type": "markdown",
   "metadata": {},
   "source": [
    "## Party-Party similarity"
   ]
  },
  {
   "cell_type": "code",
   "execution_count": null,
   "metadata": {},
   "outputs": [],
   "source": [
    "#export\n",
    "def align_party_with_party(party_votes:pd.DataFrame, \n",
    "                           party_a:str, party_b:str):\n",
    "    tmp = party_votes.reset_index(level=0)\n",
    "    mask_a = tmp['Fraktion/Gruppe'] == party_a\n",
    "    mask_b = tmp['Fraktion/Gruppe'] == party_b\n",
    "    return tmp.loc[mask_a].join(tmp.loc[mask_b], lsuffix='_a', rsuffix='_b').reset_index()\n",
    "    \n",
    "    lcols = ['ja_a', 'nein_a', 'nichtabgegeben_a', 'Enthaltung_a']\n",
    "    rcols = ['ja_b', 'nein_b', 'nichtabgegeben_b', 'Enthaltung_b']\n",
    "    return tmp.pipe(compute_similarity, lcols=lcols, rcols=rcols)"
   ]
  },
  {
   "cell_type": "code",
   "execution_count": null,
   "metadata": {},
   "outputs": [],
   "source": [
    "%%time\n",
    "party_a = 'SPD'\n",
    "party_b = 'BÜ90/GR'\n",
    "similarity_party_party = align_party_with_party(party_votes, party_a=party_a, party_b=party_b)\n",
    "similarity_party_party.head()"
   ]
  },
  {
   "cell_type": "code",
   "execution_count": null,
   "metadata": {},
   "outputs": [],
   "source": [
    "%%time\n",
    "similarity_party_party = compute_similarity(similarity_party_party, lsuffix='a', rsuffix='b')\n",
    "similarity_party_party.head()"
   ]
  },
  {
   "cell_type": "code",
   "execution_count": null,
   "metadata": {},
   "outputs": [],
   "source": [
    "#export\n",
    "def align_party_with_all_parties(party_votes:pd.DataFrame, party:str):\n",
    "    similarity_party_party = []\n",
    "    for party_b in party_votes.index.get_level_values(level='Fraktion/Gruppe').unique():\n",
    "        if party_b == party: continue\n",
    "        tmp = align_party_with_party(party_votes, party_a=party, party_b=party_b)\n",
    "        similarity_party_party.append(tmp)\n",
    "    similarity_party_party = pd.concat(similarity_party_party, ignore_index=True)\n",
    "    notna = similarity_party_party['Fraktion/Gruppe_b'].notna()\n",
    "    return similarity_party_party.loc[notna]"
   ]
  },
  {
   "cell_type": "code",
   "execution_count": null,
   "metadata": {},
   "outputs": [],
   "source": [
    "%%time\n",
    "party = 'SPD'\n",
    "similarity_party_party = align_party_with_all_parties(party_votes, party)\n",
    "similarity_party_party.head()"
   ]
  },
  {
   "cell_type": "code",
   "execution_count": null,
   "metadata": {},
   "outputs": [],
   "source": [
    "%%time\n",
    "similarity_party_party = compute_similarity(similarity_party_party, lsuffix='a', rsuffix='b')\n",
    "similarity_party_party.head()"
   ]
  },
  {
   "cell_type": "code",
   "execution_count": null,
   "metadata": {},
   "outputs": [],
   "source": [
    "#export\n",
    "def get_party_party_similarity(similarity_party_party:pd.DataFrame):\n",
    "    return similarity_party_party.groupby('Fraktion/Gruppe_b')['similarity'].describe().sort_values('mean')"
   ]
  },
  {
   "cell_type": "code",
   "execution_count": null,
   "metadata": {},
   "outputs": [],
   "source": [
    "%%time\n",
    "get_party_party_similarity(similarity_party_party)"
   ]
  },
  {
   "cell_type": "code",
   "execution_count": null,
   "metadata": {},
   "outputs": [],
   "source": [
    "plot_similarity_over_time(similarity_party_party, \n",
    "                          'Fraktion/Gruppe_b',\n",
    "                          title=f'{party} vs time')"
   ]
  }
 ],
 "metadata": {
  "kernelspec": {
   "display_name": "Python [conda env:py38_fastai]",
   "language": "python",
   "name": "conda-env-py38_fastai-py"
  }
 },
 "nbformat": 4,
 "nbformat_minor": 4
}
