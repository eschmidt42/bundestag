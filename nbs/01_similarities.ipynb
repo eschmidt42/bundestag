{
 "cells": [
  {
   "cell_type": "markdown",
   "metadata": {},
   "source": [
    "#  Similarities\n",
    "> Identifying the similarities between parties and members of the parliament based on their average voting behavior during roll call votes."
   ]
  },
  {
   "cell_type": "code",
   "execution_count": null,
   "metadata": {},
   "outputs": [],
   "source": [
    "%load_ext autoreload\n",
    "%autoreload 2"
   ]
  },
  {
   "cell_type": "markdown",
   "metadata": {},
   "source": [
    "## Setup"
   ]
  },
  {
   "cell_type": "code",
   "execution_count": null,
   "metadata": {},
   "outputs": [],
   "source": [
    "import matplotlib.pyplot as plt\n",
    "import pandas as pd\n",
    "import plotly.express as px\n",
    "\n",
    "from bundestag import similarity as sim"
   ]
  },
  {
   "cell_type": "code",
   "execution_count": null,
   "metadata": {},
   "outputs": [],
   "source": [
    "df = pd.read_parquet(\"../bundestag.de_votes.parquet\")"
   ]
  },
  {
   "cell_type": "markdown",
   "metadata": {},
   "source": [
    "## Voting outcomes by party"
   ]
  },
  {
   "cell_type": "code",
   "execution_count": null,
   "metadata": {},
   "outputs": [],
   "source": [
    "party_votes = sim.get_votes_by_party(df)\n",
    "sim.test_party_votes(party_votes)"
   ]
  },
  {
   "cell_type": "code",
   "execution_count": null,
   "metadata": {},
   "outputs": [],
   "source": [
    "party_votes.head()"
   ]
  },
  {
   "cell_type": "code",
   "execution_count": null,
   "metadata": {},
   "outputs": [],
   "source": [
    "party = \"CDU/CSU\"\n",
    "px.scatter(\n",
    "    data_frame=party_votes.loc[party_votes[\"Fraktion/Gruppe\"] == party],\n",
    "    x=\"date\",\n",
    "    y=\"fraction\",\n",
    "    color=\"vote\",\n",
    ")"
   ]
  },
  {
   "cell_type": "markdown",
   "metadata": {},
   "source": [
    "## Member-Party similarity"
   ]
  },
  {
   "cell_type": "markdown",
   "metadata": {},
   "source": [
    "A member of the German federal parliament is a Mitglied des Bundestages, so `mdb`."
   ]
  },
  {
   "cell_type": "code",
   "execution_count": null,
   "metadata": {},
   "outputs": [],
   "source": [
    "party_votes_pivoted = sim.pivot_party_votes_df(party_votes)\n",
    "sim.test_party_votes_pivoted(party_votes_pivoted)\n",
    "party_votes_pivoted.head()"
   ]
  },
  {
   "cell_type": "code",
   "execution_count": null,
   "metadata": {},
   "outputs": [],
   "source": [
    "mdb = \"Peter Altmaier\"\n",
    "mdb_votes = sim.prepare_votes_of_mdb(df, mdb)\n",
    "sim.test_votes_of_mdb(mdb_votes)\n",
    "mdb_votes.head()"
   ]
  },
  {
   "cell_type": "code",
   "execution_count": null,
   "metadata": {},
   "outputs": [],
   "source": [
    "mdb_vs_parties = sim.align_mdb_with_parties(\n",
    "    mdb_votes, party_votes_pivoted\n",
    ").pipe(sim.compute_similarity, lsuffix=\"mdb\", rsuffix=\"party\")\n",
    "sim.test_mdb_vs_parties(mdb_vs_parties)\n",
    "mdb_vs_parties.head(3).T"
   ]
  },
  {
   "cell_type": "code",
   "execution_count": null,
   "metadata": {},
   "outputs": [],
   "source": [
    "sim.plot_overall_similarity(\n",
    "    mdb_vs_parties,\n",
    "    x=\"Fraktion/Gruppe\",\n",
    "    title=f\"Overall similarity of {mdb} with all parties\",\n",
    ");"
   ]
  },
  {
   "cell_type": "markdown",
   "metadata": {},
   "source": [
    "Similarity over time"
   ]
  },
  {
   "cell_type": "code",
   "execution_count": null,
   "metadata": {},
   "outputs": [],
   "source": [
    "sim.plot_similarity_over_time(\n",
    "    mdb_vs_parties, \"Fraktion/Gruppe\", title=f\"{mdb} vs time\"\n",
    ");"
   ]
  },
  {
   "cell_type": "code",
   "execution_count": null,
   "metadata": {},
   "outputs": [],
   "source": [
    "sim.plot(\n",
    "    mdb_vs_parties,\n",
    "    title_overall=f\"Overall similarity of {mdb} with all parties\",\n",
    "    title_over_time=f\"{mdb} vs time\",\n",
    ")\n",
    "plt.tight_layout()\n",
    "plt.show()"
   ]
  },
  {
   "cell_type": "markdown",
   "metadata": {},
   "source": [
    "## Party-Party similarity"
   ]
  },
  {
   "cell_type": "code",
   "execution_count": null,
   "metadata": {},
   "outputs": [],
   "source": [
    "party_a = \"SPD\"\n",
    "party_b = \"BÜ90/GR\"\n",
    "partyA_vs_partyB = sim.align_party_with_party(\n",
    "    party_votes_pivoted, party_a=party_a, party_b=party_b\n",
    ").pipe(sim.compute_similarity, lsuffix=\"a\", rsuffix=\"b\")\n",
    "sim.test_partyA_vs_partyB(partyA_vs_partyB)\n",
    "partyA_vs_partyB.head(3).T"
   ]
  },
  {
   "cell_type": "code",
   "execution_count": null,
   "metadata": {},
   "outputs": [],
   "source": [
    "party = \"SPD\"\n",
    "partyA_vs_rest = sim.align_party_with_all_parties(\n",
    "    party_votes_pivoted, party\n",
    ").pipe(sim.compute_similarity, lsuffix=\"a\", rsuffix=\"b\")\n",
    "sim.test_partyA_vs_partyB(partyA_vs_rest)\n",
    "partyA_vs_rest.head(3).T"
   ]
  },
  {
   "cell_type": "code",
   "execution_count": null,
   "metadata": {},
   "outputs": [],
   "source": [
    "sim.plot(\n",
    "    partyA_vs_rest,\n",
    "    title_overall=f\"Overall similarity of {party} with all parties\",\n",
    "    title_over_time=f\"{party} vs time\",\n",
    "    party_col=\"Fraktion/Gruppe_b\",\n",
    ")\n",
    "plt.tight_layout()\n",
    "plt.show()"
   ]
  },
  {
   "cell_type": "code",
   "execution_count": null,
   "metadata": {},
   "outputs": [],
   "source": []
  }
 ],
 "metadata": {
  "kernelspec": {
   "display_name": "Python 3 (ipykernel)",
   "language": "python",
   "name": "python3"
  },
  "language_info": {
   "codemirror_mode": {
    "name": "ipython",
    "version": 3
   },
   "file_extension": ".py",
   "mimetype": "text/x-python",
   "name": "python",
   "nbconvert_exporter": "python",
   "pygments_lexer": "ipython3",
   "version": "3.9.16"
  },
  "toc": {
   "base_numbering": 1,
   "nav_menu": {},
   "number_sections": true,
   "sideBar": true,
   "skip_h1_title": false,
   "title_cell": "Table of Contents",
   "title_sidebar": "Contents",
   "toc_cell": false,
   "toc_position": {},
   "toc_section_display": true,
   "toc_window_display": false
  }
 },
 "nbformat": 4,
 "nbformat_minor": 4
}
