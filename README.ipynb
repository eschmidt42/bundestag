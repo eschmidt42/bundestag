{
 "cells": [
  {
   "cell_type": "markdown",
   "metadata": {},
   "source": [
    "# \"Namentliche Abstimmungen\"  in the Bundestag\n",
    "\n",
    "> Parse and inspect \"Namentliche Abstimmungen\" (roll call votes) in the Bundestag (the federal German parliament)"
   ]
  },
  {
   "cell_type": "markdown",
   "metadata": {},
   "source": [
    "[![Binder](https://mybinder.org/badge_logo.svg)](https://mybinder.org/v2/gh/eschmidt42/bundestag/HEAD)"
   ]
  },
  {
   "cell_type": "markdown",
   "metadata": {},
   "source": [
    "## Context"
   ]
  },
  {
   "cell_type": "markdown",
   "metadata": {},
   "source": [
    "The German Parliament is so friendly to put all votes of all members into readable XLSX / XLS files (and PDFs ¯\\\\\\_(ツ)\\_/¯ ). Those files  can be found here: https://www.bundestag.de/parlament/plenum/abstimmung/liste. \n",
    "\n",
    "Furthermore, the organisation [abgeordnetenwatch](https://www.abgeordnetenwatch.de/) offers a great platform to get to know the individual politicians and their behavior as well as an [open API](https://www.abgeordnetenwatch.de/api) to request data."
   ]
  },
  {
   "cell_type": "markdown",
   "metadata": {},
   "source": [
    "## Purpose of this repo"
   ]
  },
  {
   "cell_type": "markdown",
   "metadata": {},
   "source": [
    "The purpose of this repo is to help collect roll call votes from the parliament's site directly or via abgeordnetenwatch's API and make them available for analysis / modelling. This may be particularly interesting for the upcoming election in 2021. E.g., if you want to see what your local member of the parliament has been up to in terms of public roll call votes relative to the parties, or how individual parties agree in their votes, this dataset may be interesting for you. \n",
    "\n",
    "Since the files on the bundestag website are stored in a way making it tricky to automatically crawl them, a bit of manual work is required to generate that dataset. But don't fret! Quite a few recent roll call votes (as of the publishing of this repo) are already prepared for you. But if older or more recent roll call votes are missing, convenience tools to reduce your manual effort are demonstrated below. An alternative route to get the same and more data (on politicians and local parliaments as well) is via the abgeordnetenwatch route.\n",
    "\n",
    "For your inspiration, I have also included an analysis on how similar parties voted / how similar to parties individual MdBs votes and a small machine learning model which predicts the individual votes of parliament. Teaser: the \"fraktionsszwang\" seems to exist but is not absolute and the data shows 😁."
   ]
  },
  {
   "cell_type": "markdown",
   "metadata": {},
   "source": [
    "## How to install"
   ]
  },
  {
   "cell_type": "markdown",
   "metadata": {},
   "source": [
    "`pip install bundestag`"
   ]
  },
  {
   "cell_type": "markdown",
   "metadata": {},
   "source": [
    "## How to use"
   ]
  },
  {
   "attachments": {},
   "cell_type": "markdown",
   "metadata": {},
   "source": [
    "### Docs"
   ]
  },
  {
   "cell_type": "markdown",
   "metadata": {},
   "source": [
    "For detailed explanations see:\n",
    "- parse data from bundestag.de $\\rightarrow$ `nbs/00_html_parsing.ipynb`\n",
    "- parse data from abgeordnetenwatch.de $\\rightarrow$ `nbs/03_abgeordnetenwatch.ipynb`\n",
    "- analyze party / abgeordneten similarity $\\rightarrow$ `nbs/01_similarities.ipynb`\n",
    "- cluster polls $\\rightarrow$ `nbs/04_poll_clustering.ipynb`\n",
    "- predict politician votes $\\rightarrow$ `nbs/05_predicting_votes.ipynb`\n",
    "\n",
    "For a short overview of the highlights see below."
   ]
  },
  {
   "attachments": {},
   "cell_type": "markdown",
   "metadata": {},
   "source": [
    "### When developing"
   ]
  },
  {
   "attachments": {},
   "cell_type": "markdown",
   "metadata": {},
   "source": [
    "Create the virtual environment\n",
    "```shell\n",
    "python3 -m venv .venv\n",
    "source .venv/bin/activate\n",
    "pip install pip-tools==6.12.3\n",
    "```\n",
    "\n",
    "To update the requirements\n",
    "```shell\n",
    "pip-compile -o requirements/requirements.txt pyproject.toml --resolver=backtracking\n",
    "pip-compile --extra dev -o requirements/dev-requirements.txt pyproject.toml  --resolver=backtracking\n",
    "```\n",
    "\n",
    "To install the dev requirements\n",
    "```shell\n",
    "pip-sync requirements/dev-requirements.txt\n",
    "```\n",
    "\n",
    "To make the package available\n",
    "```shell\n",
    "pip install -e .\n",
    "```"
   ]
  },
  {
   "cell_type": "markdown",
   "metadata": {},
   "source": [
    "### Setup"
   ]
  },
  {
   "cell_type": "code",
   "execution_count": 1,
   "metadata": {},
   "outputs": [],
   "source": [
    "%load_ext autoreload\n",
    "%autoreload 2"
   ]
  },
  {
   "cell_type": "code",
   "execution_count": null,
   "metadata": {},
   "outputs": [],
   "source": [
    "from bundestag import html_parsing as hp\n",
    "from bundestag import similarity as sim\n",
    "from bundestag.gui import MdBGUI, PartyGUI\n",
    "from bundestag import abgeordnetenwatch as aw\n",
    "from bundestag import poll_clustering as pc\n",
    "from bundestag import vote_prediction as vp\n",
    "\n",
    "from pathlib import Path\n",
    "import pandas as pd\n",
    "from fastai.tabular.all import *"
   ]
  },
  {
   "cell_type": "markdown",
   "metadata": {
    "heading_collapsed": true
   },
   "source": [
    "### Part 1 - Party/Party similarities and Politician/Party similarities using bundestag.de data"
   ]
  },
  {
   "cell_type": "markdown",
   "metadata": {
    "hidden": true
   },
   "source": [
    "**Loading the data**\n",
    "\n",
    "If you have cloned the repo you should already have a `bundestag.de_votes.parquet` file in the root directory of the repo. If not feel free to download that file directly.\n",
    "\n",
    "If you want to have a closer look at the preprocessing please check out `nbs/00_html_parsing.ipynb`."
   ]
  },
  {
   "cell_type": "code",
   "execution_count": 3,
   "metadata": {
    "hidden": true
   },
   "outputs": [
    {
     "data": {
      "text/html": [
       "<div>\n",
       "<style scoped>\n",
       "    .dataframe tbody tr th:only-of-type {\n",
       "        vertical-align: middle;\n",
       "    }\n",
       "\n",
       "    .dataframe tbody tr th {\n",
       "        vertical-align: top;\n",
       "    }\n",
       "\n",
       "    .dataframe thead th {\n",
       "        text-align: right;\n",
       "    }\n",
       "</style>\n",
       "<table border=\"1\" class=\"dataframe\">\n",
       "  <thead>\n",
       "    <tr style=\"text-align: right;\">\n",
       "      <th></th>\n",
       "      <th>0</th>\n",
       "      <th>1</th>\n",
       "      <th>2</th>\n",
       "    </tr>\n",
       "  </thead>\n",
       "  <tbody>\n",
       "    <tr>\n",
       "      <th>Wahlperiode</th>\n",
       "      <td>17</td>\n",
       "      <td>17</td>\n",
       "      <td>17</td>\n",
       "    </tr>\n",
       "    <tr>\n",
       "      <th>Sitzungnr</th>\n",
       "      <td>198</td>\n",
       "      <td>198</td>\n",
       "      <td>198</td>\n",
       "    </tr>\n",
       "    <tr>\n",
       "      <th>Abstimmnr</th>\n",
       "      <td>1</td>\n",
       "      <td>1</td>\n",
       "      <td>1</td>\n",
       "    </tr>\n",
       "    <tr>\n",
       "      <th>Fraktion/Gruppe</th>\n",
       "      <td>CDU/CSU</td>\n",
       "      <td>CDU/CSU</td>\n",
       "      <td>CDU/CSU</td>\n",
       "    </tr>\n",
       "    <tr>\n",
       "      <th>Name</th>\n",
       "      <td>Aigner</td>\n",
       "      <td>Altmaier</td>\n",
       "      <td>Aumer</td>\n",
       "    </tr>\n",
       "    <tr>\n",
       "      <th>Vorname</th>\n",
       "      <td>Ilse</td>\n",
       "      <td>Peter</td>\n",
       "      <td>Peter</td>\n",
       "    </tr>\n",
       "    <tr>\n",
       "      <th>Titel</th>\n",
       "      <td>nan</td>\n",
       "      <td>nan</td>\n",
       "      <td>nan</td>\n",
       "    </tr>\n",
       "    <tr>\n",
       "      <th>Bezeichnung</th>\n",
       "      <td>Ilse Aigner</td>\n",
       "      <td>Peter Altmaier</td>\n",
       "      <td>Peter Aumer</td>\n",
       "    </tr>\n",
       "    <tr>\n",
       "      <th>sheet_name</th>\n",
       "      <td>T_Export</td>\n",
       "      <td>T_Export</td>\n",
       "      <td>T_Export</td>\n",
       "    </tr>\n",
       "    <tr>\n",
       "      <th>date</th>\n",
       "      <td>2012-10-18 00:00:00</td>\n",
       "      <td>2012-10-18 00:00:00</td>\n",
       "      <td>2012-10-18 00:00:00</td>\n",
       "    </tr>\n",
       "    <tr>\n",
       "      <th>title</th>\n",
       "      <td>Gesetzentwurf 17/9852 und 17/11053 (8. Änderung des Gesetzes gegen Wettbewerbsbeschränkungen)</td>\n",
       "      <td>Gesetzentwurf 17/9852 und 17/11053 (8. Änderung des Gesetzes gegen Wettbewerbsbeschränkungen)</td>\n",
       "      <td>Gesetzentwurf 17/9852 und 17/11053 (8. Änderung des Gesetzes gegen Wettbewerbsbeschränkungen)</td>\n",
       "    </tr>\n",
       "    <tr>\n",
       "      <th>issue</th>\n",
       "      <td>2012-10-18  Gesetzentwurf 17/9852 und 17/11053 (8. Änderung des Gesetzes gegen Wettbewerbsbeschränkungen)</td>\n",
       "      <td>2012-10-18  Gesetzentwurf 17/9852 und 17/11053 (8. Änderung des Gesetzes gegen Wettbewerbsbeschränkungen)</td>\n",
       "      <td>2012-10-18  Gesetzentwurf 17/9852 und 17/11053 (8. Änderung des Gesetzes gegen Wettbewerbsbeschränkungen)</td>\n",
       "    </tr>\n",
       "    <tr>\n",
       "      <th>vote</th>\n",
       "      <td>ja</td>\n",
       "      <td>nichtabgegeben</td>\n",
       "      <td>ja</td>\n",
       "    </tr>\n",
       "    <tr>\n",
       "      <th>AbgNr</th>\n",
       "      <td>NaN</td>\n",
       "      <td>NaN</td>\n",
       "      <td>NaN</td>\n",
       "    </tr>\n",
       "    <tr>\n",
       "      <th>Bemerkung</th>\n",
       "      <td>None</td>\n",
       "      <td>None</td>\n",
       "      <td>None</td>\n",
       "    </tr>\n",
       "  </tbody>\n",
       "</table>\n",
       "</div>"
      ],
      "text/plain": [
       "                                                                                                                         0  \\\n",
       "Wahlperiode                                                                                                             17   \n",
       "Sitzungnr                                                                                                              198   \n",
       "Abstimmnr                                                                                                                1   \n",
       "Fraktion/Gruppe                                                                                                    CDU/CSU   \n",
       "Name                                                                                                                Aigner   \n",
       "Vorname                                                                                                               Ilse   \n",
       "Titel                                                                                                                  nan   \n",
       "Bezeichnung                                                                                                    Ilse Aigner   \n",
       "sheet_name                                                                                                        T_Export   \n",
       "date                                                                                                   2012-10-18 00:00:00   \n",
       "title                        Gesetzentwurf 17/9852 und 17/11053 (8. Änderung des Gesetzes gegen Wettbewerbsbeschränkungen)   \n",
       "issue            2012-10-18  Gesetzentwurf 17/9852 und 17/11053 (8. Änderung des Gesetzes gegen Wettbewerbsbeschränkungen)   \n",
       "vote                                                                                                                    ja   \n",
       "AbgNr                                                                                                                  NaN   \n",
       "Bemerkung                                                                                                             None   \n",
       "\n",
       "                                                                                                                         1  \\\n",
       "Wahlperiode                                                                                                             17   \n",
       "Sitzungnr                                                                                                              198   \n",
       "Abstimmnr                                                                                                                1   \n",
       "Fraktion/Gruppe                                                                                                    CDU/CSU   \n",
       "Name                                                                                                              Altmaier   \n",
       "Vorname                                                                                                              Peter   \n",
       "Titel                                                                                                                  nan   \n",
       "Bezeichnung                                                                                                 Peter Altmaier   \n",
       "sheet_name                                                                                                        T_Export   \n",
       "date                                                                                                   2012-10-18 00:00:00   \n",
       "title                        Gesetzentwurf 17/9852 und 17/11053 (8. Änderung des Gesetzes gegen Wettbewerbsbeschränkungen)   \n",
       "issue            2012-10-18  Gesetzentwurf 17/9852 und 17/11053 (8. Änderung des Gesetzes gegen Wettbewerbsbeschränkungen)   \n",
       "vote                                                                                                        nichtabgegeben   \n",
       "AbgNr                                                                                                                  NaN   \n",
       "Bemerkung                                                                                                             None   \n",
       "\n",
       "                                                                                                                         2  \n",
       "Wahlperiode                                                                                                             17  \n",
       "Sitzungnr                                                                                                              198  \n",
       "Abstimmnr                                                                                                                1  \n",
       "Fraktion/Gruppe                                                                                                    CDU/CSU  \n",
       "Name                                                                                                                 Aumer  \n",
       "Vorname                                                                                                              Peter  \n",
       "Titel                                                                                                                  nan  \n",
       "Bezeichnung                                                                                                    Peter Aumer  \n",
       "sheet_name                                                                                                        T_Export  \n",
       "date                                                                                                   2012-10-18 00:00:00  \n",
       "title                        Gesetzentwurf 17/9852 und 17/11053 (8. Änderung des Gesetzes gegen Wettbewerbsbeschränkungen)  \n",
       "issue            2012-10-18  Gesetzentwurf 17/9852 und 17/11053 (8. Änderung des Gesetzes gegen Wettbewerbsbeschränkungen)  \n",
       "vote                                                                                                                    ja  \n",
       "AbgNr                                                                                                                  NaN  \n",
       "Bemerkung                                                                                                             None  "
      ]
     },
     "execution_count": 3,
     "metadata": {},
     "output_type": "execute_result"
    }
   ],
   "source": [
    "df = pd.read_parquet(path='bundestag.de_votes.parquet')\n",
    "df.head(3).T"
   ]
  },
  {
   "cell_type": "markdown",
   "metadata": {},
   "source": [
    "Votes by party"
   ]
  },
  {
   "cell_type": "code",
   "execution_count": 4,
   "metadata": {},
   "outputs": [
    {
     "name": "stderr",
     "output_type": "stream",
     "text": [
      "2021-08-27 06:53:37.585 | INFO     | bundestag.similarity:get_votes_by_party:17 - Computing votes by party and poll\n"
     ]
    },
    {
     "name": "stdout",
     "output_type": "stream",
     "text": [
      "CPU times: user 5.4 s, sys: 0 ns, total: 5.4 s\n",
      "Wall time: 5.38 s\n"
     ]
    }
   ],
   "source": [
    "%%time\n",
    "party_votes = sim.get_votes_by_party(df)\n",
    "sim.test_party_votes(party_votes)"
   ]
  },
  {
   "cell_type": "markdown",
   "metadata": {},
   "source": [
    "Re-arranging `party_votes`"
   ]
  },
  {
   "cell_type": "code",
   "execution_count": 5,
   "metadata": {},
   "outputs": [
    {
     "name": "stdout",
     "output_type": "stream",
     "text": [
      "CPU times: user 19 s, sys: 504 ms, total: 19.5 s\n",
      "Wall time: 19.5 s\n"
     ]
    },
    {
     "data": {
      "text/html": [
       "<div>\n",
       "<style scoped>\n",
       "    .dataframe tbody tr th:only-of-type {\n",
       "        vertical-align: middle;\n",
       "    }\n",
       "\n",
       "    .dataframe tbody tr th {\n",
       "        vertical-align: top;\n",
       "    }\n",
       "\n",
       "    .dataframe thead th {\n",
       "        text-align: right;\n",
       "    }\n",
       "</style>\n",
       "<table border=\"1\" class=\"dataframe\">\n",
       "  <thead>\n",
       "    <tr style=\"text-align: right;\">\n",
       "      <th></th>\n",
       "      <th>vote</th>\n",
       "      <th>Fraktion/Gruppe</th>\n",
       "      <th>ja</th>\n",
       "      <th>nein</th>\n",
       "      <th>Enthaltung</th>\n",
       "      <th>ungültig</th>\n",
       "      <th>nichtabgegeben</th>\n",
       "    </tr>\n",
       "    <tr>\n",
       "      <th>date</th>\n",
       "      <th>title</th>\n",
       "      <th></th>\n",
       "      <th></th>\n",
       "      <th></th>\n",
       "      <th></th>\n",
       "      <th></th>\n",
       "      <th></th>\n",
       "    </tr>\n",
       "  </thead>\n",
       "  <tbody>\n",
       "    <tr>\n",
       "      <th rowspan=\"5\" valign=\"top\">2017-12-12</th>\n",
       "      <th>Bundeswehreinsatz gegen die Terrororganisation IS</th>\n",
       "      <td>AfD</td>\n",
       "      <td>0.000000</td>\n",
       "      <td>0.967391</td>\n",
       "      <td>0.000000</td>\n",
       "      <td>0</td>\n",
       "      <td>0.032609</td>\n",
       "    </tr>\n",
       "    <tr>\n",
       "      <th>Bundeswehreinsatz im Irak</th>\n",
       "      <td>AfD</td>\n",
       "      <td>0.000000</td>\n",
       "      <td>0.978261</td>\n",
       "      <td>0.000000</td>\n",
       "      <td>0</td>\n",
       "      <td>0.021739</td>\n",
       "    </tr>\n",
       "    <tr>\n",
       "      <th>Bundeswehreinsatz im Mittelmeer (SEA GUARDIAN)</th>\n",
       "      <td>AfD</td>\n",
       "      <td>0.913043</td>\n",
       "      <td>0.021739</td>\n",
       "      <td>0.021739</td>\n",
       "      <td>0</td>\n",
       "      <td>0.043478</td>\n",
       "    </tr>\n",
       "    <tr>\n",
       "      <th>Bundeswehreinsatz in Afghanistan (Resolute Support)</th>\n",
       "      <td>AfD</td>\n",
       "      <td>0.000000</td>\n",
       "      <td>0.956522</td>\n",
       "      <td>0.010870</td>\n",
       "      <td>0</td>\n",
       "      <td>0.032609</td>\n",
       "    </tr>\n",
       "    <tr>\n",
       "      <th>Bundeswehreinsatz in Mali (MINUSMA)</th>\n",
       "      <td>AfD</td>\n",
       "      <td>0.000000</td>\n",
       "      <td>0.967391</td>\n",
       "      <td>0.000000</td>\n",
       "      <td>0</td>\n",
       "      <td>0.032609</td>\n",
       "    </tr>\n",
       "  </tbody>\n",
       "</table>\n",
       "</div>"
      ],
      "text/plain": [
       "vote                                                            Fraktion/Gruppe  \\\n",
       "date       title                                                                  \n",
       "2017-12-12  Bundeswehreinsatz gegen die Terrororganisation IS               AfD   \n",
       "            Bundeswehreinsatz im Irak                                       AfD   \n",
       "            Bundeswehreinsatz im Mittelmeer (SEA GUARDIAN)                  AfD   \n",
       "            Bundeswehreinsatz in Afghanistan (Resolute Support)             AfD   \n",
       "            Bundeswehreinsatz in Mali (MINUSMA)                             AfD   \n",
       "\n",
       "vote                                                                   ja  \\\n",
       "date       title                                                            \n",
       "2017-12-12  Bundeswehreinsatz gegen die Terrororganisation IS    0.000000   \n",
       "            Bundeswehreinsatz im Irak                            0.000000   \n",
       "            Bundeswehreinsatz im Mittelmeer (SEA GUARDIAN)       0.913043   \n",
       "            Bundeswehreinsatz in Afghanistan (Resolute Support)  0.000000   \n",
       "            Bundeswehreinsatz in Mali (MINUSMA)                  0.000000   \n",
       "\n",
       "vote                                                                 nein  \\\n",
       "date       title                                                            \n",
       "2017-12-12  Bundeswehreinsatz gegen die Terrororganisation IS    0.967391   \n",
       "            Bundeswehreinsatz im Irak                            0.978261   \n",
       "            Bundeswehreinsatz im Mittelmeer (SEA GUARDIAN)       0.021739   \n",
       "            Bundeswehreinsatz in Afghanistan (Resolute Support)  0.956522   \n",
       "            Bundeswehreinsatz in Mali (MINUSMA)                  0.967391   \n",
       "\n",
       "vote                                                             Enthaltung  \\\n",
       "date       title                                                              \n",
       "2017-12-12  Bundeswehreinsatz gegen die Terrororganisation IS      0.000000   \n",
       "            Bundeswehreinsatz im Irak                              0.000000   \n",
       "            Bundeswehreinsatz im Mittelmeer (SEA GUARDIAN)         0.021739   \n",
       "            Bundeswehreinsatz in Afghanistan (Resolute Support)    0.010870   \n",
       "            Bundeswehreinsatz in Mali (MINUSMA)                    0.000000   \n",
       "\n",
       "vote                                                             ungültig  \\\n",
       "date       title                                                            \n",
       "2017-12-12  Bundeswehreinsatz gegen die Terrororganisation IS           0   \n",
       "            Bundeswehreinsatz im Irak                                   0   \n",
       "            Bundeswehreinsatz im Mittelmeer (SEA GUARDIAN)              0   \n",
       "            Bundeswehreinsatz in Afghanistan (Resolute Support)         0   \n",
       "            Bundeswehreinsatz in Mali (MINUSMA)                         0   \n",
       "\n",
       "vote                                                             nichtabgegeben  \n",
       "date       title                                                                 \n",
       "2017-12-12  Bundeswehreinsatz gegen die Terrororganisation IS          0.032609  \n",
       "            Bundeswehreinsatz im Irak                                  0.021739  \n",
       "            Bundeswehreinsatz im Mittelmeer (SEA GUARDIAN)             0.043478  \n",
       "            Bundeswehreinsatz in Afghanistan (Resolute Support)        0.032609  \n",
       "            Bundeswehreinsatz in Mali (MINUSMA)                        0.032609  "
      ]
     },
     "execution_count": 5,
     "metadata": {},
     "output_type": "execute_result"
    }
   ],
   "source": [
    "%%time\n",
    "party_votes_pivoted = sim.pivot_party_votes_df(party_votes)\n",
    "sim.test_party_votes_pivoted(party_votes_pivoted)\n",
    "party_votes_pivoted.head()"
   ]
  },
  {
   "cell_type": "markdown",
   "metadata": {},
   "source": [
    "**Similarity of a single politician with the parties**"
   ]
  },
  {
   "cell_type": "markdown",
   "metadata": {},
   "source": [
    "Collecting the politicians votes"
   ]
  },
  {
   "cell_type": "code",
   "execution_count": 6,
   "metadata": {},
   "outputs": [
    {
     "name": "stdout",
     "output_type": "stream",
     "text": [
      "CPU times: user 62.9 ms, sys: 249 µs, total: 63.2 ms\n",
      "Wall time: 61.7 ms\n"
     ]
    },
    {
     "data": {
      "text/html": [
       "<div>\n",
       "<style scoped>\n",
       "    .dataframe tbody tr th:only-of-type {\n",
       "        vertical-align: middle;\n",
       "    }\n",
       "\n",
       "    .dataframe tbody tr th {\n",
       "        vertical-align: top;\n",
       "    }\n",
       "\n",
       "    .dataframe thead th {\n",
       "        text-align: right;\n",
       "    }\n",
       "</style>\n",
       "<table border=\"1\" class=\"dataframe\">\n",
       "  <thead>\n",
       "    <tr style=\"text-align: right;\">\n",
       "      <th></th>\n",
       "      <th>date</th>\n",
       "      <th>title</th>\n",
       "      <th>ja</th>\n",
       "      <th>nein</th>\n",
       "      <th>Enthaltung</th>\n",
       "      <th>ungültig</th>\n",
       "      <th>nichtabgegeben</th>\n",
       "    </tr>\n",
       "  </thead>\n",
       "  <tbody>\n",
       "    <tr>\n",
       "      <th>1</th>\n",
       "      <td>2012-10-18</td>\n",
       "      <td>Gesetzentwurf 17/9852 und 17/11053 (8. Änderung des Gesetzes gegen Wettbewerbsbeschränkungen)</td>\n",
       "      <td>0</td>\n",
       "      <td>0</td>\n",
       "      <td>0</td>\n",
       "      <td>0</td>\n",
       "      <td>1</td>\n",
       "    </tr>\n",
       "    <tr>\n",
       "      <th>621</th>\n",
       "      <td>2012-10-25</td>\n",
       "      <td>17/10059 und 17/11093, Abkommen zwischen Deutschland und der Schweiz</td>\n",
       "      <td>1</td>\n",
       "      <td>0</td>\n",
       "      <td>0</td>\n",
       "      <td>0</td>\n",
       "      <td>0</td>\n",
       "    </tr>\n",
       "    <tr>\n",
       "      <th>1241</th>\n",
       "      <td>2012-10-25</td>\n",
       "      <td>17/11172, Änderungsantrag zum Gesetzentwurf zur Stärkung der deutschen Finanzaufsicht</td>\n",
       "      <td>0</td>\n",
       "      <td>1</td>\n",
       "      <td>0</td>\n",
       "      <td>0</td>\n",
       "      <td>0</td>\n",
       "    </tr>\n",
       "    <tr>\n",
       "      <th>1861</th>\n",
       "      <td>2012-10-25</td>\n",
       "      <td>17/11193, Änderungsantrag zum Jahressteuergesetz 2013</td>\n",
       "      <td>0</td>\n",
       "      <td>0</td>\n",
       "      <td>0</td>\n",
       "      <td>0</td>\n",
       "      <td>1</td>\n",
       "    </tr>\n",
       "    <tr>\n",
       "      <th>2481</th>\n",
       "      <td>2012-10-25</td>\n",
       "      <td>17/11196, Änderungsantrag zum Jahressteuergesetz 2013</td>\n",
       "      <td>0</td>\n",
       "      <td>0</td>\n",
       "      <td>0</td>\n",
       "      <td>0</td>\n",
       "      <td>1</td>\n",
       "    </tr>\n",
       "  </tbody>\n",
       "</table>\n",
       "</div>"
      ],
      "text/plain": [
       "           date  \\\n",
       "1    2012-10-18   \n",
       "621  2012-10-25   \n",
       "1241 2012-10-25   \n",
       "1861 2012-10-25   \n",
       "2481 2012-10-25   \n",
       "\n",
       "                                                                                               title  \\\n",
       "1      Gesetzentwurf 17/9852 und 17/11053 (8. Änderung des Gesetzes gegen Wettbewerbsbeschränkungen)   \n",
       "621                             17/10059 und 17/11093, Abkommen zwischen Deutschland und der Schweiz   \n",
       "1241           17/11172, Änderungsantrag zum Gesetzentwurf zur Stärkung der deutschen Finanzaufsicht   \n",
       "1861                                           17/11193, Änderungsantrag zum Jahressteuergesetz 2013   \n",
       "2481                                           17/11196, Änderungsantrag zum Jahressteuergesetz 2013   \n",
       "\n",
       "      ja  nein  Enthaltung  ungültig  nichtabgegeben  \n",
       "1      0     0           0         0               1  \n",
       "621    1     0           0         0               0  \n",
       "1241   0     1           0         0               0  \n",
       "1861   0     0           0         0               1  \n",
       "2481   0     0           0         0               1  "
      ]
     },
     "execution_count": 6,
     "metadata": {},
     "output_type": "execute_result"
    }
   ],
   "source": [
    "%%time\n",
    "mdb = 'Peter Altmaier'\n",
    "mdb_votes = sim.prepare_votes_of_mdb(df, mdb)\n",
    "sim.test_votes_of_mdb(mdb_votes)\n",
    "mdb_votes.head()"
   ]
  },
  {
   "cell_type": "markdown",
   "metadata": {},
   "source": [
    "Comparing the politician against the parties"
   ]
  },
  {
   "cell_type": "code",
   "execution_count": 7,
   "metadata": {},
   "outputs": [
    {
     "name": "stderr",
     "output_type": "stream",
     "text": [
      "2021-08-27 06:54:02.682 | INFO     | bundestag.similarity:compute_similarity:110 - Computing similarities using `lsuffix` = \"mdb\", `rsuffix` = \"party\" and metric = <function cosine_similarity at 0x7fb7e220e0d0>\n"
     ]
    },
    {
     "name": "stdout",
     "output_type": "stream",
     "text": [
      "CPU times: user 81.3 ms, sys: 1.03 ms, total: 82.4 ms\n",
      "Wall time: 77.5 ms\n"
     ]
    },
    {
     "data": {
      "text/html": [
       "<div>\n",
       "<style scoped>\n",
       "    .dataframe tbody tr th:only-of-type {\n",
       "        vertical-align: middle;\n",
       "    }\n",
       "\n",
       "    .dataframe tbody tr th {\n",
       "        vertical-align: top;\n",
       "    }\n",
       "\n",
       "    .dataframe thead th {\n",
       "        text-align: right;\n",
       "    }\n",
       "</style>\n",
       "<table border=\"1\" class=\"dataframe\">\n",
       "  <thead>\n",
       "    <tr style=\"text-align: right;\">\n",
       "      <th></th>\n",
       "      <th>1</th>\n",
       "      <th>1</th>\n",
       "      <th>1</th>\n",
       "    </tr>\n",
       "  </thead>\n",
       "  <tbody>\n",
       "    <tr>\n",
       "      <th>date</th>\n",
       "      <td>2012-10-18 00:00:00</td>\n",
       "      <td>2012-10-18 00:00:00</td>\n",
       "      <td>2012-10-18 00:00:00</td>\n",
       "    </tr>\n",
       "    <tr>\n",
       "      <th>title</th>\n",
       "      <td>Gesetzentwurf 17/9852 und 17/11053 (8. Änderung des Gesetzes gegen Wettbewerbsbeschränkungen)</td>\n",
       "      <td>Gesetzentwurf 17/9852 und 17/11053 (8. Änderung des Gesetzes gegen Wettbewerbsbeschränkungen)</td>\n",
       "      <td>Gesetzentwurf 17/9852 und 17/11053 (8. Änderung des Gesetzes gegen Wettbewerbsbeschränkungen)</td>\n",
       "    </tr>\n",
       "    <tr>\n",
       "      <th>ja_mdb</th>\n",
       "      <td>0</td>\n",
       "      <td>0</td>\n",
       "      <td>0</td>\n",
       "    </tr>\n",
       "    <tr>\n",
       "      <th>nein_mdb</th>\n",
       "      <td>0</td>\n",
       "      <td>0</td>\n",
       "      <td>0</td>\n",
       "    </tr>\n",
       "    <tr>\n",
       "      <th>Enthaltung_mdb</th>\n",
       "      <td>0</td>\n",
       "      <td>0</td>\n",
       "      <td>0</td>\n",
       "    </tr>\n",
       "    <tr>\n",
       "      <th>ungültig_mdb</th>\n",
       "      <td>0</td>\n",
       "      <td>0</td>\n",
       "      <td>0</td>\n",
       "    </tr>\n",
       "    <tr>\n",
       "      <th>nichtabgegeben_mdb</th>\n",
       "      <td>1</td>\n",
       "      <td>1</td>\n",
       "      <td>1</td>\n",
       "    </tr>\n",
       "    <tr>\n",
       "      <th>Fraktion/Gruppe</th>\n",
       "      <td>BÜ90/GR</td>\n",
       "      <td>CDU/CSU</td>\n",
       "      <td>DIE LINKE.</td>\n",
       "    </tr>\n",
       "    <tr>\n",
       "      <th>ja_party</th>\n",
       "      <td>0.0</td>\n",
       "      <td>0.915612</td>\n",
       "      <td>0.0</td>\n",
       "    </tr>\n",
       "    <tr>\n",
       "      <th>nein_party</th>\n",
       "      <td>0.867647</td>\n",
       "      <td>0.0</td>\n",
       "      <td>0.789474</td>\n",
       "    </tr>\n",
       "    <tr>\n",
       "      <th>Enthaltung_party</th>\n",
       "      <td>0.0</td>\n",
       "      <td>0.0</td>\n",
       "      <td>0.0</td>\n",
       "    </tr>\n",
       "    <tr>\n",
       "      <th>ungültig_party</th>\n",
       "      <td>0</td>\n",
       "      <td>0</td>\n",
       "      <td>0</td>\n",
       "    </tr>\n",
       "    <tr>\n",
       "      <th>nichtabgegeben_party</th>\n",
       "      <td>0.132353</td>\n",
       "      <td>0.084388</td>\n",
       "      <td>0.210526</td>\n",
       "    </tr>\n",
       "    <tr>\n",
       "      <th>similarity</th>\n",
       "      <td>0.150798</td>\n",
       "      <td>0.091777</td>\n",
       "      <td>0.257663</td>\n",
       "    </tr>\n",
       "  </tbody>\n",
       "</table>\n",
       "</div>"
      ],
      "text/plain": [
       "                                                                                                                   1  \\\n",
       "date                                                                                             2012-10-18 00:00:00   \n",
       "title                  Gesetzentwurf 17/9852 und 17/11053 (8. Änderung des Gesetzes gegen Wettbewerbsbeschränkungen)   \n",
       "ja_mdb                                                                                                             0   \n",
       "nein_mdb                                                                                                           0   \n",
       "Enthaltung_mdb                                                                                                     0   \n",
       "ungültig_mdb                                                                                                       0   \n",
       "nichtabgegeben_mdb                                                                                                 1   \n",
       "Fraktion/Gruppe                                                                                              BÜ90/GR   \n",
       "ja_party                                                                                                         0.0   \n",
       "nein_party                                                                                                  0.867647   \n",
       "Enthaltung_party                                                                                                 0.0   \n",
       "ungültig_party                                                                                                     0   \n",
       "nichtabgegeben_party                                                                                        0.132353   \n",
       "similarity                                                                                                  0.150798   \n",
       "\n",
       "                                                                                                                   1  \\\n",
       "date                                                                                             2012-10-18 00:00:00   \n",
       "title                  Gesetzentwurf 17/9852 und 17/11053 (8. Änderung des Gesetzes gegen Wettbewerbsbeschränkungen)   \n",
       "ja_mdb                                                                                                             0   \n",
       "nein_mdb                                                                                                           0   \n",
       "Enthaltung_mdb                                                                                                     0   \n",
       "ungültig_mdb                                                                                                       0   \n",
       "nichtabgegeben_mdb                                                                                                 1   \n",
       "Fraktion/Gruppe                                                                                              CDU/CSU   \n",
       "ja_party                                                                                                    0.915612   \n",
       "nein_party                                                                                                       0.0   \n",
       "Enthaltung_party                                                                                                 0.0   \n",
       "ungültig_party                                                                                                     0   \n",
       "nichtabgegeben_party                                                                                        0.084388   \n",
       "similarity                                                                                                  0.091777   \n",
       "\n",
       "                                                                                                                   1  \n",
       "date                                                                                             2012-10-18 00:00:00  \n",
       "title                  Gesetzentwurf 17/9852 und 17/11053 (8. Änderung des Gesetzes gegen Wettbewerbsbeschränkungen)  \n",
       "ja_mdb                                                                                                             0  \n",
       "nein_mdb                                                                                                           0  \n",
       "Enthaltung_mdb                                                                                                     0  \n",
       "ungültig_mdb                                                                                                       0  \n",
       "nichtabgegeben_mdb                                                                                                 1  \n",
       "Fraktion/Gruppe                                                                                           DIE LINKE.  \n",
       "ja_party                                                                                                         0.0  \n",
       "nein_party                                                                                                  0.789474  \n",
       "Enthaltung_party                                                                                                 0.0  \n",
       "ungültig_party                                                                                                     0  \n",
       "nichtabgegeben_party                                                                                        0.210526  \n",
       "similarity                                                                                                  0.257663  "
      ]
     },
     "execution_count": 7,
     "metadata": {},
     "output_type": "execute_result"
    }
   ],
   "source": [
    "%%time\n",
    "mdb_vs_parties = (sim.align_mdb_with_parties(mdb_votes, party_votes_pivoted)\n",
    "                  .pipe(sim.compute_similarity, lsuffix='mdb', rsuffix='party'))\n",
    "sim.test_mdb_vs_parties(mdb_vs_parties)\n",
    "mdb_vs_parties.head(3).T"
   ]
  },
  {
   "cell_type": "markdown",
   "metadata": {},
   "source": [
    "Plotting"
   ]
  },
  {
   "cell_type": "code",
   "execution_count": null,
   "metadata": {},
   "outputs": [],
   "source": [
    "sim.plot(mdb_vs_parties, title_overall=f'Overall similarity of {mdb} with all parties',\n",
    "         title_over_time=f'{mdb} vs time')\n",
    "plt.tight_layout()\n",
    "plt.show()"
   ]
  },
  {
   "cell_type": "markdown",
   "metadata": {},
   "source": [
    "![mdb similarity](./README_files/mdb_similarity_vs_time.png)"
   ]
  },
  {
   "cell_type": "markdown",
   "metadata": {},
   "source": [
    "**Comparing one specific party against all others**"
   ]
  },
  {
   "cell_type": "markdown",
   "metadata": {},
   "source": [
    "Collecting party votes"
   ]
  },
  {
   "cell_type": "code",
   "execution_count": 8,
   "metadata": {},
   "outputs": [
    {
     "name": "stderr",
     "output_type": "stream",
     "text": [
      "2021-08-27 06:54:02.842 | INFO     | bundestag.similarity:compute_similarity:110 - Computing similarities using `lsuffix` = \"a\", `rsuffix` = \"b\" and metric = <function cosine_similarity at 0x7fb7e220e0d0>\n"
     ]
    },
    {
     "name": "stdout",
     "output_type": "stream",
     "text": [
      "CPU times: user 119 ms, sys: 768 µs, total: 120 ms\n",
      "Wall time: 109 ms\n"
     ]
    },
    {
     "data": {
      "text/html": [
       "<div>\n",
       "<style scoped>\n",
       "    .dataframe tbody tr th:only-of-type {\n",
       "        vertical-align: middle;\n",
       "    }\n",
       "\n",
       "    .dataframe tbody tr th {\n",
       "        vertical-align: top;\n",
       "    }\n",
       "\n",
       "    .dataframe thead th {\n",
       "        text-align: right;\n",
       "    }\n",
       "</style>\n",
       "<table border=\"1\" class=\"dataframe\">\n",
       "  <thead>\n",
       "    <tr style=\"text-align: right;\">\n",
       "      <th></th>\n",
       "      <th>273</th>\n",
       "      <th>274</th>\n",
       "      <th>275</th>\n",
       "    </tr>\n",
       "    <tr>\n",
       "      <th>vote</th>\n",
       "      <th></th>\n",
       "      <th></th>\n",
       "      <th></th>\n",
       "    </tr>\n",
       "  </thead>\n",
       "  <tbody>\n",
       "    <tr>\n",
       "      <th>date</th>\n",
       "      <td>2017-12-12 00:00:00</td>\n",
       "      <td>2017-12-12 00:00:00</td>\n",
       "      <td>2017-12-12 00:00:00</td>\n",
       "    </tr>\n",
       "    <tr>\n",
       "      <th>title</th>\n",
       "      <td>Bundeswehreinsatz gegen die Terrororganisation IS</td>\n",
       "      <td>Bundeswehreinsatz im Irak</td>\n",
       "      <td>Bundeswehreinsatz im Mittelmeer (SEA GUARDIAN)</td>\n",
       "    </tr>\n",
       "    <tr>\n",
       "      <th>Fraktion/Gruppe_a</th>\n",
       "      <td>SPD</td>\n",
       "      <td>SPD</td>\n",
       "      <td>SPD</td>\n",
       "    </tr>\n",
       "    <tr>\n",
       "      <th>ja_a</th>\n",
       "      <td>0.810458</td>\n",
       "      <td>0.843137</td>\n",
       "      <td>0.869281</td>\n",
       "    </tr>\n",
       "    <tr>\n",
       "      <th>nein_a</th>\n",
       "      <td>0.098039</td>\n",
       "      <td>0.065359</td>\n",
       "      <td>0.039216</td>\n",
       "    </tr>\n",
       "    <tr>\n",
       "      <th>Enthaltung_a</th>\n",
       "      <td>0.013072</td>\n",
       "      <td>0.013072</td>\n",
       "      <td>0.006536</td>\n",
       "    </tr>\n",
       "    <tr>\n",
       "      <th>ungültig_a</th>\n",
       "      <td>0</td>\n",
       "      <td>0</td>\n",
       "      <td>0</td>\n",
       "    </tr>\n",
       "    <tr>\n",
       "      <th>nichtabgegeben_a</th>\n",
       "      <td>0.078431</td>\n",
       "      <td>0.078431</td>\n",
       "      <td>0.084967</td>\n",
       "    </tr>\n",
       "    <tr>\n",
       "      <th>Fraktion/Gruppe_b</th>\n",
       "      <td>AfD</td>\n",
       "      <td>AfD</td>\n",
       "      <td>AfD</td>\n",
       "    </tr>\n",
       "    <tr>\n",
       "      <th>ja_b</th>\n",
       "      <td>0.0</td>\n",
       "      <td>0.0</td>\n",
       "      <td>0.913043</td>\n",
       "    </tr>\n",
       "    <tr>\n",
       "      <th>nein_b</th>\n",
       "      <td>0.967391</td>\n",
       "      <td>0.978261</td>\n",
       "      <td>0.021739</td>\n",
       "    </tr>\n",
       "    <tr>\n",
       "      <th>Enthaltung_b</th>\n",
       "      <td>0.0</td>\n",
       "      <td>0.0</td>\n",
       "      <td>0.021739</td>\n",
       "    </tr>\n",
       "    <tr>\n",
       "      <th>ungültig_b</th>\n",
       "      <td>0.0</td>\n",
       "      <td>0.0</td>\n",
       "      <td>0.0</td>\n",
       "    </tr>\n",
       "    <tr>\n",
       "      <th>nichtabgegeben_b</th>\n",
       "      <td>0.032609</td>\n",
       "      <td>0.021739</td>\n",
       "      <td>0.043478</td>\n",
       "    </tr>\n",
       "    <tr>\n",
       "      <th>similarity</th>\n",
       "      <td>0.12268</td>\n",
       "      <td>0.078981</td>\n",
       "      <td>0.998405</td>\n",
       "    </tr>\n",
       "  </tbody>\n",
       "</table>\n",
       "</div>"
      ],
      "text/plain": [
       "                                                                  273  \\\n",
       "vote                                                                    \n",
       "date                                              2017-12-12 00:00:00   \n",
       "title               Bundeswehreinsatz gegen die Terrororganisation IS   \n",
       "Fraktion/Gruppe_a                                                 SPD   \n",
       "ja_a                                                         0.810458   \n",
       "nein_a                                                       0.098039   \n",
       "Enthaltung_a                                                 0.013072   \n",
       "ungültig_a                                                          0   \n",
       "nichtabgegeben_a                                             0.078431   \n",
       "Fraktion/Gruppe_b                                                 AfD   \n",
       "ja_b                                                              0.0   \n",
       "nein_b                                                       0.967391   \n",
       "Enthaltung_b                                                      0.0   \n",
       "ungültig_b                                                        0.0   \n",
       "nichtabgegeben_b                                             0.032609   \n",
       "similarity                                                    0.12268   \n",
       "\n",
       "                                          274  \\\n",
       "vote                                            \n",
       "date                      2017-12-12 00:00:00   \n",
       "title               Bundeswehreinsatz im Irak   \n",
       "Fraktion/Gruppe_a                         SPD   \n",
       "ja_a                                 0.843137   \n",
       "nein_a                               0.065359   \n",
       "Enthaltung_a                         0.013072   \n",
       "ungültig_a                                  0   \n",
       "nichtabgegeben_a                     0.078431   \n",
       "Fraktion/Gruppe_b                         AfD   \n",
       "ja_b                                      0.0   \n",
       "nein_b                               0.978261   \n",
       "Enthaltung_b                              0.0   \n",
       "ungültig_b                                0.0   \n",
       "nichtabgegeben_b                     0.021739   \n",
       "similarity                           0.078981   \n",
       "\n",
       "                                                               275  \n",
       "vote                                                                \n",
       "date                                           2017-12-12 00:00:00  \n",
       "title               Bundeswehreinsatz im Mittelmeer (SEA GUARDIAN)  \n",
       "Fraktion/Gruppe_a                                              SPD  \n",
       "ja_a                                                      0.869281  \n",
       "nein_a                                                    0.039216  \n",
       "Enthaltung_a                                              0.006536  \n",
       "ungültig_a                                                       0  \n",
       "nichtabgegeben_a                                          0.084967  \n",
       "Fraktion/Gruppe_b                                              AfD  \n",
       "ja_b                                                      0.913043  \n",
       "nein_b                                                    0.021739  \n",
       "Enthaltung_b                                              0.021739  \n",
       "ungültig_b                                                     0.0  \n",
       "nichtabgegeben_b                                          0.043478  \n",
       "similarity                                                0.998405  "
      ]
     },
     "execution_count": 8,
     "metadata": {},
     "output_type": "execute_result"
    }
   ],
   "source": [
    "%%time\n",
    "party = 'SPD'\n",
    "partyA_vs_rest = (sim.align_party_with_all_parties(party_votes_pivoted, party)\n",
    "                  .pipe(sim.compute_similarity, lsuffix='a', rsuffix='b'))\n",
    "sim.test_partyA_vs_partyB(partyA_vs_rest)\n",
    "partyA_vs_rest.head(3).T"
   ]
  },
  {
   "cell_type": "markdown",
   "metadata": {},
   "source": [
    "Plotting"
   ]
  },
  {
   "cell_type": "code",
   "execution_count": null,
   "metadata": {},
   "outputs": [],
   "source": [
    "sim.plot(partyA_vs_rest, title_overall=f'Overall similarity of {party} with all parties',\n",
    "         title_over_time=f'{party} vs time', party_col='Fraktion/Gruppe_b')\n",
    "plt.tight_layout()\n",
    "plt.show()"
   ]
  },
  {
   "cell_type": "markdown",
   "metadata": {},
   "source": [
    "![party similarity](./README_files/party_similarity_vs_time.png)"
   ]
  },
  {
   "cell_type": "markdown",
   "metadata": {},
   "source": [
    "**GUI to inspect similarities**\n",
    "\n",
    "To make the above exploration more interactive, the class `MdBGUI` and `PartyGUI` was implemented to quickly go through the different parties and politicians"
   ]
  },
  {
   "cell_type": "code",
   "execution_count": null,
   "metadata": {},
   "outputs": [],
   "source": [
    "mdb = MdBGUI(df)"
   ]
  },
  {
   "cell_type": "code",
   "execution_count": null,
   "metadata": {},
   "outputs": [],
   "source": [
    "mdb.render()"
   ]
  },
  {
   "cell_type": "code",
   "execution_count": null,
   "metadata": {},
   "outputs": [],
   "source": [
    "party = PartyGUI(df)"
   ]
  },
  {
   "cell_type": "code",
   "execution_count": null,
   "metadata": {},
   "outputs": [],
   "source": [
    "party.render()"
   ]
  },
  {
   "cell_type": "markdown",
   "metadata": {},
   "source": [
    "### Part 2 - predicting politician votes using abgeordnetenwatch data"
   ]
  },
  {
   "cell_type": "markdown",
   "metadata": {},
   "source": [
    "The data used below was processed using `nbs/03_abgeordnetenwatch.ipynb`."
   ]
  },
  {
   "cell_type": "code",
   "execution_count": 9,
   "metadata": {},
   "outputs": [],
   "source": [
    "path = Path('./abgeordnetenwatch_data')"
   ]
  },
  {
   "cell_type": "markdown",
   "metadata": {},
   "source": [
    "#### Clustering polls using Latent Dirichlet Allocation (LDA)"
   ]
  },
  {
   "cell_type": "code",
   "execution_count": 10,
   "metadata": {},
   "outputs": [
    {
     "data": {
      "text/html": [
       "<div>\n",
       "<style scoped>\n",
       "    .dataframe tbody tr th:only-of-type {\n",
       "        vertical-align: middle;\n",
       "    }\n",
       "\n",
       "    .dataframe tbody tr th {\n",
       "        vertical-align: top;\n",
       "    }\n",
       "\n",
       "    .dataframe thead th {\n",
       "        text-align: right;\n",
       "    }\n",
       "</style>\n",
       "<table border=\"1\" class=\"dataframe\">\n",
       "  <thead>\n",
       "    <tr style=\"text-align: right;\">\n",
       "      <th></th>\n",
       "      <th>0</th>\n",
       "      <th>1</th>\n",
       "      <th>2</th>\n",
       "    </tr>\n",
       "  </thead>\n",
       "  <tbody>\n",
       "    <tr>\n",
       "      <th>poll_id</th>\n",
       "      <td>4217</td>\n",
       "      <td>4215</td>\n",
       "      <td>4214</td>\n",
       "    </tr>\n",
       "    <tr>\n",
       "      <th>poll_title</th>\n",
       "      <td>Änderung im Infektions­schutz­gesetz</td>\n",
       "      <td>Keine Verwendung von geschlechtergerechter Sprache</td>\n",
       "      <td>Verlängerung des Bundeswehreinsatzes vor der libanesischen Küste (UNIFIL 2021/2022)</td>\n",
       "    </tr>\n",
       "    <tr>\n",
       "      <th>poll_first_committee</th>\n",
       "      <td>Ausschuss für Recht und Verbraucherschutz</td>\n",
       "      <td>None</td>\n",
       "      <td>Auswärtiger Ausschuss</td>\n",
       "    </tr>\n",
       "    <tr>\n",
       "      <th>poll_description</th>\n",
       "      <td>Abgestimmt wurde über die Paragraphen 9 und 10 des Infektionsschutzgesetzes. Die AfD hatte verlangt, über einzelne Teile des Gesetzentwurfs und den Gesetzentwurf insgesamt, getrennt abzustimmen. Eine namentlicher Abstimmung fand lediglich bezüglich der Änderungen des Infektionsschutzgesetzes statt.\\nDer Gesetzentwurf wird mit 408 Ja-Stimmen der Fraktionen CDU/CSU, SPD und Bündnis 90/Die Grünen angenommen. Dagegen stimmten die FDP, Die Linke und die AfD.</td>\n",
       "      <td>Der Bundestag stimmt über einen Antrag der AfD ab, in welchem die Fraktion dazu auffordert, zugunsten einer \"besseren Lesbarkeit\" auf die Verwendung geschlechtergerechter Sprache durch die Bundesregierung sowie in Drucksachen des Bundestages zu verzichten. \\nDer Antrag wurde mit 531 Nein-Stimmen der Fraktionen CDU/CSU, SPD, Bündnis90/Die Grünen, Die Linke und FDP abgelehnt. Dafür stimmte lediglich die antragsstellende Fraktion der AfD.</td>\n",
       "      <td>Der von der Bundesregierung eingebrachte Antrag sieht vor, die Beteiligung der Bundeswehr am maritimen Teil der friedenssichernden Mission \"United Nations Interim Force in Lebanon\" (UNIFIL) zu verlängern. Bei dem Einsatz handelt es sich um die Beteiligung deutscher Streitkräfte an der Überwachung der Seegrenzen des Libanon.\\nDer Antrag wird mit 468 Ja-Stimmen der Fraktionen CDU/CSU, SPD, FDP und Bündnis 90/Die Grünen angenommen. Die Linke und die AfD stimmten gegen den Antrag.</td>\n",
       "    </tr>\n",
       "    <tr>\n",
       "      <th>legislature_id</th>\n",
       "      <td>111</td>\n",
       "      <td>111</td>\n",
       "      <td>111</td>\n",
       "    </tr>\n",
       "    <tr>\n",
       "      <th>legislature_period</th>\n",
       "      <td>Bundestag 2017 - 2021</td>\n",
       "      <td>Bundestag 2017 - 2021</td>\n",
       "      <td>Bundestag 2017 - 2021</td>\n",
       "    </tr>\n",
       "    <tr>\n",
       "      <th>poll_date</th>\n",
       "      <td>2021-06-24</td>\n",
       "      <td>2021-06-24</td>\n",
       "      <td>2021-06-24</td>\n",
       "    </tr>\n",
       "    <tr>\n",
       "      <th>poll_title_nlp_processed</th>\n",
       "      <td>[Änderung, Infektions­schutz­gesetz]</td>\n",
       "      <td>[Verwendung, geschlechtergerechter, Sprache]</td>\n",
       "      <td>[Verlängerung, Bundeswehreinsatzes, libanesischen, Küste, UNIFIL]</td>\n",
       "    </tr>\n",
       "    <tr>\n",
       "      <th>nlp_dim0</th>\n",
       "      <td>0.730206</td>\n",
       "      <td>0.050009</td>\n",
       "      <td>0.034305</td>\n",
       "    </tr>\n",
       "    <tr>\n",
       "      <th>nlp_dim1</th>\n",
       "      <td>0.067006</td>\n",
       "      <td>0.050014</td>\n",
       "      <td>0.03356</td>\n",
       "    </tr>\n",
       "    <tr>\n",
       "      <th>nlp_dim2</th>\n",
       "      <td>0.067219</td>\n",
       "      <td>0.050011</td>\n",
       "      <td>0.033626</td>\n",
       "    </tr>\n",
       "    <tr>\n",
       "      <th>nlp_dim3</th>\n",
       "      <td>0.068889</td>\n",
       "      <td>0.050011</td>\n",
       "      <td>0.033718</td>\n",
       "    </tr>\n",
       "  </tbody>\n",
       "</table>\n",
       "</div>"
      ],
      "text/plain": [
       "                                                                                                                                                                                                                                                                                                                                                                                                                                                                                                  0  \\\n",
       "poll_id                                                                                                                                                                                                                                                                                                                                                                                                                                                                                        4217   \n",
       "poll_title                                                                                                                                                                                                                                                                                                                                                                                                                                                     Änderung im Infektions­schutz­gesetz   \n",
       "poll_first_committee                                                                                                                                                                                                                                                                                                                                                                                                                                      Ausschuss für Recht und Verbraucherschutz   \n",
       "poll_description          Abgestimmt wurde über die Paragraphen 9 und 10 des Infektionsschutzgesetzes. Die AfD hatte verlangt, über einzelne Teile des Gesetzentwurfs und den Gesetzentwurf insgesamt, getrennt abzustimmen. Eine namentlicher Abstimmung fand lediglich bezüglich der Änderungen des Infektionsschutzgesetzes statt.\\nDer Gesetzentwurf wird mit 408 Ja-Stimmen der Fraktionen CDU/CSU, SPD und Bündnis 90/Die Grünen angenommen. Dagegen stimmten die FDP, Die Linke und die AfD.   \n",
       "legislature_id                                                                                                                                                                                                                                                                                                                                                                                                                                                                                  111   \n",
       "legislature_period                                                                                                                                                                                                                                                                                                                                                                                                                                                            Bundestag 2017 - 2021   \n",
       "poll_date                                                                                                                                                                                                                                                                                                                                                                                                                                                                                2021-06-24   \n",
       "poll_title_nlp_processed                                                                                                                                                                                                                                                                                                                                                                                                                                       [Änderung, Infektions­schutz­gesetz]   \n",
       "nlp_dim0                                                                                                                                                                                                                                                                                                                                                                                                                                                                                   0.730206   \n",
       "nlp_dim1                                                                                                                                                                                                                                                                                                                                                                                                                                                                                   0.067006   \n",
       "nlp_dim2                                                                                                                                                                                                                                                                                                                                                                                                                                                                                   0.067219   \n",
       "nlp_dim3                                                                                                                                                                                                                                                                                                                                                                                                                                                                                   0.068889   \n",
       "\n",
       "                                                                                                                                                                                                                                                                                                                                                                                                                                                                                1  \\\n",
       "poll_id                                                                                                                                                                                                                                                                                                                                                                                                                                                                      4215   \n",
       "poll_title                                                                                                                                                                                                                                                                                                                                                                                                                     Keine Verwendung von geschlechtergerechter Sprache   \n",
       "poll_first_committee                                                                                                                                                                                                                                                                                                                                                                                                                                                         None   \n",
       "poll_description          Der Bundestag stimmt über einen Antrag der AfD ab, in welchem die Fraktion dazu auffordert, zugunsten einer \"besseren Lesbarkeit\" auf die Verwendung geschlechtergerechter Sprache durch die Bundesregierung sowie in Drucksachen des Bundestages zu verzichten. \\nDer Antrag wurde mit 531 Nein-Stimmen der Fraktionen CDU/CSU, SPD, Bündnis90/Die Grünen, Die Linke und FDP abgelehnt. Dafür stimmte lediglich die antragsstellende Fraktion der AfD.   \n",
       "legislature_id                                                                                                                                                                                                                                                                                                                                                                                                                                                                111   \n",
       "legislature_period                                                                                                                                                                                                                                                                                                                                                                                                                                          Bundestag 2017 - 2021   \n",
       "poll_date                                                                                                                                                                                                                                                                                                                                                                                                                                                              2021-06-24   \n",
       "poll_title_nlp_processed                                                                                                                                                                                                                                                                                                                                                                                                             [Verwendung, geschlechtergerechter, Sprache]   \n",
       "nlp_dim0                                                                                                                                                                                                                                                                                                                                                                                                                                                                 0.050009   \n",
       "nlp_dim1                                                                                                                                                                                                                                                                                                                                                                                                                                                                 0.050014   \n",
       "nlp_dim2                                                                                                                                                                                                                                                                                                                                                                                                                                                                 0.050011   \n",
       "nlp_dim3                                                                                                                                                                                                                                                                                                                                                                                                                                                                 0.050011   \n",
       "\n",
       "                                                                                                                                                                                                                                                                                                                                                                                                                                                                                                                          2  \n",
       "poll_id                                                                                                                                                                                                                                                                                                                                                                                                                                                                                                                4214  \n",
       "poll_title                                                                                                                                                                                                                                                                                                                                                                                                                              Verlängerung des Bundeswehreinsatzes vor der libanesischen Küste (UNIFIL 2021/2022)  \n",
       "poll_first_committee                                                                                                                                                                                                                                                                                                                                                                                                                                                                                  Auswärtiger Ausschuss  \n",
       "poll_description          Der von der Bundesregierung eingebrachte Antrag sieht vor, die Beteiligung der Bundeswehr am maritimen Teil der friedenssichernden Mission \"United Nations Interim Force in Lebanon\" (UNIFIL) zu verlängern. Bei dem Einsatz handelt es sich um die Beteiligung deutscher Streitkräfte an der Überwachung der Seegrenzen des Libanon.\\nDer Antrag wird mit 468 Ja-Stimmen der Fraktionen CDU/CSU, SPD, FDP und Bündnis 90/Die Grünen angenommen. Die Linke und die AfD stimmten gegen den Antrag.  \n",
       "legislature_id                                                                                                                                                                                                                                                                                                                                                                                                                                                                                                          111  \n",
       "legislature_period                                                                                                                                                                                                                                                                                                                                                                                                                                                                                    Bundestag 2017 - 2021  \n",
       "poll_date                                                                                                                                                                                                                                                                                                                                                                                                                                                                                                        2021-06-24  \n",
       "poll_title_nlp_processed                                                                                                                                                                                                                                                                                                                                                                                                                                  [Verlängerung, Bundeswehreinsatzes, libanesischen, Küste, UNIFIL]  \n",
       "nlp_dim0                                                                                                                                                                                                                                                                                                                                                                                                                                                                                                           0.034305  \n",
       "nlp_dim1                                                                                                                                                                                                                                                                                                                                                                                                                                                                                                            0.03356  \n",
       "nlp_dim2                                                                                                                                                                                                                                                                                                                                                                                                                                                                                                           0.033626  \n",
       "nlp_dim3                                                                                                                                                                                                                                                                                                                                                                                                                                                                                                           0.033718  "
      ]
     },
     "metadata": {},
     "output_type": "display_data"
    },
    {
     "name": "stdout",
     "output_type": "stream",
     "text": [
      "CPU times: user 1.83 s, sys: 111 ms, total: 1.94 s\n",
      "Wall time: 1.94 s\n"
     ]
    }
   ],
   "source": [
    "%%time\n",
    "source_col = 'poll_title'\n",
    "nlp_col = f'{source_col}_nlp_processed'\n",
    "num_topics = 5 # number of topics / clusters to identify\n",
    "\n",
    "st = pc.SpacyTransformer()\n",
    "\n",
    "# load data and prepare text for modelling\n",
    "df_polls_lda = (pd.read_parquet(path=path/'df_polls.parquet')\n",
    "                .assign(**{nlp_col: lambda x: st.clean_text(x, col=source_col)}))\n",
    "\n",
    "# modelling clusters\n",
    "st.fit(df_polls_lda[nlp_col].values, mode='lda', num_topics=num_topics)\n",
    "\n",
    "# creating text features using fitted model\n",
    "df_polls_lda, nlp_feature_cols = df_polls_lda.pipe(st.transform, col=nlp_col, return_new_cols=True)\n",
    "\n",
    "# inspecting clusters\n",
    "display(df_polls_lda.head(3).T)"
   ]
  },
  {
   "cell_type": "code",
   "execution_count": null,
   "metadata": {},
   "outputs": [],
   "source": [
    "pc.pca_plot_lda_topics(df_polls_lda, st, source_col, nlp_feature_cols)"
   ]
  },
  {
   "cell_type": "markdown",
   "metadata": {},
   "source": [
    "#### Predicting votes"
   ]
  },
  {
   "cell_type": "markdown",
   "metadata": {},
   "source": [
    "Loading data"
   ]
  },
  {
   "cell_type": "code",
   "execution_count": 11,
   "metadata": {},
   "outputs": [],
   "source": [
    "df_all_votes = pd.read_parquet(path=path / 'df_all_votes.parquet')\n",
    "df_mandates = pd.read_parquet(path=path / 'df_mandates.parquet')\n",
    "df_polls = pd.read_parquet(path=path / 'df_polls.parquet')"
   ]
  },
  {
   "cell_type": "markdown",
   "metadata": {},
   "source": [
    "Splitting data set into training and validation set. Splitting randomly here because it leads to an interesting result, albeit not very realistic for production."
   ]
  },
  {
   "cell_type": "code",
   "execution_count": 12,
   "metadata": {},
   "outputs": [],
   "source": [
    "splits = RandomSplitter(valid_pct=.2)(df_all_votes)\n",
    "y_col = 'vote'"
   ]
  },
  {
   "cell_type": "markdown",
   "metadata": {},
   "source": [
    "Training a neural net to predict `vote` based on embeddings for `poll_id` and `politician name`"
   ]
  },
  {
   "cell_type": "code",
   "execution_count": null,
   "metadata": {},
   "outputs": [],
   "source": [
    "%%time\n",
    "to = TabularPandas(df_all_votes, \n",
    "                   cat_names=['politician name', 'poll_id'], # columns in `df_all_votes` to treat as categorical\n",
    "                   y_names=[y_col], # column to use as a target for the model in `learn`\n",
    "                   procs=[Categorify],  # processing of features\n",
    "                   y_block=CategoryBlock,  # how to treat `y_names`, here as categories\n",
    "                   splits=splits) # how to split the data \n",
    "\n",
    "dls = to.dataloaders(bs=512)\n",
    "learn = tabular_learner(dls) # fastai function to set up a neural net for tabular data\n",
    "lrs = learn.lr_find() # searches the learning rate\n",
    "learn.fit_one_cycle(5, lrs.valley) # performs training using one-cycle hyperparameter schedule"
   ]
  },
  {
   "cell_type": "markdown",
   "metadata": {},
   "source": [
    "**Predictions over unseen data**"
   ]
  },
  {
   "cell_type": "markdown",
   "metadata": {},
   "source": [
    "Inspecting the predictions of the neural net over the validation set. "
   ]
  },
  {
   "cell_type": "code",
   "execution_count": null,
   "metadata": {
    "scrolled": false
   },
   "outputs": [],
   "source": [
    "vp.plot_predictions(learn, df_all_votes, df_mandates, df_polls, splits,\n",
    "                    n_worst_politicians=5)"
   ]
  },
  {
   "cell_type": "markdown",
   "metadata": {},
   "source": [
    "Splitting our dataset randomly leads to a surprisingly good accuracy of ~88% over the validation set. The most reasonable explanation is that the model encountered polls and how most politicians voted for them already during training. \n",
    "\n",
    "This can be interpreted as, if it is known how most politicians will vote during a poll, then the vote of the remaining politicians is highly predictable. Splitting the data set by `poll_id`, as can be done using `vp.poll_splitter` leads to random chance predictions. Anything else would be surprising as well since the only available information provided to the model is who is voting."
   ]
  },
  {
   "cell_type": "markdown",
   "metadata": {},
   "source": [
    "**Visualising learned embeddings**"
   ]
  },
  {
   "cell_type": "markdown",
   "metadata": {},
   "source": [
    "Besides the actual prediction it also is interesting to inspect what the model actually learned. This can sometimes lead to [surprises](https://github.com/entron/entity-embedding-rossmann).\n",
    "\n",
    "So let's look at the learned embeddings"
   ]
  },
  {
   "cell_type": "code",
   "execution_count": 14,
   "metadata": {},
   "outputs": [],
   "source": [
    "embeddings = vp.get_embeddings(learn)"
   ]
  },
  {
   "cell_type": "markdown",
   "metadata": {},
   "source": [
    "To make sense of the embeddings for `poll_id` as well as `politician name` we apply Principal Component Analysis (so one still kind of understands what distances mean) and project down to 2d. \n",
    "\n",
    "Using the information which party was most strongly (% of their votes being \"yes\"), so its strongest proponent, we color code the individual polls."
   ]
  },
  {
   "cell_type": "code",
   "execution_count": null,
   "metadata": {},
   "outputs": [],
   "source": [
    "vp.plot_poll_embeddings(df_all_votes, df_polls, embeddings, df_mandates=df_mandates)"
   ]
  },
  {
   "cell_type": "markdown",
   "metadata": {},
   "source": [
    "![poll embeddings](./README_files/poll_embeddings.png)"
   ]
  },
  {
   "cell_type": "markdown",
   "metadata": {},
   "source": [
    "The politician embeddings are color coded using the politician's party membership"
   ]
  },
  {
   "cell_type": "code",
   "execution_count": null,
   "metadata": {},
   "outputs": [],
   "source": [
    "vp.plot_politician_embeddings(df_all_votes, df_mandates, embeddings)"
   ]
  },
  {
   "cell_type": "markdown",
   "metadata": {},
   "source": [
    "![mandate embeddings](./README_files/mandate_embeddings.png)"
   ]
  },
  {
   "cell_type": "markdown",
   "metadata": {},
   "source": [
    "The politician embeddings may be the most surprising finding in its clarity. It seems we find for polls and politicians 2-3 clusters, but for politicians with a significant grouping of mandates associated with the government coalition. It seems we find one cluster for the government parties and one for the government opposition. "
   ]
  },
  {
   "cell_type": "markdown",
   "metadata": {},
   "source": [
    "## To dos / contributing\n",
    "\n",
    "Any contributions welcome. In the notebooks in `./nbs/` I've listed to dos here and there things which could be done.\n",
    "\n",
    "**General to dos**:\n",
    "- Check for discrepancies between bundestag.de and abgeordnetenwatch based data \n",
    "- Make the clustering of polls and policitians interactive\n",
    "- Extend the vote prediction model: currently, if the data is split by poll (which would be the realistic case when trying to predict votes of a new poll), the model is hardly better than chance. It would be interesting to see which information would help improve beyond chance.\n",
    "- Extend the data processed from the stored json responses from abgeordnetenwatch (currently only using the bare minimum)"
   ]
  },
  {
   "cell_type": "code",
   "execution_count": null,
   "metadata": {},
   "outputs": [],
   "source": []
  }
 ],
 "metadata": {
  "kernelspec": {
   "display_name": "Python 3 (ipykernel)",
   "language": "python",
   "name": "python3"
  },
  "language_info": {
   "codemirror_mode": {
    "name": "ipython",
    "version": 3
   },
   "file_extension": ".py",
   "mimetype": "text/x-python",
   "name": "python",
   "nbconvert_exporter": "python",
   "pygments_lexer": "ipython3",
   "version": "3.8.5"
  },
  "toc": {
   "base_numbering": 1,
   "nav_menu": {},
   "number_sections": true,
   "sideBar": true,
   "skip_h1_title": false,
   "title_cell": "Table of Contents",
   "title_sidebar": "Contents",
   "toc_cell": false,
   "toc_position": {},
   "toc_section_display": true,
   "toc_window_display": false
  }
 },
 "nbformat": 4,
 "nbformat_minor": 4
}
