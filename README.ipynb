{
 "cells": [
  {
   "cell_type": "markdown",
   "metadata": {},
   "source": [
    "# \"Namentliche Abstimmungen\"  in the Bundestag\n",
    "\n",
    "> Parse and inspect \"Namentliche Abstimmungen\" (roll call votes) in the Bundestag (the federal German parliament)"
   ]
  },
  {
   "cell_type": "markdown",
   "metadata": {},
   "source": [
    "[![Binder](https://mybinder.org/badge_logo.svg)](https://mybinder.org/v2/gh/eschmidt42/bundestag/HEAD)"
   ]
  },
  {
   "cell_type": "markdown",
   "metadata": {},
   "source": [
    "## Context"
   ]
  },
  {
   "cell_type": "markdown",
   "metadata": {},
   "source": [
    "The German Parliament is so friendly to put all votes of all members into readable XLSX / XLS files (and PDFs ¯\\\\\\_(ツ)\\_/¯ ). Those files  can be found here: https://www.bundestag.de/parlament/plenum/abstimmung/liste. \n",
    "\n",
    "Furthermore, the organisation [abgeordnetenwatch](https://www.abgeordnetenwatch.de/) offers a great platform to get to know the individual politicians and their behavior as well as an [open API](https://www.abgeordnetenwatch.de/api) to request data."
   ]
  },
  {
   "cell_type": "markdown",
   "metadata": {},
   "source": [
    "## Purpose of this repo"
   ]
  },
  {
   "cell_type": "markdown",
   "metadata": {},
   "source": [
    "The purpose of this repo is to help collect roll call votes from the parliament's site directly or via abgeordnetenwatch's API and make them available for analysis / modelling. This may be particularly interesting for the upcoming election in 2021. E.g., if you want to see what your local member of the parliament has been up to in terms of public roll call votes relative to the parties, or how individual parties agree in their votes, this dataset may be interesting for you. \n",
    "\n",
    "Since the files on the bundestag website are stored in a way making it tricky to automatically crawl them, a bit of manual work is required to generate that dataset. But don't fret! Quite a few recent roll call votes (as of the publishing of this repo) are already prepared for you. But if older or more recent roll call votes are missing, convenience tools to reduce your manual effort are demonstrated below. An alternative route to get the same and more data (on politicians and local parliaments as well) is via the abgeordnetenwatch route.\n",
    "\n",
    "For your inspiration, I have also included an analysis on how similar parties voted / how similar to parties individual MdBs votes and a small machine learning model which predicts the individual votes of parliament. Teaser: the \"fraktionsszwang\" seems to exist but is not absolute and the data shows 😁."
   ]
  },
  {
   "cell_type": "markdown",
   "metadata": {},
   "source": [
    "## How to install"
   ]
  },
  {
   "cell_type": "markdown",
   "metadata": {},
   "source": [
    "`pip install bundestag`"
   ]
  },
  {
   "cell_type": "markdown",
   "metadata": {},
   "source": [
    "## How to use"
   ]
  },
  {
   "attachments": {},
   "cell_type": "markdown",
   "metadata": {},
   "source": [
    "### Docs"
   ]
  },
  {
   "cell_type": "markdown",
   "metadata": {},
   "source": [
    "For detailed explanations see:\n",
    "- parse data from bundestag.de $\\rightarrow$ `nbs/00_html_parsing.ipynb`\n",
    "- parse data from abgeordnetenwatch.de $\\rightarrow$ `nbs/03_abgeordnetenwatch.ipynb`\n",
    "- analyze party / abgeordneten similarity $\\rightarrow$ `nbs/01_similarities.ipynb`\n",
    "- cluster polls $\\rightarrow$ `nbs/04_poll_clustering.ipynb`\n",
    "- predict politician votes $\\rightarrow$ `nbs/05_predicting_votes.ipynb`\n",
    "\n",
    "For a short overview of the highlights see below."
   ]
  },
  {
   "attachments": {},
   "cell_type": "markdown",
   "metadata": {},
   "source": [
    "### When developing"
   ]
  },
  {
   "attachments": {},
   "cell_type": "markdown",
   "metadata": {},
   "source": [
    "Create the virtual environment\n",
    "```shell\n",
    "python3 -m venv .venv\n",
    "source .venv/bin/activate\n",
    "pip install pip-tools==6.12.3\n",
    "```\n",
    "\n",
    "To update the requirements\n",
    "```shell\n",
    "pip-compile -o requirements/requirements.txt pyproject.toml --resolver=backtracking\n",
    "pip-compile --extra dev -o requirements/dev-requirements.txt pyproject.toml  --resolver=backtracking\n",
    "```\n",
    "\n",
    "To install the dev requirements\n",
    "```shell\n",
    "pip-sync requirements/dev-requirements.txt\n",
    "```\n",
    "\n",
    "To make the package available\n",
    "```shell\n",
    "pip install -e .\n",
    "```\n",
    "\n",
    "To make pre-commit available after each commit\n",
    "```shell\n",
    "pre-commit install\n",
    "```"
   ]
  },
  {
   "attachments": {},
   "cell_type": "markdown",
   "metadata": {},
   "source": [
    "### Data sources\n",
    "\n",
    "* Bundestag page `https://www.bundestag.de/parlament/plenum/abstimmung/liste`: Roll call votes with information on presence / absence and vote (yes/no/abstain) for each member of parliament\n",
    "* abgeordnetenwatch API `https://www.abgeordnetenwatch.de/api` (they also have a GUI [here](https://www.abgeordnetenwatch.de)): information on politicians, parliaments, legislative periods and mandates"
   ]
  },
  {
   "cell_type": "markdown",
   "metadata": {},
   "source": [
    "### Setup"
   ]
  },
  {
   "cell_type": "code",
   "execution_count": null,
   "metadata": {},
   "outputs": [],
   "source": [
    "%load_ext autoreload\n",
    "%autoreload 2"
   ]
  },
  {
   "cell_type": "code",
   "execution_count": null,
   "metadata": {},
   "outputs": [],
   "source": [
    "from pathlib import Path\n",
    "\n",
    "import pandas as pd\n",
    "from fastai.tabular.all import *\n",
    "\n",
    "from bundestag import abgeordnetenwatch as aw\n",
    "from bundestag import html_parsing as hp\n",
    "from bundestag import poll_clustering as pc\n",
    "from bundestag import similarity as sim\n",
    "from bundestag import vote_prediction as vp\n",
    "from bundestag.gui import MdBGUI, PartyGUI"
   ]
  },
  {
   "cell_type": "markdown",
   "metadata": {},
   "source": [
    "### Part 1 - Party/Party similarities and Politician/Party similarities using bundestag.de data"
   ]
  },
  {
   "cell_type": "markdown",
   "metadata": {},
   "source": [
    "**Loading the data**\n",
    "\n",
    "If you have cloned the repo you should already have a `bundestag.de_votes.parquet` file in the root directory of the repo. If not feel free to download that file directly.\n",
    "\n",
    "If you want to have a closer look at the preprocessing please check out `nbs/00_html_parsing.ipynb`."
   ]
  },
  {
   "cell_type": "code",
   "execution_count": null,
   "metadata": {},
   "outputs": [],
   "source": [
    "df = pd.read_parquet(path=\"bundestag.de_votes.parquet\")\n",
    "df.head(3).T"
   ]
  },
  {
   "cell_type": "markdown",
   "metadata": {},
   "source": [
    "Votes by party"
   ]
  },
  {
   "cell_type": "code",
   "execution_count": null,
   "metadata": {},
   "outputs": [],
   "source": [
    "%%time\n",
    "party_votes = sim.get_votes_by_party(df)\n",
    "sim.test_party_votes(party_votes)"
   ]
  },
  {
   "cell_type": "markdown",
   "metadata": {},
   "source": [
    "Re-arranging `party_votes`"
   ]
  },
  {
   "cell_type": "code",
   "execution_count": null,
   "metadata": {},
   "outputs": [],
   "source": [
    "%%time\n",
    "party_votes_pivoted = sim.pivot_party_votes_df(party_votes)\n",
    "sim.test_party_votes_pivoted(party_votes_pivoted)\n",
    "party_votes_pivoted.head()"
   ]
  },
  {
   "cell_type": "markdown",
   "metadata": {},
   "source": [
    "**Similarity of a single politician with the parties**"
   ]
  },
  {
   "cell_type": "markdown",
   "metadata": {},
   "source": [
    "Collecting the politicians votes"
   ]
  },
  {
   "cell_type": "code",
   "execution_count": null,
   "metadata": {},
   "outputs": [],
   "source": [
    "%%time\n",
    "mdb = \"Peter Altmaier\"\n",
    "mdb_votes = sim.prepare_votes_of_mdb(df, mdb)\n",
    "sim.test_votes_of_mdb(mdb_votes)\n",
    "mdb_votes.head()"
   ]
  },
  {
   "cell_type": "markdown",
   "metadata": {},
   "source": [
    "Comparing the politician against the parties"
   ]
  },
  {
   "cell_type": "code",
   "execution_count": null,
   "metadata": {},
   "outputs": [],
   "source": [
    "%%time\n",
    "mdb_vs_parties = sim.align_mdb_with_parties(\n",
    "    mdb_votes, party_votes_pivoted\n",
    ").pipe(sim.compute_similarity, lsuffix=\"mdb\", rsuffix=\"party\")\n",
    "sim.test_mdb_vs_parties(mdb_vs_parties)\n",
    "mdb_vs_parties.head(3).T"
   ]
  },
  {
   "cell_type": "markdown",
   "metadata": {},
   "source": [
    "Plotting"
   ]
  },
  {
   "cell_type": "code",
   "execution_count": null,
   "metadata": {},
   "outputs": [],
   "source": [
    "sim.plot(\n",
    "    mdb_vs_parties,\n",
    "    title_overall=f\"Overall similarity of {mdb} with all parties\",\n",
    "    title_over_time=f\"{mdb} vs time\",\n",
    ")\n",
    "plt.tight_layout()\n",
    "plt.show()"
   ]
  },
  {
   "cell_type": "markdown",
   "metadata": {},
   "source": [
    "![mdb similarity](./README_files/mdb_similarity_vs_time.png)"
   ]
  },
  {
   "cell_type": "markdown",
   "metadata": {},
   "source": [
    "**Comparing one specific party against all others**"
   ]
  },
  {
   "cell_type": "markdown",
   "metadata": {},
   "source": [
    "Collecting party votes"
   ]
  },
  {
   "cell_type": "code",
   "execution_count": null,
   "metadata": {},
   "outputs": [],
   "source": [
    "%%time\n",
    "party = \"SPD\"\n",
    "partyA_vs_rest = sim.align_party_with_all_parties(\n",
    "    party_votes_pivoted, party\n",
    ").pipe(sim.compute_similarity, lsuffix=\"a\", rsuffix=\"b\")\n",
    "sim.test_partyA_vs_partyB(partyA_vs_rest)\n",
    "partyA_vs_rest.head(3).T"
   ]
  },
  {
   "cell_type": "markdown",
   "metadata": {},
   "source": [
    "Plotting"
   ]
  },
  {
   "cell_type": "code",
   "execution_count": null,
   "metadata": {},
   "outputs": [],
   "source": [
    "sim.plot(\n",
    "    partyA_vs_rest,\n",
    "    title_overall=f\"Overall similarity of {party} with all parties\",\n",
    "    title_over_time=f\"{party} vs time\",\n",
    "    party_col=\"Fraktion/Gruppe_b\",\n",
    ")\n",
    "plt.tight_layout()\n",
    "plt.show()"
   ]
  },
  {
   "cell_type": "markdown",
   "metadata": {},
   "source": [
    "![party similarity](./README_files/party_similarity_vs_time.png)"
   ]
  },
  {
   "cell_type": "markdown",
   "metadata": {},
   "source": [
    "**GUI to inspect similarities**\n",
    "\n",
    "To make the above exploration more interactive, the class `MdBGUI` and `PartyGUI` was implemented to quickly go through the different parties and politicians"
   ]
  },
  {
   "cell_type": "code",
   "execution_count": null,
   "metadata": {},
   "outputs": [],
   "source": [
    "mdb = MdBGUI(df)"
   ]
  },
  {
   "cell_type": "code",
   "execution_count": null,
   "metadata": {},
   "outputs": [],
   "source": [
    "mdb.render()"
   ]
  },
  {
   "cell_type": "code",
   "execution_count": null,
   "metadata": {},
   "outputs": [],
   "source": [
    "party = PartyGUI(df)"
   ]
  },
  {
   "cell_type": "code",
   "execution_count": null,
   "metadata": {},
   "outputs": [],
   "source": [
    "party.render()"
   ]
  },
  {
   "cell_type": "markdown",
   "metadata": {},
   "source": [
    "### Part 2 - predicting politician votes using abgeordnetenwatch data"
   ]
  },
  {
   "cell_type": "markdown",
   "metadata": {},
   "source": [
    "The data used below was processed using `nbs/03_abgeordnetenwatch.ipynb`."
   ]
  },
  {
   "cell_type": "code",
   "execution_count": null,
   "metadata": {},
   "outputs": [],
   "source": [
    "path = Path(\"./abgeordnetenwatch_data\")"
   ]
  },
  {
   "cell_type": "markdown",
   "metadata": {},
   "source": [
    "#### Clustering polls using Latent Dirichlet Allocation (LDA)"
   ]
  },
  {
   "cell_type": "code",
   "execution_count": null,
   "metadata": {},
   "outputs": [],
   "source": [
    "%%time\n",
    "source_col = \"poll_title\"\n",
    "nlp_col = f\"{source_col}_nlp_processed\"\n",
    "num_topics = 5  # number of topics / clusters to identify\n",
    "\n",
    "st = pc.SpacyTransformer()\n",
    "\n",
    "# load data and prepare text for modelling\n",
    "df_polls_lda = pd.read_parquet(path=path / \"df_polls.parquet\").assign(\n",
    "    **{nlp_col: lambda x: st.clean_text(x, col=source_col)}\n",
    ")\n",
    "\n",
    "# modelling clusters\n",
    "st.fit(df_polls_lda[nlp_col].values, mode=\"lda\", num_topics=num_topics)\n",
    "\n",
    "# creating text features using fitted model\n",
    "df_polls_lda, nlp_feature_cols = df_polls_lda.pipe(\n",
    "    st.transform, col=nlp_col, return_new_cols=True\n",
    ")\n",
    "\n",
    "# inspecting clusters\n",
    "display(df_polls_lda.head(3).T)"
   ]
  },
  {
   "cell_type": "code",
   "execution_count": null,
   "metadata": {},
   "outputs": [],
   "source": [
    "pc.pca_plot_lda_topics(df_polls_lda, st, source_col, nlp_feature_cols)"
   ]
  },
  {
   "cell_type": "markdown",
   "metadata": {},
   "source": [
    "#### Predicting votes"
   ]
  },
  {
   "cell_type": "markdown",
   "metadata": {},
   "source": [
    "Loading data"
   ]
  },
  {
   "cell_type": "code",
   "execution_count": null,
   "metadata": {},
   "outputs": [],
   "source": [
    "df_all_votes = pd.read_parquet(path=path / \"df_all_votes.parquet\")\n",
    "df_mandates = pd.read_parquet(path=path / \"df_mandates.parquet\")\n",
    "df_polls = pd.read_parquet(path=path / \"df_polls.parquet\")"
   ]
  },
  {
   "cell_type": "markdown",
   "metadata": {},
   "source": [
    "Splitting data set into training and validation set. Splitting randomly here because it leads to an interesting result, albeit not very realistic for production."
   ]
  },
  {
   "cell_type": "code",
   "execution_count": null,
   "metadata": {},
   "outputs": [],
   "source": [
    "splits = RandomSplitter(valid_pct=0.2)(df_all_votes)\n",
    "y_col = \"vote\""
   ]
  },
  {
   "cell_type": "markdown",
   "metadata": {},
   "source": [
    "Training a neural net to predict `vote` based on embeddings for `poll_id` and `politician name`"
   ]
  },
  {
   "cell_type": "code",
   "execution_count": null,
   "metadata": {},
   "outputs": [],
   "source": [
    "%%time\n",
    "to = TabularPandas(\n",
    "    df_all_votes,\n",
    "    cat_names=[\n",
    "        \"politician name\",\n",
    "        \"poll_id\",\n",
    "    ],  # columns in `df_all_votes` to treat as categorical\n",
    "    y_names=[y_col],  # column to use as a target for the model in `learn`\n",
    "    procs=[Categorify],  # processing of features\n",
    "    y_block=CategoryBlock,  # how to treat `y_names`, here as categories\n",
    "    splits=splits,\n",
    ")  # how to split the data\n",
    "\n",
    "dls = to.dataloaders(bs=512)\n",
    "learn = tabular_learner(\n",
    "    dls\n",
    ")  # fastai function to set up a neural net for tabular data\n",
    "lrs = learn.lr_find()  # searches the learning rate\n",
    "learn.fit_one_cycle(\n",
    "    5, lrs.valley\n",
    ")  # performs training using one-cycle hyperparameter schedule"
   ]
  },
  {
   "cell_type": "markdown",
   "metadata": {},
   "source": [
    "**Predictions over unseen data**"
   ]
  },
  {
   "cell_type": "markdown",
   "metadata": {},
   "source": [
    "Inspecting the predictions of the neural net over the validation set. "
   ]
  },
  {
   "cell_type": "code",
   "execution_count": null,
   "metadata": {},
   "outputs": [],
   "source": [
    "vp.plot_predictions(\n",
    "    learn, df_all_votes, df_mandates, df_polls, splits, n_worst_politicians=5\n",
    ")"
   ]
  },
  {
   "cell_type": "markdown",
   "metadata": {},
   "source": [
    "Splitting our dataset randomly leads to a surprisingly good accuracy of ~88% over the validation set. The most reasonable explanation is that the model encountered polls and how most politicians voted for them already during training. \n",
    "\n",
    "This can be interpreted as, if it is known how most politicians will vote during a poll, then the vote of the remaining politicians is highly predictable. Splitting the data set by `poll_id`, as can be done using `vp.poll_splitter` leads to random chance predictions. Anything else would be surprising as well since the only available information provided to the model is who is voting."
   ]
  },
  {
   "cell_type": "markdown",
   "metadata": {},
   "source": [
    "**Visualising learned embeddings**"
   ]
  },
  {
   "cell_type": "markdown",
   "metadata": {},
   "source": [
    "Besides the actual prediction it also is interesting to inspect what the model actually learned. This can sometimes lead to [surprises](https://github.com/entron/entity-embedding-rossmann).\n",
    "\n",
    "So let's look at the learned embeddings"
   ]
  },
  {
   "cell_type": "code",
   "execution_count": null,
   "metadata": {},
   "outputs": [],
   "source": [
    "embeddings = vp.get_embeddings(learn)"
   ]
  },
  {
   "cell_type": "markdown",
   "metadata": {},
   "source": [
    "To make sense of the embeddings for `poll_id` as well as `politician name` we apply Principal Component Analysis (so one still kind of understands what distances mean) and project down to 2d. \n",
    "\n",
    "Using the information which party was most strongly (% of their votes being \"yes\"), so its strongest proponent, we color code the individual polls."
   ]
  },
  {
   "cell_type": "code",
   "execution_count": null,
   "metadata": {},
   "outputs": [],
   "source": [
    "vp.plot_poll_embeddings(\n",
    "    df_all_votes, df_polls, embeddings, df_mandates=df_mandates\n",
    ")"
   ]
  },
  {
   "cell_type": "markdown",
   "metadata": {},
   "source": [
    "![poll embeddings](./README_files/poll_embeddings.png)"
   ]
  },
  {
   "cell_type": "markdown",
   "metadata": {},
   "source": [
    "The politician embeddings are color coded using the politician's party membership"
   ]
  },
  {
   "cell_type": "code",
   "execution_count": null,
   "metadata": {},
   "outputs": [],
   "source": [
    "vp.plot_politician_embeddings(df_all_votes, df_mandates, embeddings)"
   ]
  },
  {
   "cell_type": "markdown",
   "metadata": {},
   "source": [
    "![mandate embeddings](./README_files/mandate_embeddings.png)"
   ]
  },
  {
   "cell_type": "markdown",
   "metadata": {},
   "source": [
    "The politician embeddings may be the most surprising finding in its clarity. It seems we find for polls and politicians 2-3 clusters, but for politicians with a significant grouping of mandates associated with the government coalition. It seems we find one cluster for the government parties and one for the government opposition. "
   ]
  },
  {
   "cell_type": "markdown",
   "metadata": {},
   "source": [
    "## To dos / contributing\n",
    "\n",
    "Any contributions welcome. In the notebooks in `./nbs/` I've listed to dos here and there things which could be done.\n",
    "\n",
    "**General to dos**:\n",
    "- Check for discrepancies between bundestag.de and abgeordnetenwatch based data \n",
    "- Make the clustering of polls and policitians interactive\n",
    "- Extend the vote prediction model: currently, if the data is split by poll (which would be the realistic case when trying to predict votes of a new poll), the model is hardly better than chance. It would be interesting to see which information would help improve beyond chance.\n",
    "- Extend the data processed from the stored json responses from abgeordnetenwatch (currently only using the bare minimum)"
   ]
  },
  {
   "cell_type": "code",
   "execution_count": null,
   "metadata": {},
   "outputs": [],
   "source": []
  }
 ],
 "metadata": {
  "kernelspec": {
   "display_name": "Python 3 (ipykernel)",
   "language": "python",
   "name": "python3"
  },
  "language_info": {
   "codemirror_mode": {
    "name": "ipython",
    "version": 3
   },
   "file_extension": ".py",
   "mimetype": "text/x-python",
   "name": "python",
   "nbconvert_exporter": "python",
   "pygments_lexer": "ipython3",
   "version": "3.8.5"
  },
  "toc": {
   "base_numbering": 1,
   "nav_menu": {},
   "number_sections": true,
   "sideBar": true,
   "skip_h1_title": false,
   "title_cell": "Table of Contents",
   "title_sidebar": "Contents",
   "toc_cell": false,
   "toc_position": {},
   "toc_section_display": true,
   "toc_window_display": false
  }
 },
 "nbformat": 4,
 "nbformat_minor": 4
}
