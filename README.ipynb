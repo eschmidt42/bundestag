{
 "cells": [
  {
   "cell_type": "markdown",
   "metadata": {},
   "source": [
    "# \"Namentliche Abstimmungen\"  in the Bundestag\n",
    "\n",
    "> Parse and inspect \"Namentliche Abstimmungen\" (roll call votes) in the Bundestag (the federal German parliament)"
   ]
  },
  {
   "cell_type": "markdown",
   "metadata": {},
   "source": [
    "[![Binder](https://mybinder.org/badge_logo.svg)](https://mybinder.org/v2/gh/eschmidt42/bundestag/HEAD)"
   ]
  },
  {
   "cell_type": "markdown",
   "metadata": {},
   "source": [
    "## Context"
   ]
  },
  {
   "cell_type": "markdown",
   "metadata": {},
   "source": [
    "The German Parliament is so friendly to put all votes of all members into readable XLSX / XLS files (and PDFs ¯\\\\\\_(ツ)\\_/¯ ). Those files  can be found here: https://www.bundestag.de/parlament/plenum/abstimmung/liste. \n",
    "\n",
    "Furthermore, the organisation [abgeordnetenwatch](https://www.abgeordnetenwatch.de/) offers a great platform to get to know the individual politicians and their behavior as well as an [open API](https://www.abgeordnetenwatch.de/api) to request data."
   ]
  },
  {
   "cell_type": "markdown",
   "metadata": {},
   "source": [
    "## Purpose of this repo"
   ]
  },
  {
   "cell_type": "markdown",
   "metadata": {},
   "source": [
    "The purpose of this repo is to help collect roll call votes from the parliament's site directly or via abgeordnetenwatch's API and make them available for analysis / modelling. This may be particularly interesting for the upcoming election in 2021. E.g., if you want to see what your local member of the parliament has been up to in terms of public roll call votes relative to the parties, or how individual parties agree in their votes, this dataset may be interesting for you. \n",
    "\n",
    "Since the files on the bundestag website are stored in a way making it tricky to automatically crawl them, a bit of manual work is required to generate that dataset. But don't fret! Quite a few recent roll call votes (as of the publishing of this repo) are already prepared for you. But if older or more recent roll call votes are missing, convenience tools to reduce your manual effort are demonstrated below. An alternative route to get the same and more data (on politicians and local parliaments as well) is via the abgeordnetenwatch route.\n",
    "\n",
    "For your inspiration, I have also included an analysis on how similar parties voted / how similar to parties individual MdBs votes and a small machine learning model which predicts the individual votes of parliament. Teaser: the \"fraktionsszwang\" seems to exist but is not absolute and the data shows 😁."
   ]
  },
  {
   "cell_type": "markdown",
   "metadata": {},
   "source": [
    "## How to install"
   ]
  },
  {
   "cell_type": "markdown",
   "metadata": {},
   "source": [
    "`pip install bundestag`"
   ]
  },
  {
   "cell_type": "markdown",
   "metadata": {},
   "source": [
    "## How to use"
   ]
  },
  {
   "cell_type": "markdown",
   "metadata": {},
   "source": [
    "For detailed explanations see:\n",
    "- parse data from bundestag.de $\\rightarrow$ `nbs/00_html_parsing.ipynb`\n",
    "- parse data from abgeordnetenwatch $\\rightarrow$ `nbs/03_abgeordnetenwatch.ipynb`\n",
    "- analyze party / abgeordneten similarity $\\rightarrow$ `nbs/01_similarities.ipynb`\n",
    "- cluster polls $\\rightarrow$ `nbs/04_poll_clustering.ipynb`\n",
    "- predict politician votes $\\rightarrow$ `nbs/05_predicting_votes.ipynb`\n",
    "\n",
    "For a short overview of the highlights see below."
   ]
  },
  {
   "cell_type": "markdown",
   "metadata": {},
   "source": [
    "### Setup"
   ]
  },
  {
   "cell_type": "code",
   "execution_count": 1,
   "metadata": {},
   "outputs": [],
   "source": [
    "%load_ext autoreload\n",
    "%autoreload 2"
   ]
  },
  {
   "cell_type": "code",
   "execution_count": null,
   "metadata": {},
   "outputs": [],
   "source": [
    "from bundestag import html_parsing as hp\n",
    "from bundestag import similarity as sim\n",
    "from bundestag.gui import GUI\n",
    "from bundestag import abgeordnetenwatch as aw\n",
    "from bundestag import poll_clustering as pc\n",
    "from bundestag import vote_prediction as vp\n",
    "\n",
    "from pathlib import Path\n",
    "import pandas as pd\n",
    "from fastai.tabular.all import *"
   ]
  },
  {
   "cell_type": "markdown",
   "metadata": {
    "heading_collapsed": true
   },
   "source": [
    "### Part 1 - Party/Party similarities and Politician/Party similarities using bundestag.de data"
   ]
  },
  {
   "cell_type": "markdown",
   "metadata": {
    "hidden": true
   },
   "source": [
    "**Loading the data**\n",
    "\n",
    "If you have cloned the repo you should already have a `roll_call_votes.parquet` file in the root directory of the repo. If not feel free to download the `roll_call_votes.parquet` file directly.\n",
    "\n",
    "If you want to have a closer look at the preprocessing please check out `nbs/00_html_parsing.ipynb`."
   ]
  },
  {
   "cell_type": "code",
   "execution_count": 3,
   "metadata": {
    "hidden": true
   },
   "outputs": [
    {
     "data": {
      "text/html": [
       "<div>\n",
       "<style scoped>\n",
       "    .dataframe tbody tr th:only-of-type {\n",
       "        vertical-align: middle;\n",
       "    }\n",
       "\n",
       "    .dataframe tbody tr th {\n",
       "        vertical-align: top;\n",
       "    }\n",
       "\n",
       "    .dataframe thead th {\n",
       "        text-align: right;\n",
       "    }\n",
       "</style>\n",
       "<table border=\"1\" class=\"dataframe\">\n",
       "  <thead>\n",
       "    <tr style=\"text-align: right;\">\n",
       "      <th></th>\n",
       "      <th>0</th>\n",
       "      <th>1</th>\n",
       "      <th>2</th>\n",
       "    </tr>\n",
       "  </thead>\n",
       "  <tbody>\n",
       "    <tr>\n",
       "      <th>Wahlperiode</th>\n",
       "      <td>17</td>\n",
       "      <td>17</td>\n",
       "      <td>17</td>\n",
       "    </tr>\n",
       "    <tr>\n",
       "      <th>Sitzungnr</th>\n",
       "      <td>198</td>\n",
       "      <td>198</td>\n",
       "      <td>198</td>\n",
       "    </tr>\n",
       "    <tr>\n",
       "      <th>Abstimmnr</th>\n",
       "      <td>1</td>\n",
       "      <td>1</td>\n",
       "      <td>1</td>\n",
       "    </tr>\n",
       "    <tr>\n",
       "      <th>Fraktion/Gruppe</th>\n",
       "      <td>CDU/CSU</td>\n",
       "      <td>CDU/CSU</td>\n",
       "      <td>CDU/CSU</td>\n",
       "    </tr>\n",
       "    <tr>\n",
       "      <th>Name</th>\n",
       "      <td>Aigner</td>\n",
       "      <td>Altmaier</td>\n",
       "      <td>Aumer</td>\n",
       "    </tr>\n",
       "    <tr>\n",
       "      <th>Vorname</th>\n",
       "      <td>Ilse</td>\n",
       "      <td>Peter</td>\n",
       "      <td>Peter</td>\n",
       "    </tr>\n",
       "    <tr>\n",
       "      <th>Titel</th>\n",
       "      <td>nan</td>\n",
       "      <td>nan</td>\n",
       "      <td>nan</td>\n",
       "    </tr>\n",
       "    <tr>\n",
       "      <th>Bezeichnung</th>\n",
       "      <td>Ilse Aigner</td>\n",
       "      <td>Peter Altmaier</td>\n",
       "      <td>Peter Aumer</td>\n",
       "    </tr>\n",
       "    <tr>\n",
       "      <th>sheet_name</th>\n",
       "      <td>T_Export</td>\n",
       "      <td>T_Export</td>\n",
       "      <td>T_Export</td>\n",
       "    </tr>\n",
       "    <tr>\n",
       "      <th>date</th>\n",
       "      <td>2012-10-18 00:00:00</td>\n",
       "      <td>2012-10-18 00:00:00</td>\n",
       "      <td>2012-10-18 00:00:00</td>\n",
       "    </tr>\n",
       "    <tr>\n",
       "      <th>title</th>\n",
       "      <td>Gesetzentwurf 17/9852 und 17/11053 (8. Änderung des Gesetzes gegen Wettbewerbsbeschränkungen)</td>\n",
       "      <td>Gesetzentwurf 17/9852 und 17/11053 (8. Änderung des Gesetzes gegen Wettbewerbsbeschränkungen)</td>\n",
       "      <td>Gesetzentwurf 17/9852 und 17/11053 (8. Änderung des Gesetzes gegen Wettbewerbsbeschränkungen)</td>\n",
       "    </tr>\n",
       "    <tr>\n",
       "      <th>issue</th>\n",
       "      <td>2012-10-18  Gesetzentwurf 17/9852 und 17/11053 (8. Änderung des Gesetzes gegen Wettbewerbsbeschränkungen)</td>\n",
       "      <td>2012-10-18  Gesetzentwurf 17/9852 und 17/11053 (8. Änderung des Gesetzes gegen Wettbewerbsbeschränkungen)</td>\n",
       "      <td>2012-10-18  Gesetzentwurf 17/9852 und 17/11053 (8. Änderung des Gesetzes gegen Wettbewerbsbeschränkungen)</td>\n",
       "    </tr>\n",
       "    <tr>\n",
       "      <th>vote</th>\n",
       "      <td>ja</td>\n",
       "      <td>nichtabgegeben</td>\n",
       "      <td>ja</td>\n",
       "    </tr>\n",
       "    <tr>\n",
       "      <th>AbgNr</th>\n",
       "      <td>NaN</td>\n",
       "      <td>NaN</td>\n",
       "      <td>NaN</td>\n",
       "    </tr>\n",
       "    <tr>\n",
       "      <th>Bemerkung</th>\n",
       "      <td>None</td>\n",
       "      <td>None</td>\n",
       "      <td>None</td>\n",
       "    </tr>\n",
       "  </tbody>\n",
       "</table>\n",
       "</div>"
      ],
      "text/plain": [
       "                                                                                                                         0  \\\n",
       "Wahlperiode                                                                                                             17   \n",
       "Sitzungnr                                                                                                              198   \n",
       "Abstimmnr                                                                                                                1   \n",
       "Fraktion/Gruppe                                                                                                    CDU/CSU   \n",
       "Name                                                                                                                Aigner   \n",
       "Vorname                                                                                                               Ilse   \n",
       "Titel                                                                                                                  nan   \n",
       "Bezeichnung                                                                                                    Ilse Aigner   \n",
       "sheet_name                                                                                                        T_Export   \n",
       "date                                                                                                   2012-10-18 00:00:00   \n",
       "title                        Gesetzentwurf 17/9852 und 17/11053 (8. Änderung des Gesetzes gegen Wettbewerbsbeschränkungen)   \n",
       "issue            2012-10-18  Gesetzentwurf 17/9852 und 17/11053 (8. Änderung des Gesetzes gegen Wettbewerbsbeschränkungen)   \n",
       "vote                                                                                                                    ja   \n",
       "AbgNr                                                                                                                  NaN   \n",
       "Bemerkung                                                                                                             None   \n",
       "\n",
       "                                                                                                                         1  \\\n",
       "Wahlperiode                                                                                                             17   \n",
       "Sitzungnr                                                                                                              198   \n",
       "Abstimmnr                                                                                                                1   \n",
       "Fraktion/Gruppe                                                                                                    CDU/CSU   \n",
       "Name                                                                                                              Altmaier   \n",
       "Vorname                                                                                                              Peter   \n",
       "Titel                                                                                                                  nan   \n",
       "Bezeichnung                                                                                                 Peter Altmaier   \n",
       "sheet_name                                                                                                        T_Export   \n",
       "date                                                                                                   2012-10-18 00:00:00   \n",
       "title                        Gesetzentwurf 17/9852 und 17/11053 (8. Änderung des Gesetzes gegen Wettbewerbsbeschränkungen)   \n",
       "issue            2012-10-18  Gesetzentwurf 17/9852 und 17/11053 (8. Änderung des Gesetzes gegen Wettbewerbsbeschränkungen)   \n",
       "vote                                                                                                        nichtabgegeben   \n",
       "AbgNr                                                                                                                  NaN   \n",
       "Bemerkung                                                                                                             None   \n",
       "\n",
       "                                                                                                                         2  \n",
       "Wahlperiode                                                                                                             17  \n",
       "Sitzungnr                                                                                                              198  \n",
       "Abstimmnr                                                                                                                1  \n",
       "Fraktion/Gruppe                                                                                                    CDU/CSU  \n",
       "Name                                                                                                                 Aumer  \n",
       "Vorname                                                                                                              Peter  \n",
       "Titel                                                                                                                  nan  \n",
       "Bezeichnung                                                                                                    Peter Aumer  \n",
       "sheet_name                                                                                                        T_Export  \n",
       "date                                                                                                   2012-10-18 00:00:00  \n",
       "title                        Gesetzentwurf 17/9852 und 17/11053 (8. Änderung des Gesetzes gegen Wettbewerbsbeschränkungen)  \n",
       "issue            2012-10-18  Gesetzentwurf 17/9852 und 17/11053 (8. Änderung des Gesetzes gegen Wettbewerbsbeschränkungen)  \n",
       "vote                                                                                                                    ja  \n",
       "AbgNr                                                                                                                  NaN  \n",
       "Bemerkung                                                                                                             None  "
      ]
     },
     "execution_count": 3,
     "metadata": {},
     "output_type": "execute_result"
    }
   ],
   "source": [
    "df = pd.read_parquet(path='roll_call_votes.parquet')\n",
    "df.head(3).T"
   ]
  },
  {
   "cell_type": "markdown",
   "metadata": {
    "hidden": true
   },
   "source": [
    "#### Counting party votes"
   ]
  },
  {
   "cell_type": "code",
   "execution_count": 4,
   "metadata": {
    "hidden": true
   },
   "outputs": [
    {
     "data": {
      "text/html": [
       "<div>\n",
       "<style scoped>\n",
       "    .dataframe tbody tr th:only-of-type {\n",
       "        vertical-align: middle;\n",
       "    }\n",
       "\n",
       "    .dataframe tbody tr th {\n",
       "        vertical-align: top;\n",
       "    }\n",
       "\n",
       "    .dataframe thead th {\n",
       "        text-align: right;\n",
       "    }\n",
       "</style>\n",
       "<table border=\"1\" class=\"dataframe\">\n",
       "  <thead>\n",
       "    <tr style=\"text-align: right;\">\n",
       "      <th></th>\n",
       "      <th></th>\n",
       "      <th>vote</th>\n",
       "      <th>Enthaltung</th>\n",
       "      <th>ja</th>\n",
       "      <th>nein</th>\n",
       "      <th>nichtabgegeben</th>\n",
       "      <th>ungültig</th>\n",
       "    </tr>\n",
       "    <tr>\n",
       "      <th>Fraktion/Gruppe</th>\n",
       "      <th>date</th>\n",
       "      <th>title</th>\n",
       "      <th></th>\n",
       "      <th></th>\n",
       "      <th></th>\n",
       "      <th></th>\n",
       "      <th></th>\n",
       "    </tr>\n",
       "  </thead>\n",
       "  <tbody>\n",
       "    <tr>\n",
       "      <th rowspan=\"5\" valign=\"top\">AfD</th>\n",
       "      <th rowspan=\"5\" valign=\"top\">2017-12-12</th>\n",
       "      <th>Bundeswehreinsatz gegen die Terrororganisation IS</th>\n",
       "      <td>0.000000</td>\n",
       "      <td>0.000000</td>\n",
       "      <td>0.967391</td>\n",
       "      <td>0.032609</td>\n",
       "      <td>0.0</td>\n",
       "    </tr>\n",
       "    <tr>\n",
       "      <th>Bundeswehreinsatz im Irak</th>\n",
       "      <td>0.000000</td>\n",
       "      <td>0.000000</td>\n",
       "      <td>0.978261</td>\n",
       "      <td>0.021739</td>\n",
       "      <td>0.0</td>\n",
       "    </tr>\n",
       "    <tr>\n",
       "      <th>Bundeswehreinsatz im Mittelmeer (SEA GUARDIAN)</th>\n",
       "      <td>0.021739</td>\n",
       "      <td>0.913043</td>\n",
       "      <td>0.021739</td>\n",
       "      <td>0.043478</td>\n",
       "      <td>0.0</td>\n",
       "    </tr>\n",
       "    <tr>\n",
       "      <th>Bundeswehreinsatz in Afghanistan (Resolute Support)</th>\n",
       "      <td>0.010870</td>\n",
       "      <td>0.000000</td>\n",
       "      <td>0.956522</td>\n",
       "      <td>0.032609</td>\n",
       "      <td>0.0</td>\n",
       "    </tr>\n",
       "    <tr>\n",
       "      <th>Bundeswehreinsatz in Mali (MINUSMA)</th>\n",
       "      <td>0.000000</td>\n",
       "      <td>0.000000</td>\n",
       "      <td>0.967391</td>\n",
       "      <td>0.032609</td>\n",
       "      <td>0.0</td>\n",
       "    </tr>\n",
       "  </tbody>\n",
       "</table>\n",
       "</div>"
      ],
      "text/plain": [
       "vote                                                                             Enthaltung  \\\n",
       "Fraktion/Gruppe date       title                                                              \n",
       "AfD             2017-12-12  Bundeswehreinsatz gegen die Terrororganisation IS      0.000000   \n",
       "                            Bundeswehreinsatz im Irak                              0.000000   \n",
       "                            Bundeswehreinsatz im Mittelmeer (SEA GUARDIAN)         0.021739   \n",
       "                            Bundeswehreinsatz in Afghanistan (Resolute Support)    0.010870   \n",
       "                            Bundeswehreinsatz in Mali (MINUSMA)                    0.000000   \n",
       "\n",
       "vote                                                                                   ja  \\\n",
       "Fraktion/Gruppe date       title                                                            \n",
       "AfD             2017-12-12  Bundeswehreinsatz gegen die Terrororganisation IS    0.000000   \n",
       "                            Bundeswehreinsatz im Irak                            0.000000   \n",
       "                            Bundeswehreinsatz im Mittelmeer (SEA GUARDIAN)       0.913043   \n",
       "                            Bundeswehreinsatz in Afghanistan (Resolute Support)  0.000000   \n",
       "                            Bundeswehreinsatz in Mali (MINUSMA)                  0.000000   \n",
       "\n",
       "vote                                                                                 nein  \\\n",
       "Fraktion/Gruppe date       title                                                            \n",
       "AfD             2017-12-12  Bundeswehreinsatz gegen die Terrororganisation IS    0.967391   \n",
       "                            Bundeswehreinsatz im Irak                            0.978261   \n",
       "                            Bundeswehreinsatz im Mittelmeer (SEA GUARDIAN)       0.021739   \n",
       "                            Bundeswehreinsatz in Afghanistan (Resolute Support)  0.956522   \n",
       "                            Bundeswehreinsatz in Mali (MINUSMA)                  0.967391   \n",
       "\n",
       "vote                                                                             nichtabgegeben  \\\n",
       "Fraktion/Gruppe date       title                                                                  \n",
       "AfD             2017-12-12  Bundeswehreinsatz gegen die Terrororganisation IS          0.032609   \n",
       "                            Bundeswehreinsatz im Irak                                  0.021739   \n",
       "                            Bundeswehreinsatz im Mittelmeer (SEA GUARDIAN)             0.043478   \n",
       "                            Bundeswehreinsatz in Afghanistan (Resolute Support)        0.032609   \n",
       "                            Bundeswehreinsatz in Mali (MINUSMA)                        0.032609   \n",
       "\n",
       "vote                                                                             ungültig  \n",
       "Fraktion/Gruppe date       title                                                           \n",
       "AfD             2017-12-12  Bundeswehreinsatz gegen die Terrororganisation IS         0.0  \n",
       "                            Bundeswehreinsatz im Irak                                 0.0  \n",
       "                            Bundeswehreinsatz im Mittelmeer (SEA GUARDIAN)            0.0  \n",
       "                            Bundeswehreinsatz in Afghanistan (Resolute Support)       0.0  \n",
       "                            Bundeswehreinsatz in Mali (MINUSMA)                       0.0  "
      ]
     },
     "execution_count": 4,
     "metadata": {},
     "output_type": "execute_result"
    }
   ],
   "source": [
    "party_votes, _ = sim.get_votes_by_party(df)\n",
    "party_votes.head()"
   ]
  },
  {
   "cell_type": "markdown",
   "metadata": {
    "hidden": true
   },
   "source": [
    "#### Visualizing similarities of `party` with all other parties over time"
   ]
  },
  {
   "cell_type": "code",
   "execution_count": 5,
   "metadata": {
    "hidden": true
   },
   "outputs": [
    {
     "name": "stdout",
     "output_type": "stream",
     "text": [
      "CPU times: user 89.9 ms, sys: 0 ns, total: 89.9 ms\n",
      "Wall time: 87.8 ms\n"
     ]
    },
    {
     "data": {
      "text/html": [
       "<div>\n",
       "<style scoped>\n",
       "    .dataframe tbody tr th:only-of-type {\n",
       "        vertical-align: middle;\n",
       "    }\n",
       "\n",
       "    .dataframe tbody tr th {\n",
       "        vertical-align: top;\n",
       "    }\n",
       "\n",
       "    .dataframe thead th {\n",
       "        text-align: right;\n",
       "    }\n",
       "</style>\n",
       "<table border=\"1\" class=\"dataframe\">\n",
       "  <thead>\n",
       "    <tr style=\"text-align: right;\">\n",
       "      <th></th>\n",
       "      <th>273</th>\n",
       "      <th>274</th>\n",
       "      <th>275</th>\n",
       "    </tr>\n",
       "    <tr>\n",
       "      <th>vote</th>\n",
       "      <th></th>\n",
       "      <th></th>\n",
       "      <th></th>\n",
       "    </tr>\n",
       "  </thead>\n",
       "  <tbody>\n",
       "    <tr>\n",
       "      <th>date</th>\n",
       "      <td>2017-12-12 00:00:00</td>\n",
       "      <td>2017-12-12 00:00:00</td>\n",
       "      <td>2017-12-12 00:00:00</td>\n",
       "    </tr>\n",
       "    <tr>\n",
       "      <th>title</th>\n",
       "      <td>Bundeswehreinsatz gegen die Terrororganisation IS</td>\n",
       "      <td>Bundeswehreinsatz im Irak</td>\n",
       "      <td>Bundeswehreinsatz im Mittelmeer (SEA GUARDIAN)</td>\n",
       "    </tr>\n",
       "    <tr>\n",
       "      <th>Fraktion/Gruppe_a</th>\n",
       "      <td>SPD</td>\n",
       "      <td>SPD</td>\n",
       "      <td>SPD</td>\n",
       "    </tr>\n",
       "    <tr>\n",
       "      <th>Enthaltung_a</th>\n",
       "      <td>0.013072</td>\n",
       "      <td>0.013072</td>\n",
       "      <td>0.006536</td>\n",
       "    </tr>\n",
       "    <tr>\n",
       "      <th>ja_a</th>\n",
       "      <td>0.810458</td>\n",
       "      <td>0.843137</td>\n",
       "      <td>0.869281</td>\n",
       "    </tr>\n",
       "    <tr>\n",
       "      <th>nein_a</th>\n",
       "      <td>0.098039</td>\n",
       "      <td>0.065359</td>\n",
       "      <td>0.039216</td>\n",
       "    </tr>\n",
       "    <tr>\n",
       "      <th>nichtabgegeben_a</th>\n",
       "      <td>0.078431</td>\n",
       "      <td>0.078431</td>\n",
       "      <td>0.084967</td>\n",
       "    </tr>\n",
       "    <tr>\n",
       "      <th>ungültig_a</th>\n",
       "      <td>0.0</td>\n",
       "      <td>0.0</td>\n",
       "      <td>0.0</td>\n",
       "    </tr>\n",
       "    <tr>\n",
       "      <th>Fraktion/Gruppe_b</th>\n",
       "      <td>AfD</td>\n",
       "      <td>AfD</td>\n",
       "      <td>AfD</td>\n",
       "    </tr>\n",
       "    <tr>\n",
       "      <th>Enthaltung_b</th>\n",
       "      <td>0.0</td>\n",
       "      <td>0.0</td>\n",
       "      <td>0.021739</td>\n",
       "    </tr>\n",
       "    <tr>\n",
       "      <th>ja_b</th>\n",
       "      <td>0.0</td>\n",
       "      <td>0.0</td>\n",
       "      <td>0.913043</td>\n",
       "    </tr>\n",
       "    <tr>\n",
       "      <th>nein_b</th>\n",
       "      <td>0.967391</td>\n",
       "      <td>0.978261</td>\n",
       "      <td>0.021739</td>\n",
       "    </tr>\n",
       "    <tr>\n",
       "      <th>nichtabgegeben_b</th>\n",
       "      <td>0.032609</td>\n",
       "      <td>0.021739</td>\n",
       "      <td>0.043478</td>\n",
       "    </tr>\n",
       "    <tr>\n",
       "      <th>ungültig_b</th>\n",
       "      <td>0.0</td>\n",
       "      <td>0.0</td>\n",
       "      <td>0.0</td>\n",
       "    </tr>\n",
       "    <tr>\n",
       "      <th>similarity</th>\n",
       "      <td>0.12268</td>\n",
       "      <td>0.078981</td>\n",
       "      <td>0.998405</td>\n",
       "    </tr>\n",
       "  </tbody>\n",
       "</table>\n",
       "</div>"
      ],
      "text/plain": [
       "                                                                  273  \\\n",
       "vote                                                                    \n",
       "date                                              2017-12-12 00:00:00   \n",
       "title               Bundeswehreinsatz gegen die Terrororganisation IS   \n",
       "Fraktion/Gruppe_a                                                 SPD   \n",
       "Enthaltung_a                                                 0.013072   \n",
       "ja_a                                                         0.810458   \n",
       "nein_a                                                       0.098039   \n",
       "nichtabgegeben_a                                             0.078431   \n",
       "ungültig_a                                                        0.0   \n",
       "Fraktion/Gruppe_b                                                 AfD   \n",
       "Enthaltung_b                                                      0.0   \n",
       "ja_b                                                              0.0   \n",
       "nein_b                                                       0.967391   \n",
       "nichtabgegeben_b                                             0.032609   \n",
       "ungültig_b                                                        0.0   \n",
       "similarity                                                    0.12268   \n",
       "\n",
       "                                          274  \\\n",
       "vote                                            \n",
       "date                      2017-12-12 00:00:00   \n",
       "title               Bundeswehreinsatz im Irak   \n",
       "Fraktion/Gruppe_a                         SPD   \n",
       "Enthaltung_a                         0.013072   \n",
       "ja_a                                 0.843137   \n",
       "nein_a                               0.065359   \n",
       "nichtabgegeben_a                     0.078431   \n",
       "ungültig_a                                0.0   \n",
       "Fraktion/Gruppe_b                         AfD   \n",
       "Enthaltung_b                              0.0   \n",
       "ja_b                                      0.0   \n",
       "nein_b                               0.978261   \n",
       "nichtabgegeben_b                     0.021739   \n",
       "ungültig_b                                0.0   \n",
       "similarity                           0.078981   \n",
       "\n",
       "                                                               275  \n",
       "vote                                                                \n",
       "date                                           2017-12-12 00:00:00  \n",
       "title               Bundeswehreinsatz im Mittelmeer (SEA GUARDIAN)  \n",
       "Fraktion/Gruppe_a                                              SPD  \n",
       "Enthaltung_a                                              0.006536  \n",
       "ja_a                                                      0.869281  \n",
       "nein_a                                                    0.039216  \n",
       "nichtabgegeben_a                                          0.084967  \n",
       "ungültig_a                                                     0.0  \n",
       "Fraktion/Gruppe_b                                              AfD  \n",
       "Enthaltung_b                                              0.021739  \n",
       "ja_b                                                      0.913043  \n",
       "nein_b                                                    0.021739  \n",
       "nichtabgegeben_b                                          0.043478  \n",
       "ungültig_b                                                     0.0  \n",
       "similarity                                                0.998405  "
      ]
     },
     "execution_count": 5,
     "metadata": {},
     "output_type": "execute_result"
    }
   ],
   "source": [
    "%%time\n",
    "party = 'SPD'\n",
    "similarity_party_party = (sim.align_party_with_all_parties(party_votes, party)\n",
    "                          .pipe(sim.compute_similarity, lsuffix='a', rsuffix='b'))\n",
    "similarity_party_party.head(3).T"
   ]
  },
  {
   "cell_type": "markdown",
   "metadata": {},
   "source": [
    "Visualize as a time series"
   ]
  },
  {
   "cell_type": "code",
   "execution_count": null,
   "metadata": {
    "hidden": true,
    "scrolled": false
   },
   "outputs": [],
   "source": [
    "sim.plot_similarity_over_time(similarity_party_party, \n",
    "                              'Fraktion/Gruppe_b',\n",
    "                              title=f'{party} vs time')"
   ]
  },
  {
   "cell_type": "markdown",
   "metadata": {},
   "source": [
    "![party similarity](./README_files/party_similarity_vs_time.png)"
   ]
  },
  {
   "cell_type": "markdown",
   "metadata": {
    "hidden": true
   },
   "source": [
    "Politicians (MdB = Mitglied des Bundestages $\\rightarrow$ `mdb`) can also be compared agains party votes"
   ]
  },
  {
   "cell_type": "code",
   "execution_count": 6,
   "metadata": {},
   "outputs": [
    {
     "name": "stdout",
     "output_type": "stream",
     "text": [
      "CPU times: user 111 ms, sys: 19.2 ms, total: 130 ms\n",
      "Wall time: 129 ms\n"
     ]
    },
    {
     "data": {
      "text/html": [
       "<div>\n",
       "<style scoped>\n",
       "    .dataframe tbody tr th:only-of-type {\n",
       "        vertical-align: middle;\n",
       "    }\n",
       "\n",
       "    .dataframe tbody tr th {\n",
       "        vertical-align: top;\n",
       "    }\n",
       "\n",
       "    .dataframe thead th {\n",
       "        text-align: right;\n",
       "    }\n",
       "</style>\n",
       "<table border=\"1\" class=\"dataframe\">\n",
       "  <thead>\n",
       "    <tr style=\"text-align: right;\">\n",
       "      <th></th>\n",
       "      <th>1</th>\n",
       "      <th>1</th>\n",
       "      <th>1</th>\n",
       "    </tr>\n",
       "  </thead>\n",
       "  <tbody>\n",
       "    <tr>\n",
       "      <th>date</th>\n",
       "      <td>2012-10-18 00:00:00</td>\n",
       "      <td>2012-10-18 00:00:00</td>\n",
       "      <td>2012-10-18 00:00:00</td>\n",
       "    </tr>\n",
       "    <tr>\n",
       "      <th>title</th>\n",
       "      <td>Gesetzentwurf 17/9852 und 17/11053 (8. Änderung des Gesetzes gegen Wettbewerbsbeschränkungen)</td>\n",
       "      <td>Gesetzentwurf 17/9852 und 17/11053 (8. Änderung des Gesetzes gegen Wettbewerbsbeschränkungen)</td>\n",
       "      <td>Gesetzentwurf 17/9852 und 17/11053 (8. Änderung des Gesetzes gegen Wettbewerbsbeschränkungen)</td>\n",
       "    </tr>\n",
       "    <tr>\n",
       "      <th>ja_mdb</th>\n",
       "      <td>0</td>\n",
       "      <td>0</td>\n",
       "      <td>0</td>\n",
       "    </tr>\n",
       "    <tr>\n",
       "      <th>nein_mdb</th>\n",
       "      <td>0</td>\n",
       "      <td>0</td>\n",
       "      <td>0</td>\n",
       "    </tr>\n",
       "    <tr>\n",
       "      <th>Enthaltung_mdb</th>\n",
       "      <td>0</td>\n",
       "      <td>0</td>\n",
       "      <td>0</td>\n",
       "    </tr>\n",
       "    <tr>\n",
       "      <th>ungültig_mdb</th>\n",
       "      <td>0</td>\n",
       "      <td>0</td>\n",
       "      <td>0</td>\n",
       "    </tr>\n",
       "    <tr>\n",
       "      <th>nichtabgegeben_mdb</th>\n",
       "      <td>1</td>\n",
       "      <td>1</td>\n",
       "      <td>1</td>\n",
       "    </tr>\n",
       "    <tr>\n",
       "      <th>Fraktion/Gruppe</th>\n",
       "      <td>BÜ90/GR</td>\n",
       "      <td>CDU/CSU</td>\n",
       "      <td>DIE LINKE.</td>\n",
       "    </tr>\n",
       "    <tr>\n",
       "      <th>Enthaltung_party</th>\n",
       "      <td>0.0</td>\n",
       "      <td>0.0</td>\n",
       "      <td>0.0</td>\n",
       "    </tr>\n",
       "    <tr>\n",
       "      <th>ja_party</th>\n",
       "      <td>0.0</td>\n",
       "      <td>0.915612</td>\n",
       "      <td>0.0</td>\n",
       "    </tr>\n",
       "    <tr>\n",
       "      <th>nein_party</th>\n",
       "      <td>0.867647</td>\n",
       "      <td>0.0</td>\n",
       "      <td>0.789474</td>\n",
       "    </tr>\n",
       "    <tr>\n",
       "      <th>nichtabgegeben_party</th>\n",
       "      <td>0.132353</td>\n",
       "      <td>0.084388</td>\n",
       "      <td>0.210526</td>\n",
       "    </tr>\n",
       "    <tr>\n",
       "      <th>ungültig_party</th>\n",
       "      <td>0.0</td>\n",
       "      <td>0.0</td>\n",
       "      <td>0.0</td>\n",
       "    </tr>\n",
       "    <tr>\n",
       "      <th>similarity</th>\n",
       "      <td>0.150798</td>\n",
       "      <td>0.091777</td>\n",
       "      <td>0.257663</td>\n",
       "    </tr>\n",
       "  </tbody>\n",
       "</table>\n",
       "</div>"
      ],
      "text/plain": [
       "                                                                                                                   1  \\\n",
       "date                                                                                             2012-10-18 00:00:00   \n",
       "title                  Gesetzentwurf 17/9852 und 17/11053 (8. Änderung des Gesetzes gegen Wettbewerbsbeschränkungen)   \n",
       "ja_mdb                                                                                                             0   \n",
       "nein_mdb                                                                                                           0   \n",
       "Enthaltung_mdb                                                                                                     0   \n",
       "ungültig_mdb                                                                                                       0   \n",
       "nichtabgegeben_mdb                                                                                                 1   \n",
       "Fraktion/Gruppe                                                                                              BÜ90/GR   \n",
       "Enthaltung_party                                                                                                 0.0   \n",
       "ja_party                                                                                                         0.0   \n",
       "nein_party                                                                                                  0.867647   \n",
       "nichtabgegeben_party                                                                                        0.132353   \n",
       "ungültig_party                                                                                                   0.0   \n",
       "similarity                                                                                                  0.150798   \n",
       "\n",
       "                                                                                                                   1  \\\n",
       "date                                                                                             2012-10-18 00:00:00   \n",
       "title                  Gesetzentwurf 17/9852 und 17/11053 (8. Änderung des Gesetzes gegen Wettbewerbsbeschränkungen)   \n",
       "ja_mdb                                                                                                             0   \n",
       "nein_mdb                                                                                                           0   \n",
       "Enthaltung_mdb                                                                                                     0   \n",
       "ungültig_mdb                                                                                                       0   \n",
       "nichtabgegeben_mdb                                                                                                 1   \n",
       "Fraktion/Gruppe                                                                                              CDU/CSU   \n",
       "Enthaltung_party                                                                                                 0.0   \n",
       "ja_party                                                                                                    0.915612   \n",
       "nein_party                                                                                                       0.0   \n",
       "nichtabgegeben_party                                                                                        0.084388   \n",
       "ungültig_party                                                                                                   0.0   \n",
       "similarity                                                                                                  0.091777   \n",
       "\n",
       "                                                                                                                   1  \n",
       "date                                                                                             2012-10-18 00:00:00  \n",
       "title                  Gesetzentwurf 17/9852 und 17/11053 (8. Änderung des Gesetzes gegen Wettbewerbsbeschränkungen)  \n",
       "ja_mdb                                                                                                             0  \n",
       "nein_mdb                                                                                                           0  \n",
       "Enthaltung_mdb                                                                                                     0  \n",
       "ungültig_mdb                                                                                                       0  \n",
       "nichtabgegeben_mdb                                                                                                 1  \n",
       "Fraktion/Gruppe                                                                                           DIE LINKE.  \n",
       "Enthaltung_party                                                                                                 0.0  \n",
       "ja_party                                                                                                         0.0  \n",
       "nein_party                                                                                                  0.789474  \n",
       "nichtabgegeben_party                                                                                        0.210526  \n",
       "ungültig_party                                                                                                   0.0  \n",
       "similarity                                                                                                  0.257663  "
      ]
     },
     "execution_count": 6,
     "metadata": {},
     "output_type": "execute_result"
    }
   ],
   "source": [
    "%%time\n",
    "mdb = 'Peter Altmaier'\n",
    "similarity_mdb_party = (df\n",
    "                        .pipe(sim.prepare_votes_of_mdb, mdb=mdb)\n",
    "                        .pipe(sim.align_mdb_with_parties, party_votes=party_votes)\n",
    "                        .pipe(sim.compute_similarity, lsuffix='mdb', rsuffix='party')\n",
    "                       )\n",
    "similarity_mdb_party.head(3).T"
   ]
  },
  {
   "cell_type": "code",
   "execution_count": null,
   "metadata": {},
   "outputs": [],
   "source": [
    "sim.plot_similarity_over_time(similarity_mdb_party, \n",
    "                              'Fraktion/Gruppe',\n",
    "                              title=f'{mdb} vs time')"
   ]
  },
  {
   "cell_type": "markdown",
   "metadata": {},
   "source": [
    "![mdb similarity](./README_files/mdb_similarity_vs_time.png)"
   ]
  },
  {
   "cell_type": "markdown",
   "metadata": {},
   "source": [
    "**GUI to inspect similarities**\n",
    "\n",
    "To make this exploration more convenient, the class `GUI` was implemented to quickly go through the different parties and politicians"
   ]
  },
  {
   "cell_type": "code",
   "execution_count": null,
   "metadata": {
    "hidden": true
   },
   "outputs": [],
   "source": [
    "GUI(df).render()"
   ]
  },
  {
   "cell_type": "markdown",
   "metadata": {},
   "source": [
    "### Part 2 - predicting politician votes using abgeordnetenwatch data"
   ]
  },
  {
   "cell_type": "markdown",
   "metadata": {},
   "source": [
    "The data used below was processed using `nbs/03_abgeordnetenwatch.ipynb`."
   ]
  },
  {
   "cell_type": "code",
   "execution_count": 7,
   "metadata": {},
   "outputs": [],
   "source": [
    "legislature_id = 111\n",
    "aw.ABGEORDNETENWATCH_PATH = Path('./abgeordnetenwatch_data')"
   ]
  },
  {
   "cell_type": "markdown",
   "metadata": {},
   "source": [
    "#### Clustering polls using Latent Dirichlet Allocation (LDA)"
   ]
  },
  {
   "cell_type": "code",
   "execution_count": 8,
   "metadata": {},
   "outputs": [
    {
     "data": {
      "text/html": [
       "<div>\n",
       "<style scoped>\n",
       "    .dataframe tbody tr th:only-of-type {\n",
       "        vertical-align: middle;\n",
       "    }\n",
       "\n",
       "    .dataframe tbody tr th {\n",
       "        vertical-align: top;\n",
       "    }\n",
       "\n",
       "    .dataframe thead th {\n",
       "        text-align: right;\n",
       "    }\n",
       "</style>\n",
       "<table border=\"1\" class=\"dataframe\">\n",
       "  <thead>\n",
       "    <tr style=\"text-align: right;\">\n",
       "      <th></th>\n",
       "      <th>0</th>\n",
       "      <th>1</th>\n",
       "      <th>2</th>\n",
       "    </tr>\n",
       "  </thead>\n",
       "  <tbody>\n",
       "    <tr>\n",
       "      <th>poll_id</th>\n",
       "      <td>4217</td>\n",
       "      <td>4215</td>\n",
       "      <td>4214</td>\n",
       "    </tr>\n",
       "    <tr>\n",
       "      <th>poll_title</th>\n",
       "      <td>Änderung im Infektions­schutz­gesetz</td>\n",
       "      <td>Keine Verwendung von geschlechtergerechter Sprache</td>\n",
       "      <td>Verlängerung des Bundeswehreinsatzes vor der libanesischen Küste (UNIFIL 2021/2022)</td>\n",
       "    </tr>\n",
       "    <tr>\n",
       "      <th>poll_first_committee</th>\n",
       "      <td>Ausschuss für Recht und Verbraucherschutz</td>\n",
       "      <td>None</td>\n",
       "      <td>Auswärtiger Ausschuss</td>\n",
       "    </tr>\n",
       "    <tr>\n",
       "      <th>poll_description</th>\n",
       "      <td>Abgestimmt wurde über die Paragraphen 9 und 10 des Infektionsschutzgesetzes. Die AfD hatte verlangt, über einzelne Teile des Gesetzentwurfs und den Gesetzentwurf insgesamt, getrennt abzustimmen. Eine namentlicher Abstimmung fand lediglich bezüglich der Änderungen des Infektionsschutzgesetzes statt.\\nDer Gesetzentwurf wird mit 408 Ja-Stimmen der Fraktionen CDU/CSU, SPD und Bündnis 90/Die Grünen angenommen. Dagegen stimmten die FDP, Die Linke und die AfD.</td>\n",
       "      <td>Der Bundestag stimmt über einen Antrag der AfD ab, in welchem die Fraktion dazu auffordert, zugunsten einer \"besseren Lesbarkeit\" auf die Verwendung geschlechtergerechter Sprache durch die Bundesregierung sowie in Drucksachen des Bundestages zu verzichten. \\nDer Antrag wurde mit 531 Nein-Stimmen der Fraktionen CDU/CSU, SPD, Bündnis90/Die Grünen, Die Linke und FDP abgelehnt. Dafür stimmte lediglich die antragsstellende Fraktion der AfD.</td>\n",
       "      <td>Der von der Bundesregierung eingebrachte Antrag sieht vor, die Beteiligung der Bundeswehr am maritimen Teil der friedenssichernden Mission \"United Nations Interim Force in Lebanon\" (UNIFIL) zu verlängern. Bei dem Einsatz handelt es sich um die Beteiligung deutscher Streitkräfte an der Überwachung der Seegrenzen des Libanon.\\nDer Antrag wird mit 468 Ja-Stimmen der Fraktionen CDU/CSU, SPD, FDP und Bündnis 90/Die Grünen angenommen. Die Linke und die AfD stimmten gegen den Antrag.</td>\n",
       "    </tr>\n",
       "    <tr>\n",
       "      <th>legislature_id</th>\n",
       "      <td>111</td>\n",
       "      <td>111</td>\n",
       "      <td>111</td>\n",
       "    </tr>\n",
       "    <tr>\n",
       "      <th>legislature_period</th>\n",
       "      <td>Bundestag 2017 - 2021</td>\n",
       "      <td>Bundestag 2017 - 2021</td>\n",
       "      <td>Bundestag 2017 - 2021</td>\n",
       "    </tr>\n",
       "    <tr>\n",
       "      <th>poll_date</th>\n",
       "      <td>2021-06-24</td>\n",
       "      <td>2021-06-24</td>\n",
       "      <td>2021-06-24</td>\n",
       "    </tr>\n",
       "    <tr>\n",
       "      <th>poll_title_nlp_processed</th>\n",
       "      <td>[Änderung, Infektions­schutz­gesetz]</td>\n",
       "      <td>[Verwendung, geschlechtergerechter, Sprache]</td>\n",
       "      <td>[Verlängerung, Bundeswehreinsatzes, libanesischen, Küste, UNIFIL]</td>\n",
       "    </tr>\n",
       "    <tr>\n",
       "      <th>nlp_dim0</th>\n",
       "      <td>0.066793</td>\n",
       "      <td>0.050012</td>\n",
       "      <td>0.033369</td>\n",
       "    </tr>\n",
       "    <tr>\n",
       "      <th>nlp_dim1</th>\n",
       "      <td>0.06668</td>\n",
       "      <td>0.799959</td>\n",
       "      <td>0.033362</td>\n",
       "    </tr>\n",
       "    <tr>\n",
       "      <th>nlp_dim2</th>\n",
       "      <td>0.066783</td>\n",
       "      <td>0.050011</td>\n",
       "      <td>0.033492</td>\n",
       "    </tr>\n",
       "    <tr>\n",
       "      <th>nlp_dim3</th>\n",
       "      <td>0.733067</td>\n",
       "      <td>0.050008</td>\n",
       "      <td>0.034484</td>\n",
       "    </tr>\n",
       "  </tbody>\n",
       "</table>\n",
       "</div>"
      ],
      "text/plain": [
       "                                                                                                                                                                                                                                                                                                                                                                                                                                                                                                  0  \\\n",
       "poll_id                                                                                                                                                                                                                                                                                                                                                                                                                                                                                        4217   \n",
       "poll_title                                                                                                                                                                                                                                                                                                                                                                                                                                                     Änderung im Infektions­schutz­gesetz   \n",
       "poll_first_committee                                                                                                                                                                                                                                                                                                                                                                                                                                      Ausschuss für Recht und Verbraucherschutz   \n",
       "poll_description          Abgestimmt wurde über die Paragraphen 9 und 10 des Infektionsschutzgesetzes. Die AfD hatte verlangt, über einzelne Teile des Gesetzentwurfs und den Gesetzentwurf insgesamt, getrennt abzustimmen. Eine namentlicher Abstimmung fand lediglich bezüglich der Änderungen des Infektionsschutzgesetzes statt.\\nDer Gesetzentwurf wird mit 408 Ja-Stimmen der Fraktionen CDU/CSU, SPD und Bündnis 90/Die Grünen angenommen. Dagegen stimmten die FDP, Die Linke und die AfD.   \n",
       "legislature_id                                                                                                                                                                                                                                                                                                                                                                                                                                                                                  111   \n",
       "legislature_period                                                                                                                                                                                                                                                                                                                                                                                                                                                            Bundestag 2017 - 2021   \n",
       "poll_date                                                                                                                                                                                                                                                                                                                                                                                                                                                                                2021-06-24   \n",
       "poll_title_nlp_processed                                                                                                                                                                                                                                                                                                                                                                                                                                       [Änderung, Infektions­schutz­gesetz]   \n",
       "nlp_dim0                                                                                                                                                                                                                                                                                                                                                                                                                                                                                   0.066793   \n",
       "nlp_dim1                                                                                                                                                                                                                                                                                                                                                                                                                                                                                    0.06668   \n",
       "nlp_dim2                                                                                                                                                                                                                                                                                                                                                                                                                                                                                   0.066783   \n",
       "nlp_dim3                                                                                                                                                                                                                                                                                                                                                                                                                                                                                   0.733067   \n",
       "\n",
       "                                                                                                                                                                                                                                                                                                                                                                                                                                                                                1  \\\n",
       "poll_id                                                                                                                                                                                                                                                                                                                                                                                                                                                                      4215   \n",
       "poll_title                                                                                                                                                                                                                                                                                                                                                                                                                     Keine Verwendung von geschlechtergerechter Sprache   \n",
       "poll_first_committee                                                                                                                                                                                                                                                                                                                                                                                                                                                         None   \n",
       "poll_description          Der Bundestag stimmt über einen Antrag der AfD ab, in welchem die Fraktion dazu auffordert, zugunsten einer \"besseren Lesbarkeit\" auf die Verwendung geschlechtergerechter Sprache durch die Bundesregierung sowie in Drucksachen des Bundestages zu verzichten. \\nDer Antrag wurde mit 531 Nein-Stimmen der Fraktionen CDU/CSU, SPD, Bündnis90/Die Grünen, Die Linke und FDP abgelehnt. Dafür stimmte lediglich die antragsstellende Fraktion der AfD.   \n",
       "legislature_id                                                                                                                                                                                                                                                                                                                                                                                                                                                                111   \n",
       "legislature_period                                                                                                                                                                                                                                                                                                                                                                                                                                          Bundestag 2017 - 2021   \n",
       "poll_date                                                                                                                                                                                                                                                                                                                                                                                                                                                              2021-06-24   \n",
       "poll_title_nlp_processed                                                                                                                                                                                                                                                                                                                                                                                                             [Verwendung, geschlechtergerechter, Sprache]   \n",
       "nlp_dim0                                                                                                                                                                                                                                                                                                                                                                                                                                                                 0.050012   \n",
       "nlp_dim1                                                                                                                                                                                                                                                                                                                                                                                                                                                                 0.799959   \n",
       "nlp_dim2                                                                                                                                                                                                                                                                                                                                                                                                                                                                 0.050011   \n",
       "nlp_dim3                                                                                                                                                                                                                                                                                                                                                                                                                                                                 0.050008   \n",
       "\n",
       "                                                                                                                                                                                                                                                                                                                                                                                                                                                                                                                          2  \n",
       "poll_id                                                                                                                                                                                                                                                                                                                                                                                                                                                                                                                4214  \n",
       "poll_title                                                                                                                                                                                                                                                                                                                                                                                                                              Verlängerung des Bundeswehreinsatzes vor der libanesischen Küste (UNIFIL 2021/2022)  \n",
       "poll_first_committee                                                                                                                                                                                                                                                                                                                                                                                                                                                                                  Auswärtiger Ausschuss  \n",
       "poll_description          Der von der Bundesregierung eingebrachte Antrag sieht vor, die Beteiligung der Bundeswehr am maritimen Teil der friedenssichernden Mission \"United Nations Interim Force in Lebanon\" (UNIFIL) zu verlängern. Bei dem Einsatz handelt es sich um die Beteiligung deutscher Streitkräfte an der Überwachung der Seegrenzen des Libanon.\\nDer Antrag wird mit 468 Ja-Stimmen der Fraktionen CDU/CSU, SPD, FDP und Bündnis 90/Die Grünen angenommen. Die Linke und die AfD stimmten gegen den Antrag.  \n",
       "legislature_id                                                                                                                                                                                                                                                                                                                                                                                                                                                                                                          111  \n",
       "legislature_period                                                                                                                                                                                                                                                                                                                                                                                                                                                                                    Bundestag 2017 - 2021  \n",
       "poll_date                                                                                                                                                                                                                                                                                                                                                                                                                                                                                                        2021-06-24  \n",
       "poll_title_nlp_processed                                                                                                                                                                                                                                                                                                                                                                                                                                  [Verlängerung, Bundeswehreinsatzes, libanesischen, Küste, UNIFIL]  \n",
       "nlp_dim0                                                                                                                                                                                                                                                                                                                                                                                                                                                                                                           0.033369  \n",
       "nlp_dim1                                                                                                                                                                                                                                                                                                                                                                                                                                                                                                           0.033362  \n",
       "nlp_dim2                                                                                                                                                                                                                                                                                                                                                                                                                                                                                                           0.033492  \n",
       "nlp_dim3                                                                                                                                                                                                                                                                                                                                                                                                                                                                                                           0.034484  "
      ]
     },
     "metadata": {},
     "output_type": "display_data"
    },
    {
     "name": "stdout",
     "output_type": "stream",
     "text": [
      "CPU times: user 2.05 s, sys: 175 ms, total: 2.23 s\n",
      "Wall time: 2.23 s\n"
     ]
    }
   ],
   "source": [
    "%%time\n",
    "source_col = 'poll_title'\n",
    "nlp_col = f'{source_col}_nlp_processed'\n",
    "num_topics = 5 # number of topics / clusters to identify\n",
    "\n",
    "st = pc.SpacyTransformer()\n",
    "\n",
    "# load data and prepare text for modelling\n",
    "df_polls_lda = (aw.get_polls_df(legislature_id)\n",
    "                .assign(**{nlp_col: lambda x: st.clean_text(x, col=source_col)}))\n",
    "\n",
    "# modelling clusters\n",
    "st.fit(df_polls_lda[nlp_col].values, mode='lda', num_topics=num_topics)\n",
    "\n",
    "# creating text features using fitted model\n",
    "df_polls_lda, nlp_feature_cols = df_polls_lda.pipe(st.transform, col=nlp_col, return_new_cols=True)\n",
    "\n",
    "# inspecting clusters\n",
    "display(df_polls_lda.head(3).T)"
   ]
  },
  {
   "cell_type": "code",
   "execution_count": null,
   "metadata": {},
   "outputs": [],
   "source": [
    "pc.pca_plot_lda_topics(df_polls_lda, st, source_col, nlp_feature_cols)"
   ]
  },
  {
   "cell_type": "markdown",
   "metadata": {},
   "source": [
    "#### Predicting votes"
   ]
  },
  {
   "cell_type": "markdown",
   "metadata": {},
   "source": [
    "Loading data"
   ]
  },
  {
   "cell_type": "code",
   "execution_count": 9,
   "metadata": {
    "scrolled": true
   },
   "outputs": [],
   "source": [
    "all_votes_path = aw.ABGEORDNETENWATCH_PATH / f'compiled_votes_legislature_{legislature_id}.csv'\n",
    "\n",
    "# reading data frame with vote data from disk which was generated by aw.compile_votes_data\n",
    "df_all_votes = pd.read_csv(all_votes_path) \n",
    "\n",
    "# minor pre-processing\n",
    "df_all_votes = df_all_votes.assign(**{'politician name':vp.get_politician_names})\n",
    "\n",
    "# loading info on mandates (party association) and polls (titles and descriptions)\n",
    "df_mandates = aw.get_mandates_df(legislature_id)\n",
    "df_mandates['party'] = df_mandates.apply(vp.get_party_from_fraction_string, axis=1)\n",
    "df_polls = aw.get_polls_df(legislature_id)"
   ]
  },
  {
   "cell_type": "markdown",
   "metadata": {},
   "source": [
    "Splitting data set into training and validation set. Splitting randomly here because it leads to an interesting result, albeit not very realistic for production."
   ]
  },
  {
   "cell_type": "code",
   "execution_count": 10,
   "metadata": {},
   "outputs": [],
   "source": [
    "splits = RandomSplitter(valid_pct=.2)(df_all_votes)\n",
    "y_col = 'vote'"
   ]
  },
  {
   "cell_type": "markdown",
   "metadata": {},
   "source": [
    "Training a neural net to predict `vote` based on embeddings for `poll_id` and `politician name`"
   ]
  },
  {
   "cell_type": "code",
   "execution_count": null,
   "metadata": {},
   "outputs": [],
   "source": [
    "%%time\n",
    "to = TabularPandas(df_all_votes, \n",
    "                   cat_names=['politician name', 'poll_id'], # columns in `df_all_votes` to treat as categorical\n",
    "                   y_names=[y_col], # column to use as a target for the model in `learn`\n",
    "                   procs=[Categorify],  # processing of features\n",
    "                   y_block=CategoryBlock,  # how to treat `y_names`, here as categories\n",
    "                   splits=splits) # how to split the data \n",
    "\n",
    "dls = to.dataloaders(bs=512)\n",
    "learn = tabular_learner(dls) # fastai function to set up a neural net for tabular data\n",
    "lrs = learn.lr_find() # searches the learning rate\n",
    "learn.fit_one_cycle(5, lrs.valley) # performs training using one-cycle hyperparameter schedule"
   ]
  },
  {
   "cell_type": "markdown",
   "metadata": {},
   "source": [
    "**Predictions over unseen data**"
   ]
  },
  {
   "cell_type": "markdown",
   "metadata": {},
   "source": [
    "Inspecting the predictions of the neural net over the validation set. "
   ]
  },
  {
   "cell_type": "code",
   "execution_count": 12,
   "metadata": {
    "scrolled": false
   },
   "outputs": [
    {
     "data": {
      "text/html": [],
      "text/plain": [
       "<IPython.core.display.HTML object>"
      ]
     },
     "metadata": {},
     "output_type": "display_data"
    },
    {
     "data": {
      "text/html": [
       "<style type=\"text/css\">\n",
       "#T_1f33c_row0_col0, #T_1f33c_row1_col1, #T_1f33c_row2_col1, #T_1f33c_row3_col3 {\n",
       "  background-color: #023858;\n",
       "  color: #f1f1f1;\n",
       "}\n",
       "#T_1f33c_row0_col1, #T_1f33c_row1_col0, #T_1f33c_row2_col0, #T_1f33c_row3_col0 {\n",
       "  background-color: #fff7fb;\n",
       "  color: #000000;\n",
       "}\n",
       "#T_1f33c_row0_col2 {\n",
       "  background-color: #fef6fa;\n",
       "  color: #000000;\n",
       "}\n",
       "#T_1f33c_row0_col3, #T_1f33c_row1_col2, #T_1f33c_row1_col3, #T_1f33c_row3_col2 {\n",
       "  background-color: #fdf5fa;\n",
       "  color: #000000;\n",
       "}\n",
       "#T_1f33c_row2_col2 {\n",
       "  background-color: #71a8ce;\n",
       "  color: #f1f1f1;\n",
       "}\n",
       "#T_1f33c_row2_col3 {\n",
       "  background-color: #034a74;\n",
       "  color: #f1f1f1;\n",
       "}\n",
       "#T_1f33c_row3_col1 {\n",
       "  background-color: #fef6fb;\n",
       "  color: #000000;\n",
       "}\n",
       "</style>\n",
       "<table id=\"T_1f33c_\">\n",
       "  <thead>\n",
       "    <tr>\n",
       "      <th class=\"index_name level0\" >vote_pred</th>\n",
       "      <th class=\"col_heading level0 col0\" >abstain</th>\n",
       "      <th class=\"col_heading level0 col1\" >no</th>\n",
       "      <th class=\"col_heading level0 col2\" >no_show</th>\n",
       "      <th class=\"col_heading level0 col3\" >yes</th>\n",
       "    </tr>\n",
       "    <tr>\n",
       "      <th class=\"index_name level0\" >vote</th>\n",
       "      <th class=\"blank col0\" >&nbsp;</th>\n",
       "      <th class=\"blank col1\" >&nbsp;</th>\n",
       "      <th class=\"blank col2\" >&nbsp;</th>\n",
       "      <th class=\"blank col3\" >&nbsp;</th>\n",
       "    </tr>\n",
       "  </thead>\n",
       "  <tbody>\n",
       "    <tr>\n",
       "      <th id=\"T_1f33c_level0_row0\" class=\"row_heading level0 row0\" >abstain</th>\n",
       "      <td id=\"T_1f33c_row0_col0\" class=\"data row0 col0\" >803</td>\n",
       "      <td id=\"T_1f33c_row0_col1\" class=\"data row0 col1\" >50</td>\n",
       "      <td id=\"T_1f33c_row0_col2\" class=\"data row0 col2\" >58</td>\n",
       "      <td id=\"T_1f33c_row0_col3\" class=\"data row0 col3\" >64</td>\n",
       "    </tr>\n",
       "    <tr>\n",
       "      <th id=\"T_1f33c_level0_row1\" class=\"row_heading level0 row1\" >no</th>\n",
       "      <td id=\"T_1f33c_row1_col0\" class=\"data row1 col0\" >24</td>\n",
       "      <td id=\"T_1f33c_row1_col1\" class=\"data row1 col1\" >9405</td>\n",
       "      <td id=\"T_1f33c_row1_col2\" class=\"data row1 col2\" >190</td>\n",
       "      <td id=\"T_1f33c_row1_col3\" class=\"data row1 col3\" >138</td>\n",
       "    </tr>\n",
       "    <tr>\n",
       "      <th id=\"T_1f33c_level0_row2\" class=\"row_heading level0 row2\" >no_show</th>\n",
       "      <td id=\"T_1f33c_row2_col0\" class=\"data row2 col0\" >103</td>\n",
       "      <td id=\"T_1f33c_row2_col1\" class=\"data row2 col1\" >978</td>\n",
       "      <td id=\"T_1f33c_row2_col2\" class=\"data row2 col2\" >546</td>\n",
       "      <td id=\"T_1f33c_row2_col3\" class=\"data row2 col3\" >917</td>\n",
       "    </tr>\n",
       "    <tr>\n",
       "      <th id=\"T_1f33c_level0_row3\" class=\"row_heading level0 row3\" >yes</th>\n",
       "      <td id=\"T_1f33c_row3_col0\" class=\"data row3 col0\" >15</td>\n",
       "      <td id=\"T_1f33c_row3_col1\" class=\"data row3 col1\" >68</td>\n",
       "      <td id=\"T_1f33c_row3_col2\" class=\"data row3 col2\" >168</td>\n",
       "      <td id=\"T_1f33c_row3_col3\" class=\"data row3 col3\" >10954</td>\n",
       "    </tr>\n",
       "  </tbody>\n",
       "</table>\n"
      ],
      "text/plain": [
       "<pandas.io.formats.style.Styler at 0x7f9a8e677eb0>"
      ]
     },
     "metadata": {},
     "output_type": "display_data"
    },
    {
     "data": {
      "text/html": [
       "<style type=\"text/css\">\n",
       "#T_e56fd_row0_col0, #T_e56fd_row1_col1, #T_e56fd_row2_col1, #T_e56fd_row3_col3 {\n",
       "  background-color: #023858;\n",
       "  color: #f1f1f1;\n",
       "}\n",
       "#T_e56fd_row0_col1, #T_e56fd_row1_col0, #T_e56fd_row2_col0, #T_e56fd_row3_col0 {\n",
       "  background-color: #fff7fb;\n",
       "  color: #000000;\n",
       "}\n",
       "#T_e56fd_row0_col2 {\n",
       "  background-color: #fef6fa;\n",
       "  color: #000000;\n",
       "}\n",
       "#T_e56fd_row0_col3, #T_e56fd_row1_col2, #T_e56fd_row1_col3, #T_e56fd_row3_col2 {\n",
       "  background-color: #fdf5fa;\n",
       "  color: #000000;\n",
       "}\n",
       "#T_e56fd_row2_col2 {\n",
       "  background-color: #71a8ce;\n",
       "  color: #f1f1f1;\n",
       "}\n",
       "#T_e56fd_row2_col3 {\n",
       "  background-color: #034a74;\n",
       "  color: #f1f1f1;\n",
       "}\n",
       "#T_e56fd_row3_col1 {\n",
       "  background-color: #fef6fb;\n",
       "  color: #000000;\n",
       "}\n",
       "</style>\n",
       "<table id=\"T_e56fd_\">\n",
       "  <thead>\n",
       "    <tr>\n",
       "      <th class=\"index_name level0\" >vote_pred</th>\n",
       "      <th class=\"col_heading level0 col0\" >abstain</th>\n",
       "      <th class=\"col_heading level0 col1\" >no</th>\n",
       "      <th class=\"col_heading level0 col2\" >no_show</th>\n",
       "      <th class=\"col_heading level0 col3\" >yes</th>\n",
       "    </tr>\n",
       "    <tr>\n",
       "      <th class=\"index_name level0\" >vote</th>\n",
       "      <th class=\"blank col0\" >&nbsp;</th>\n",
       "      <th class=\"blank col1\" >&nbsp;</th>\n",
       "      <th class=\"blank col2\" >&nbsp;</th>\n",
       "      <th class=\"blank col3\" >&nbsp;</th>\n",
       "    </tr>\n",
       "  </thead>\n",
       "  <tbody>\n",
       "    <tr>\n",
       "      <th id=\"T_e56fd_level0_row0\" class=\"row_heading level0 row0\" >abstain</th>\n",
       "      <td id=\"T_e56fd_row0_col0\" class=\"data row0 col0\" >0.823590</td>\n",
       "      <td id=\"T_e56fd_row0_col1\" class=\"data row0 col1\" >0.051282</td>\n",
       "      <td id=\"T_e56fd_row0_col2\" class=\"data row0 col2\" >0.059487</td>\n",
       "      <td id=\"T_e56fd_row0_col3\" class=\"data row0 col3\" >0.065641</td>\n",
       "    </tr>\n",
       "    <tr>\n",
       "      <th id=\"T_e56fd_level0_row1\" class=\"row_heading level0 row1\" >no</th>\n",
       "      <td id=\"T_e56fd_row1_col0\" class=\"data row1 col0\" >0.002460</td>\n",
       "      <td id=\"T_e56fd_row1_col1\" class=\"data row1 col1\" >0.963923</td>\n",
       "      <td id=\"T_e56fd_row1_col2\" class=\"data row1 col2\" >0.019473</td>\n",
       "      <td id=\"T_e56fd_row1_col3\" class=\"data row1 col3\" >0.014144</td>\n",
       "    </tr>\n",
       "    <tr>\n",
       "      <th id=\"T_e56fd_level0_row2\" class=\"row_heading level0 row2\" >no_show</th>\n",
       "      <td id=\"T_e56fd_row2_col0\" class=\"data row2 col0\" >0.040487</td>\n",
       "      <td id=\"T_e56fd_row2_col1\" class=\"data row2 col1\" >0.384434</td>\n",
       "      <td id=\"T_e56fd_row2_col2\" class=\"data row2 col2\" >0.214623</td>\n",
       "      <td id=\"T_e56fd_row2_col3\" class=\"data row2 col3\" >0.360456</td>\n",
       "    </tr>\n",
       "    <tr>\n",
       "      <th id=\"T_e56fd_level0_row3\" class=\"row_heading level0 row3\" >yes</th>\n",
       "      <td id=\"T_e56fd_row3_col0\" class=\"data row3 col0\" >0.001339</td>\n",
       "      <td id=\"T_e56fd_row3_col1\" class=\"data row3 col1\" >0.006069</td>\n",
       "      <td id=\"T_e56fd_row3_col2\" class=\"data row3 col2\" >0.014993</td>\n",
       "      <td id=\"T_e56fd_row3_col3\" class=\"data row3 col3\" >0.977599</td>\n",
       "    </tr>\n",
       "  </tbody>\n",
       "</table>\n"
      ],
      "text/plain": [
       "<pandas.io.formats.style.Styler at 0x7f9a91371ac0>"
      ]
     },
     "metadata": {},
     "output_type": "display_data"
    },
    {
     "name": "stderr",
     "output_type": "stream",
     "text": [
      "2021-08-25 16:36:02.574 | INFO     | bundestag.vote_prediction:plot_predictions:100 - Overall accuracy = 88.67 %\n"
     ]
    },
    {
     "name": "stdout",
     "output_type": "stream",
     "text": [
      "\n",
      "5 most inaccurately predicted politicians:\n"
     ]
    },
    {
     "data": {
      "text/html": [
       "<div>\n",
       "<style scoped>\n",
       "    .dataframe tbody tr th:only-of-type {\n",
       "        vertical-align: middle;\n",
       "    }\n",
       "\n",
       "    .dataframe tbody tr th {\n",
       "        vertical-align: top;\n",
       "    }\n",
       "\n",
       "    .dataframe thead th {\n",
       "        text-align: right;\n",
       "    }\n",
       "</style>\n",
       "<table border=\"1\" class=\"dataframe\">\n",
       "  <thead>\n",
       "    <tr style=\"text-align: right;\">\n",
       "      <th></th>\n",
       "      <th>politician name</th>\n",
       "      <th>party</th>\n",
       "      <th>prediction_correct</th>\n",
       "    </tr>\n",
       "  </thead>\n",
       "  <tbody>\n",
       "    <tr>\n",
       "      <th>0</th>\n",
       "      <td>Mario Mieruch</td>\n",
       "      <td>fraktionslos</td>\n",
       "      <td>0.333333</td>\n",
       "    </tr>\n",
       "    <tr>\n",
       "      <th>1</th>\n",
       "      <td>Heiko Heßenkemper</td>\n",
       "      <td>fraktionslos</td>\n",
       "      <td>0.450000</td>\n",
       "    </tr>\n",
       "    <tr>\n",
       "      <th>2</th>\n",
       "      <td>Thomas Nord</td>\n",
       "      <td>DIE LINKE</td>\n",
       "      <td>0.463415</td>\n",
       "    </tr>\n",
       "    <tr>\n",
       "      <th>3</th>\n",
       "      <td>Axel Troost</td>\n",
       "      <td>DIE LINKE</td>\n",
       "      <td>0.500000</td>\n",
       "    </tr>\n",
       "    <tr>\n",
       "      <th>4</th>\n",
       "      <td>Katarina Barley</td>\n",
       "      <td>SPD</td>\n",
       "      <td>0.500000</td>\n",
       "    </tr>\n",
       "  </tbody>\n",
       "</table>\n",
       "</div>"
      ],
      "text/plain": [
       "     politician name         party  prediction_correct\n",
       "0      Mario Mieruch  fraktionslos            0.333333\n",
       "1  Heiko Heßenkemper  fraktionslos            0.450000\n",
       "2        Thomas Nord     DIE LINKE            0.463415\n",
       "3        Axel Troost     DIE LINKE            0.500000\n",
       "4    Katarina Barley           SPD            0.500000"
      ]
     },
     "metadata": {},
     "output_type": "display_data"
    },
    {
     "name": "stdout",
     "output_type": "stream",
     "text": [
      "\n",
      "5 most inaccurately predicted polls:\n"
     ]
    },
    {
     "data": {
      "text/html": [
       "<div>\n",
       "<style scoped>\n",
       "    .dataframe tbody tr th:only-of-type {\n",
       "        vertical-align: middle;\n",
       "    }\n",
       "\n",
       "    .dataframe tbody tr th {\n",
       "        vertical-align: top;\n",
       "    }\n",
       "\n",
       "    .dataframe thead th {\n",
       "        text-align: right;\n",
       "    }\n",
       "</style>\n",
       "<table border=\"1\" class=\"dataframe\">\n",
       "  <thead>\n",
       "    <tr style=\"text-align: right;\">\n",
       "      <th></th>\n",
       "      <th>poll_id</th>\n",
       "      <th>poll_title</th>\n",
       "      <th>prediction_correct</th>\n",
       "    </tr>\n",
       "  </thead>\n",
       "  <tbody>\n",
       "    <tr>\n",
       "      <th>0</th>\n",
       "      <td>1761</td>\n",
       "      <td>Organspenden-Reform: Zustimmungslösung</td>\n",
       "      <td>0.593750</td>\n",
       "    </tr>\n",
       "    <tr>\n",
       "      <th>1</th>\n",
       "      <td>1758</td>\n",
       "      <td>Organspenden-Reform: Widerspruchslösung</td>\n",
       "      <td>0.596899</td>\n",
       "    </tr>\n",
       "    <tr>\n",
       "      <th>2</th>\n",
       "      <td>3572</td>\n",
       "      <td>Corona-Maßnahmen: Aussetzung der Schuldenbremse - erster Nachtragshaushalt</td>\n",
       "      <td>0.726708</td>\n",
       "    </tr>\n",
       "    <tr>\n",
       "      <th>3</th>\n",
       "      <td>1683</td>\n",
       "      <td>BDS-Bewegung entgegentreten - Antisemitismus bekämpfen</td>\n",
       "      <td>0.745342</td>\n",
       "    </tr>\n",
       "    <tr>\n",
       "      <th>4</th>\n",
       "      <td>3571</td>\n",
       "      <td>Fortsetzung des Bundeswehreinsatzes in Afghanistan</td>\n",
       "      <td>0.753623</td>\n",
       "    </tr>\n",
       "  </tbody>\n",
       "</table>\n",
       "</div>"
      ],
      "text/plain": [
       "   poll_id  \\\n",
       "0     1761   \n",
       "1     1758   \n",
       "2     3572   \n",
       "3     1683   \n",
       "4     3571   \n",
       "\n",
       "                                                                   poll_title  \\\n",
       "0                                      Organspenden-Reform: Zustimmungslösung   \n",
       "1                                     Organspenden-Reform: Widerspruchslösung   \n",
       "2  Corona-Maßnahmen: Aussetzung der Schuldenbremse - erster Nachtragshaushalt   \n",
       "3                      BDS-Bewegung entgegentreten - Antisemitismus bekämpfen   \n",
       "4                          Fortsetzung des Bundeswehreinsatzes in Afghanistan   \n",
       "\n",
       "   prediction_correct  \n",
       "0            0.593750  \n",
       "1            0.596899  \n",
       "2            0.726708  \n",
       "3            0.745342  \n",
       "4            0.753623  "
      ]
     },
     "metadata": {},
     "output_type": "display_data"
    }
   ],
   "source": [
    "vp.plot_predictions(learn, df_all_votes, df_mandates, df_polls, splits,\n",
    "                    n_worst_politicians=5)"
   ]
  },
  {
   "cell_type": "markdown",
   "metadata": {},
   "source": [
    "Splitting our dataset randomly leads to a surprisingly good accuracy of ~88% over the validation set. The most reasonable explanation is that the model encountered polls and how most politicians voted for them already during training. \n",
    "\n",
    "This can be interpreted as, if it is known how most politicians will vote during a poll, then the vote of the remaining politicians is highly predictable. Splitting the data set by `poll_id`, as can be done using `vp.poll_splitter` leads to random chance predictions. Anything else would be surprising as well since the only available information provided to the model is who is voting."
   ]
  },
  {
   "cell_type": "markdown",
   "metadata": {},
   "source": [
    "**Visualising learned embeddings**"
   ]
  },
  {
   "cell_type": "markdown",
   "metadata": {},
   "source": [
    "Besides the actual prediction it also is interesting to inspect what the model actually learned. This can sometimes lead to [surprises](https://github.com/entron/entity-embedding-rossmann).\n",
    "\n",
    "So let's look at the learned embeddings"
   ]
  },
  {
   "cell_type": "code",
   "execution_count": 13,
   "metadata": {},
   "outputs": [],
   "source": [
    "embeddings = vp.get_embeddings(learn)"
   ]
  },
  {
   "cell_type": "markdown",
   "metadata": {},
   "source": [
    "To make sense of the embeddings for `poll_id` as well as `politician name` we apply Principal Component Analysis (so one still kind of understands what distances mean) and project down to 2d. \n",
    "\n",
    "Using the information which party was most strongly (% of their votes being \"yes\"), so its strongest proponent, we color code the individual polls."
   ]
  },
  {
   "cell_type": "code",
   "execution_count": null,
   "metadata": {},
   "outputs": [],
   "source": [
    "vp.plot_poll_embeddings(df_all_votes, df_polls, embeddings, df_mandates=df_mandates)"
   ]
  },
  {
   "cell_type": "markdown",
   "metadata": {},
   "source": [
    "![poll embeddings](./README_files/poll_embeddings.png)"
   ]
  },
  {
   "cell_type": "markdown",
   "metadata": {},
   "source": [
    "The politician embeddings are color coded using the politician's party membership"
   ]
  },
  {
   "cell_type": "code",
   "execution_count": null,
   "metadata": {},
   "outputs": [],
   "source": [
    "vp.plot_politician_embeddings(df_all_votes, df_mandates, embeddings)"
   ]
  },
  {
   "cell_type": "markdown",
   "metadata": {},
   "source": [
    "![mandate embeddings](./README_files/mandate_embeddings.png)"
   ]
  },
  {
   "cell_type": "markdown",
   "metadata": {},
   "source": [
    "The politician embeddings may be the most surprising finding in its clarity. It seems we find for polls and politicians 2-3 clusters, but for politicians with a significant grouping of mandates associated with the government coalition. It seems we find one cluster for the government parties and one for the government opposition. "
   ]
  },
  {
   "cell_type": "markdown",
   "metadata": {},
   "source": [
    "## To dos / contributing\n",
    "\n",
    "Any contributions welcome. In the notebooks in `./nbs/` I've listed to dos here and there things which could be done.\n",
    "\n",
    "**General to dos**:\n",
    "- Check for discrepancies between bundestag.de and abgeordnetenwatch based data \n",
    "- Make the clustering of polls and policitians interactive\n",
    "- Extend the vote prediction model: currently, if the data is split by poll (which would be the realistic case when trying to predict votes of a new poll), the model is hardly better than chance. It would be interesting to see which information would help improve beyond chance.\n",
    "- Extend the data processed from the stored json responses from abgeordnetenwatch (currently only using the bare minimum)"
   ]
  },
  {
   "cell_type": "code",
   "execution_count": null,
   "metadata": {},
   "outputs": [],
   "source": []
  }
 ],
 "metadata": {
  "kernelspec": {
   "display_name": "Python 3 (ipykernel)",
   "language": "python",
   "name": "python3"
  },
  "language_info": {
   "codemirror_mode": {
    "name": "ipython",
    "version": 3
   },
   "file_extension": ".py",
   "mimetype": "text/x-python",
   "name": "python",
   "nbconvert_exporter": "python",
   "pygments_lexer": "ipython3",
   "version": "3.8.5"
  },
  "toc": {
   "base_numbering": 1,
   "nav_menu": {},
   "number_sections": true,
   "sideBar": true,
   "skip_h1_title": false,
   "title_cell": "Table of Contents",
   "title_sidebar": "Contents",
   "toc_cell": false,
   "toc_position": {},
   "toc_section_display": true,
   "toc_window_display": false
  }
 },
 "nbformat": 4,
 "nbformat_minor": 4
}
